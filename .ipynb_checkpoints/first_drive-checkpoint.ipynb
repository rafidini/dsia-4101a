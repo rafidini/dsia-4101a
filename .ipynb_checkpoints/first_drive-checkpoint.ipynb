{
 "cells": [
  {
   "cell_type": "markdown",
   "metadata": {},
   "source": [
    "# First look into data"
   ]
  },
  {
   "cell_type": "code",
   "execution_count": 123,
   "metadata": {},
   "outputs": [],
   "source": [
    "# Imports\n",
    "import pandas as pd\n",
    "import numpy as np\n",
    "import matplotlib.pyplot as plt\n",
    "import scipy.stats as sc"
   ]
  },
  {
   "cell_type": "markdown",
   "metadata": {},
   "source": [
    "Let's take a first look at our data, which consists of:\n",
    "* data/obesity.csv\n",
    "* data/employment.csv"
   ]
  },
  {
   "cell_type": "code",
   "execution_count": 2,
   "metadata": {},
   "outputs": [],
   "source": [
    "obesity = pd.read_csv('data/obesity.csv', index_col=0)\n",
    "employment = pd.read_csv('data/employment.csv')"
   ]
  },
  {
   "cell_type": "code",
   "execution_count": 3,
   "metadata": {},
   "outputs": [],
   "source": [
    "# Continent function\n",
    "import pycountry_convert as pc\n",
    "\n",
    "continents_dict = {\n",
    "    'NA': 'North America',\n",
    "    'SA': 'South America', \n",
    "    'AS': 'Asia',\n",
    "    'OC': 'Oceania',\n",
    "    'AF': 'Africa',\n",
    "    'EU': 'Europe',\n",
    "    '?': 'Unknown'\n",
    "}\n",
    "\n",
    "def convert_country_to_continent(country_name):\n",
    "    try:\n",
    "        country_code = pc.country_name_to_country_alpha2(country_name, cn_name_format=\"default\")\n",
    "        continent_code = pc.country_alpha2_to_continent_code(country_code)\n",
    "        return continents_dict[continent_code]\n",
    "    except:\n",
    "        \n",
    "        # Exception in employment\n",
    "        if country_name in ['Korea', 'Republic of Korea', 'Timor-Leste']: return continents_dict['AS']\n",
    "        \n",
    "        # Exceptions in obesity\n",
    "        else: return convert_country_to_continent(country_name.split(\" \")[0])\n",
    "        \n",
    "        return '?'\n",
    "    "
   ]
  },
  {
   "cell_type": "markdown",
   "metadata": {},
   "source": [
    "## Obesity\n",
    "Data from: https://apps.who.int/gho/data/node.main.A900A?lang=en"
   ]
  },
  {
   "cell_type": "code",
   "execution_count": 4,
   "metadata": {},
   "outputs": [
    {
     "data": {
      "text/html": [
       "<div>\n",
       "<style scoped>\n",
       "    .dataframe tbody tr th:only-of-type {\n",
       "        vertical-align: middle;\n",
       "    }\n",
       "\n",
       "    .dataframe tbody tr th {\n",
       "        vertical-align: top;\n",
       "    }\n",
       "\n",
       "    .dataframe thead th {\n",
       "        text-align: right;\n",
       "    }\n",
       "</style>\n",
       "<table border=\"1\" class=\"dataframe\">\n",
       "  <thead>\n",
       "    <tr style=\"text-align: right;\">\n",
       "      <th></th>\n",
       "      <th>Country</th>\n",
       "      <th>Year</th>\n",
       "      <th>Obesity (%)</th>\n",
       "      <th>Sex</th>\n",
       "    </tr>\n",
       "  </thead>\n",
       "  <tbody>\n",
       "    <tr>\n",
       "      <th>0</th>\n",
       "      <td>Afghanistan</td>\n",
       "      <td>1975</td>\n",
       "      <td>0.5 [0.2-1.1]</td>\n",
       "      <td>Both sexes</td>\n",
       "    </tr>\n",
       "    <tr>\n",
       "      <th>1</th>\n",
       "      <td>Afghanistan</td>\n",
       "      <td>1975</td>\n",
       "      <td>0.2 [0.0-0.6]</td>\n",
       "      <td>Male</td>\n",
       "    </tr>\n",
       "    <tr>\n",
       "      <th>2</th>\n",
       "      <td>Afghanistan</td>\n",
       "      <td>1975</td>\n",
       "      <td>0.8 [0.2-2.0]</td>\n",
       "      <td>Female</td>\n",
       "    </tr>\n",
       "    <tr>\n",
       "      <th>3</th>\n",
       "      <td>Afghanistan</td>\n",
       "      <td>1976</td>\n",
       "      <td>0.5 [0.2-1.1]</td>\n",
       "      <td>Both sexes</td>\n",
       "    </tr>\n",
       "    <tr>\n",
       "      <th>4</th>\n",
       "      <td>Afghanistan</td>\n",
       "      <td>1976</td>\n",
       "      <td>0.2 [0.0-0.7]</td>\n",
       "      <td>Male</td>\n",
       "    </tr>\n",
       "  </tbody>\n",
       "</table>\n",
       "</div>"
      ],
      "text/plain": [
       "       Country  Year    Obesity (%)         Sex\n",
       "0  Afghanistan  1975  0.5 [0.2-1.1]  Both sexes\n",
       "1  Afghanistan  1975  0.2 [0.0-0.6]        Male\n",
       "2  Afghanistan  1975  0.8 [0.2-2.0]      Female\n",
       "3  Afghanistan  1976  0.5 [0.2-1.1]  Both sexes\n",
       "4  Afghanistan  1976  0.2 [0.0-0.7]        Male"
      ]
     },
     "execution_count": 4,
     "metadata": {},
     "output_type": "execute_result"
    }
   ],
   "source": [
    "obesity.head()"
   ]
  },
  {
   "cell_type": "code",
   "execution_count": 5,
   "metadata": {
    "tags": []
   },
   "outputs": [
    {
     "name": "stdout",
     "output_type": "stream",
     "text": [
      "<class 'pandas.core.frame.DataFrame'>\n",
      "Int64Index: 24570 entries, 0 to 24569\n",
      "Data columns (total 4 columns):\n",
      " #   Column       Non-Null Count  Dtype \n",
      "---  ------       --------------  ----- \n",
      " 0   Country      24570 non-null  object\n",
      " 1   Year         24570 non-null  int64 \n",
      " 2   Obesity (%)  24570 non-null  object\n",
      " 3   Sex          24570 non-null  object\n",
      "dtypes: int64(1), object(3)\n",
      "memory usage: 959.8+ KB\n"
     ]
    }
   ],
   "source": [
    "obesity.info()"
   ]
  },
  {
   "cell_type": "markdown",
   "metadata": {},
   "source": [
    "### Variables\n",
    "* **Country**: Name of a country (Afghanistan, Belgium, ...)\n",
    "\n",
    "* **Year**: A year as an integer (1975, 1976, ...)\n",
    "\n",
    "* **Obesity (%)**: Percentage of obesity among the population as a string like this \"%f \\[%f-%f\\]\", with *%f* a float\n",
    "\n",
    "* **Sex**: A string representing either Males (\"Male\"), Females (\"Female\") and Both (\"Both sexes\")"
   ]
  },
  {
   "cell_type": "code",
   "execution_count": 6,
   "metadata": {},
   "outputs": [],
   "source": [
    "# New names\n",
    "names = {\n",
    "    \"Country\" : \"country\",\n",
    "    \"Year\" : \"year\",\n",
    "    \"Obesity (%)\" : \"str_obesity\",\n",
    "    \"Sex\" : \"sex\"\n",
    "}\n",
    "\n",
    "# Renaming columns\n",
    "obesity = obesity.rename(columns=names)"
   ]
  },
  {
   "cell_type": "code",
   "execution_count": 7,
   "metadata": {
    "tags": []
   },
   "outputs": [
    {
     "name": "stdout",
     "output_type": "stream",
     "text": [
      "<class 'pandas.core.frame.DataFrame'>\n",
      "Int64Index: 24570 entries, 0 to 24569\n",
      "Data columns (total 4 columns):\n",
      " #   Column       Non-Null Count  Dtype \n",
      "---  ------       --------------  ----- \n",
      " 0   country      24570 non-null  object\n",
      " 1   year         24570 non-null  int64 \n",
      " 2   str_obesity  24570 non-null  object\n",
      " 3   sex          24570 non-null  object\n",
      "dtypes: int64(1), object(3)\n",
      "memory usage: 959.8+ KB\n"
     ]
    }
   ],
   "source": [
    "obesity.info()"
   ]
  },
  {
   "cell_type": "markdown",
   "metadata": {},
   "source": [
    "#### Obesity\n",
    "The variable \"obesity\" must be processed because a float is wanted instead of a string as we currently have. So let's extract the 3 values in the string and create 3 variable/columns, named:\n",
    "* obesity\n",
    "* min_obesity\n",
    "* max_obesity"
   ]
  },
  {
   "cell_type": "code",
   "execution_count": 8,
   "metadata": {},
   "outputs": [],
   "source": [
    "import re # Module for regular expressions\n",
    "\n",
    "def extract_float(string, index=0):\n",
    "    \"\"\"\n",
    "    >>> extract_float(\"0.5 [0.1-0.7]\")\n",
    "    0.5\n",
    "    \"\"\"\n",
    "\n",
    "    # Worst case\n",
    "    if index < 0:\n",
    "        return None\n",
    "\n",
    "    # No data case\n",
    "    if string == \"No data\":\n",
    "        return 0.0\n",
    "\n",
    "    # Defining the regular expression\n",
    "    reg_exp = re.compile(\"\\d+\\.\\d+\")\n",
    "\n",
    "    # Tuple normally containing 3 float\n",
    "    t = [float(e) for e in reg_exp.findall(string)] \n",
    "\n",
    "    # Bad case 27 <= len(string) <= 31\n",
    "    if len(string) in range(27,31):\n",
    "        return (t[index] + t[index + 3]) / 2\n",
    "    # Normal case, 13 <= len(string) <= 16\n",
    "    else:\n",
    "        return t[index]\n"
   ]
  },
  {
   "cell_type": "code",
   "execution_count": 9,
   "metadata": {
    "tags": []
   },
   "outputs": [],
   "source": [
    "# New variables\n",
    "new_obesity_columns = ['obesity', 'min_obesity', 'max_obesity']\n",
    "\n",
    "# Create the new columns\n",
    "for i in range(len(new_obesity_columns)):\n",
    "    obesity[new_obesity_columns[i]] = obesity['str_obesity'].apply(lambda x: extract_float(x, index=i))"
   ]
  },
  {
   "cell_type": "code",
   "execution_count": 10,
   "metadata": {},
   "outputs": [
    {
     "data": {
      "text/html": [
       "<div>\n",
       "<style scoped>\n",
       "    .dataframe tbody tr th:only-of-type {\n",
       "        vertical-align: middle;\n",
       "    }\n",
       "\n",
       "    .dataframe tbody tr th {\n",
       "        vertical-align: top;\n",
       "    }\n",
       "\n",
       "    .dataframe thead th {\n",
       "        text-align: right;\n",
       "    }\n",
       "</style>\n",
       "<table border=\"1\" class=\"dataframe\">\n",
       "  <thead>\n",
       "    <tr style=\"text-align: right;\">\n",
       "      <th></th>\n",
       "      <th>country</th>\n",
       "      <th>year</th>\n",
       "      <th>str_obesity</th>\n",
       "      <th>sex</th>\n",
       "      <th>obesity</th>\n",
       "      <th>min_obesity</th>\n",
       "      <th>max_obesity</th>\n",
       "    </tr>\n",
       "  </thead>\n",
       "  <tbody>\n",
       "    <tr>\n",
       "      <th>0</th>\n",
       "      <td>Afghanistan</td>\n",
       "      <td>1975</td>\n",
       "      <td>0.5 [0.2-1.1]</td>\n",
       "      <td>Both sexes</td>\n",
       "      <td>0.5</td>\n",
       "      <td>0.2</td>\n",
       "      <td>1.1</td>\n",
       "    </tr>\n",
       "    <tr>\n",
       "      <th>1</th>\n",
       "      <td>Afghanistan</td>\n",
       "      <td>1975</td>\n",
       "      <td>0.2 [0.0-0.6]</td>\n",
       "      <td>Male</td>\n",
       "      <td>0.2</td>\n",
       "      <td>0.0</td>\n",
       "      <td>0.6</td>\n",
       "    </tr>\n",
       "    <tr>\n",
       "      <th>2</th>\n",
       "      <td>Afghanistan</td>\n",
       "      <td>1975</td>\n",
       "      <td>0.8 [0.2-2.0]</td>\n",
       "      <td>Female</td>\n",
       "      <td>0.8</td>\n",
       "      <td>0.2</td>\n",
       "      <td>2.0</td>\n",
       "    </tr>\n",
       "    <tr>\n",
       "      <th>3</th>\n",
       "      <td>Afghanistan</td>\n",
       "      <td>1976</td>\n",
       "      <td>0.5 [0.2-1.1]</td>\n",
       "      <td>Both sexes</td>\n",
       "      <td>0.5</td>\n",
       "      <td>0.2</td>\n",
       "      <td>1.1</td>\n",
       "    </tr>\n",
       "    <tr>\n",
       "      <th>4</th>\n",
       "      <td>Afghanistan</td>\n",
       "      <td>1976</td>\n",
       "      <td>0.2 [0.0-0.7]</td>\n",
       "      <td>Male</td>\n",
       "      <td>0.2</td>\n",
       "      <td>0.0</td>\n",
       "      <td>0.7</td>\n",
       "    </tr>\n",
       "  </tbody>\n",
       "</table>\n",
       "</div>"
      ],
      "text/plain": [
       "       country  year    str_obesity         sex  obesity  min_obesity  \\\n",
       "0  Afghanistan  1975  0.5 [0.2-1.1]  Both sexes      0.5          0.2   \n",
       "1  Afghanistan  1975  0.2 [0.0-0.6]        Male      0.2          0.0   \n",
       "2  Afghanistan  1975  0.8 [0.2-2.0]      Female      0.8          0.2   \n",
       "3  Afghanistan  1976  0.5 [0.2-1.1]  Both sexes      0.5          0.2   \n",
       "4  Afghanistan  1976  0.2 [0.0-0.7]        Male      0.2          0.0   \n",
       "\n",
       "   max_obesity  \n",
       "0          1.1  \n",
       "1          0.6  \n",
       "2          2.0  \n",
       "3          1.1  \n",
       "4          0.7  "
      ]
     },
     "execution_count": 10,
     "metadata": {},
     "output_type": "execute_result"
    }
   ],
   "source": [
    "obesity.head()"
   ]
  },
  {
   "cell_type": "markdown",
   "metadata": {},
   "source": [
    "#### Sex\n",
    "This variable is categorical and is representend by the following values:\n",
    "* **Male**\n",
    "* **Female**\n",
    "* **Both sexes**"
   ]
  },
  {
   "cell_type": "markdown",
   "metadata": {},
   "source": [
    "So in order to have a better visibility we will change the values by:\n",
    "* Male: **M**\n",
    "* Female: **F**\n",
    "* Both sexes: **B**"
   ]
  },
  {
   "cell_type": "code",
   "execution_count": 11,
   "metadata": {},
   "outputs": [],
   "source": [
    "# Unique values of the 'sex' variable\n",
    "current_sex = set(obesity.sex)\n",
    "\n",
    "# Create the dict in order to replace values in dataframee\n",
    "new_sex = {e:e[0].upper() for e in current_sex}\n",
    "\n",
    "# Replace values in dataframe\n",
    "obesity['sex'] = obesity['sex'].replace(new_sex)\n",
    "\n",
    "# Convert type to categorical\n",
    "obesity['sex'] = obesity['sex'].astype('category')"
   ]
  },
  {
   "cell_type": "markdown",
   "metadata": {},
   "source": [
    "#### Country and Year\n",
    "the variable 'year' already has the right type and 'country' just need the right type."
   ]
  },
  {
   "cell_type": "code",
   "execution_count": 12,
   "metadata": {},
   "outputs": [],
   "source": [
    "# Convert type to string\n",
    "obesity['country'] = obesity['country'].astype('string')"
   ]
  },
  {
   "cell_type": "markdown",
   "metadata": {},
   "source": [
    "#### Some cleaning bro"
   ]
  },
  {
   "cell_type": "code",
   "execution_count": 13,
   "metadata": {},
   "outputs": [],
   "source": [
    "# Keep what we want\n",
    "dirty = ['str_obesity']\n",
    "obesity = obesity[ [e for e in obesity.columns if e not in dirty] ]"
   ]
  },
  {
   "cell_type": "markdown",
   "metadata": {},
   "source": [
    "#### Continent\n",
    "The variable 'continent' will be added because of grouping per continent."
   ]
  },
  {
   "cell_type": "code",
   "execution_count": 14,
   "metadata": {},
   "outputs": [],
   "source": [
    "obesity['continent'] = obesity['country'].apply(lambda x: convert_country_to_continent(x))"
   ]
  },
  {
   "cell_type": "markdown",
   "metadata": {},
   "source": [
    "### Final result"
   ]
  },
  {
   "cell_type": "code",
   "execution_count": 15,
   "metadata": {},
   "outputs": [
    {
     "data": {
      "text/html": [
       "<div>\n",
       "<style scoped>\n",
       "    .dataframe tbody tr th:only-of-type {\n",
       "        vertical-align: middle;\n",
       "    }\n",
       "\n",
       "    .dataframe tbody tr th {\n",
       "        vertical-align: top;\n",
       "    }\n",
       "\n",
       "    .dataframe thead th {\n",
       "        text-align: right;\n",
       "    }\n",
       "</style>\n",
       "<table border=\"1\" class=\"dataframe\">\n",
       "  <thead>\n",
       "    <tr style=\"text-align: right;\">\n",
       "      <th></th>\n",
       "      <th>country</th>\n",
       "      <th>year</th>\n",
       "      <th>sex</th>\n",
       "      <th>obesity</th>\n",
       "      <th>min_obesity</th>\n",
       "      <th>max_obesity</th>\n",
       "      <th>continent</th>\n",
       "    </tr>\n",
       "  </thead>\n",
       "  <tbody>\n",
       "    <tr>\n",
       "      <th>0</th>\n",
       "      <td>Afghanistan</td>\n",
       "      <td>1975</td>\n",
       "      <td>B</td>\n",
       "      <td>0.5</td>\n",
       "      <td>0.2</td>\n",
       "      <td>1.1</td>\n",
       "      <td>Asia</td>\n",
       "    </tr>\n",
       "    <tr>\n",
       "      <th>1</th>\n",
       "      <td>Afghanistan</td>\n",
       "      <td>1975</td>\n",
       "      <td>M</td>\n",
       "      <td>0.2</td>\n",
       "      <td>0.0</td>\n",
       "      <td>0.6</td>\n",
       "      <td>Asia</td>\n",
       "    </tr>\n",
       "    <tr>\n",
       "      <th>2</th>\n",
       "      <td>Afghanistan</td>\n",
       "      <td>1975</td>\n",
       "      <td>F</td>\n",
       "      <td>0.8</td>\n",
       "      <td>0.2</td>\n",
       "      <td>2.0</td>\n",
       "      <td>Asia</td>\n",
       "    </tr>\n",
       "    <tr>\n",
       "      <th>3</th>\n",
       "      <td>Afghanistan</td>\n",
       "      <td>1976</td>\n",
       "      <td>B</td>\n",
       "      <td>0.5</td>\n",
       "      <td>0.2</td>\n",
       "      <td>1.1</td>\n",
       "      <td>Asia</td>\n",
       "    </tr>\n",
       "    <tr>\n",
       "      <th>4</th>\n",
       "      <td>Afghanistan</td>\n",
       "      <td>1976</td>\n",
       "      <td>M</td>\n",
       "      <td>0.2</td>\n",
       "      <td>0.0</td>\n",
       "      <td>0.7</td>\n",
       "      <td>Asia</td>\n",
       "    </tr>\n",
       "  </tbody>\n",
       "</table>\n",
       "</div>"
      ],
      "text/plain": [
       "       country  year sex  obesity  min_obesity  max_obesity continent\n",
       "0  Afghanistan  1975   B      0.5          0.2          1.1      Asia\n",
       "1  Afghanistan  1975   M      0.2          0.0          0.6      Asia\n",
       "2  Afghanistan  1975   F      0.8          0.2          2.0      Asia\n",
       "3  Afghanistan  1976   B      0.5          0.2          1.1      Asia\n",
       "4  Afghanistan  1976   M      0.2          0.0          0.7      Asia"
      ]
     },
     "execution_count": 15,
     "metadata": {},
     "output_type": "execute_result"
    }
   ],
   "source": [
    "obesity.head()"
   ]
  },
  {
   "cell_type": "code",
   "execution_count": 16,
   "metadata": {
    "tags": []
   },
   "outputs": [
    {
     "name": "stdout",
     "output_type": "stream",
     "text": [
      "<class 'pandas.core.frame.DataFrame'>\n",
      "Int64Index: 24570 entries, 0 to 24569\n",
      "Data columns (total 7 columns):\n",
      " #   Column       Non-Null Count  Dtype   \n",
      "---  ------       --------------  -----   \n",
      " 0   country      24570 non-null  string  \n",
      " 1   year         24570 non-null  int64   \n",
      " 2   sex          24570 non-null  category\n",
      " 3   obesity      24570 non-null  float64 \n",
      " 4   min_obesity  24570 non-null  float64 \n",
      " 5   max_obesity  24570 non-null  float64 \n",
      " 6   continent    24570 non-null  object  \n",
      "dtypes: category(1), float64(3), int64(1), object(1), string(1)\n",
      "memory usage: 1.3+ MB\n"
     ]
    }
   ],
   "source": [
    "obesity.info()"
   ]
  },
  {
   "cell_type": "code",
   "execution_count": 17,
   "metadata": {},
   "outputs": [
    {
     "data": {
      "text/html": [
       "<div>\n",
       "<style scoped>\n",
       "    .dataframe tbody tr th:only-of-type {\n",
       "        vertical-align: middle;\n",
       "    }\n",
       "\n",
       "    .dataframe tbody tr th {\n",
       "        vertical-align: top;\n",
       "    }\n",
       "\n",
       "    .dataframe thead th {\n",
       "        text-align: right;\n",
       "    }\n",
       "</style>\n",
       "<table border=\"1\" class=\"dataframe\">\n",
       "  <thead>\n",
       "    <tr style=\"text-align: right;\">\n",
       "      <th></th>\n",
       "      <th>year</th>\n",
       "      <th>obesity</th>\n",
       "      <th>min_obesity</th>\n",
       "      <th>max_obesity</th>\n",
       "    </tr>\n",
       "  </thead>\n",
       "  <tbody>\n",
       "    <tr>\n",
       "      <th>count</th>\n",
       "      <td>24570.000000</td>\n",
       "      <td>24570.000000</td>\n",
       "      <td>24570.000000</td>\n",
       "      <td>24570.000000</td>\n",
       "    </tr>\n",
       "    <tr>\n",
       "      <th>mean</th>\n",
       "      <td>1995.500000</td>\n",
       "      <td>12.193630</td>\n",
       "      <td>9.047705</td>\n",
       "      <td>15.899422</td>\n",
       "    </tr>\n",
       "    <tr>\n",
       "      <th>std</th>\n",
       "      <td>12.121165</td>\n",
       "      <td>10.450249</td>\n",
       "      <td>8.860355</td>\n",
       "      <td>12.100114</td>\n",
       "    </tr>\n",
       "    <tr>\n",
       "      <th>min</th>\n",
       "      <td>1975.000000</td>\n",
       "      <td>0.000000</td>\n",
       "      <td>0.000000</td>\n",
       "      <td>0.000000</td>\n",
       "    </tr>\n",
       "    <tr>\n",
       "      <th>25%</th>\n",
       "      <td>1985.000000</td>\n",
       "      <td>3.600000</td>\n",
       "      <td>2.000000</td>\n",
       "      <td>5.800000</td>\n",
       "    </tr>\n",
       "    <tr>\n",
       "      <th>50%</th>\n",
       "      <td>1995.500000</td>\n",
       "      <td>10.300000</td>\n",
       "      <td>6.800000</td>\n",
       "      <td>14.500000</td>\n",
       "    </tr>\n",
       "    <tr>\n",
       "      <th>75%</th>\n",
       "      <td>2006.000000</td>\n",
       "      <td>18.000000</td>\n",
       "      <td>13.600000</td>\n",
       "      <td>22.900000</td>\n",
       "    </tr>\n",
       "    <tr>\n",
       "      <th>max</th>\n",
       "      <td>2016.000000</td>\n",
       "      <td>63.300000</td>\n",
       "      <td>55.600000</td>\n",
       "      <td>70.800000</td>\n",
       "    </tr>\n",
       "  </tbody>\n",
       "</table>\n",
       "</div>"
      ],
      "text/plain": [
       "               year       obesity   min_obesity   max_obesity\n",
       "count  24570.000000  24570.000000  24570.000000  24570.000000\n",
       "mean    1995.500000     12.193630      9.047705     15.899422\n",
       "std       12.121165     10.450249      8.860355     12.100114\n",
       "min     1975.000000      0.000000      0.000000      0.000000\n",
       "25%     1985.000000      3.600000      2.000000      5.800000\n",
       "50%     1995.500000     10.300000      6.800000     14.500000\n",
       "75%     2006.000000     18.000000     13.600000     22.900000\n",
       "max     2016.000000     63.300000     55.600000     70.800000"
      ]
     },
     "execution_count": 17,
     "metadata": {},
     "output_type": "execute_result"
    }
   ],
   "source": [
    "obesity.describe()"
   ]
  },
  {
   "cell_type": "markdown",
   "metadata": {},
   "source": [
    "### Save the data"
   ]
  },
  {
   "cell_type": "code",
   "execution_count": 18,
   "metadata": {},
   "outputs": [],
   "source": [
    "# obesity.to_csv('data/obesity_final.csv', index=False)"
   ]
  },
  {
   "cell_type": "markdown",
   "metadata": {},
   "source": [
    "## Employment\n",
    "Data from: https://stats.oecd.org/Index.aspx?DataSetCode=QNA\n",
    "Theme: **Labour/Labour Force Statistics/Annual Labour Force Statistics/Employment by activities**"
   ]
  },
  {
   "cell_type": "code",
   "execution_count": 19,
   "metadata": {},
   "outputs": [
    {
     "data": {
      "text/html": [
       "<div>\n",
       "<style scoped>\n",
       "    .dataframe tbody tr th:only-of-type {\n",
       "        vertical-align: middle;\n",
       "    }\n",
       "\n",
       "    .dataframe tbody tr th {\n",
       "        vertical-align: top;\n",
       "    }\n",
       "\n",
       "    .dataframe thead th {\n",
       "        text-align: right;\n",
       "    }\n",
       "</style>\n",
       "<table border=\"1\" class=\"dataframe\">\n",
       "  <thead>\n",
       "    <tr style=\"text-align: right;\">\n",
       "      <th></th>\n",
       "      <th>LOCATION</th>\n",
       "      <th>Country</th>\n",
       "      <th>SUBJECT</th>\n",
       "      <th>Subject</th>\n",
       "      <th>SEX</th>\n",
       "      <th>Sex</th>\n",
       "      <th>FREQUENCY</th>\n",
       "      <th>Frequency</th>\n",
       "      <th>TIME</th>\n",
       "      <th>Time</th>\n",
       "      <th>Unit Code</th>\n",
       "      <th>Unit</th>\n",
       "      <th>PowerCode Code</th>\n",
       "      <th>PowerCode</th>\n",
       "      <th>Reference Period Code</th>\n",
       "      <th>Reference Period</th>\n",
       "      <th>Value</th>\n",
       "      <th>Flag Codes</th>\n",
       "      <th>Flags</th>\n",
       "    </tr>\n",
       "  </thead>\n",
       "  <tbody>\n",
       "    <tr>\n",
       "      <th>0</th>\n",
       "      <td>BEL</td>\n",
       "      <td>Belgium</td>\n",
       "      <td>YA994TL1_ST</td>\n",
       "      <td>Employment in all activities (ISIC rev.4, A-U)</td>\n",
       "      <td>MA</td>\n",
       "      <td>Males</td>\n",
       "      <td>A</td>\n",
       "      <td>Annual</td>\n",
       "      <td>2008</td>\n",
       "      <td>2008</td>\n",
       "      <td>PER</td>\n",
       "      <td>Persons</td>\n",
       "      <td>3</td>\n",
       "      <td>Thousands</td>\n",
       "      <td>NaN</td>\n",
       "      <td>NaN</td>\n",
       "      <td>2460.675</td>\n",
       "      <td>NaN</td>\n",
       "      <td>NaN</td>\n",
       "    </tr>\n",
       "    <tr>\n",
       "      <th>1</th>\n",
       "      <td>BEL</td>\n",
       "      <td>Belgium</td>\n",
       "      <td>YA994TL1_ST</td>\n",
       "      <td>Employment in all activities (ISIC rev.4, A-U)</td>\n",
       "      <td>MA</td>\n",
       "      <td>Males</td>\n",
       "      <td>A</td>\n",
       "      <td>Annual</td>\n",
       "      <td>2009</td>\n",
       "      <td>2009</td>\n",
       "      <td>PER</td>\n",
       "      <td>Persons</td>\n",
       "      <td>3</td>\n",
       "      <td>Thousands</td>\n",
       "      <td>NaN</td>\n",
       "      <td>NaN</td>\n",
       "      <td>2429.325</td>\n",
       "      <td>NaN</td>\n",
       "      <td>NaN</td>\n",
       "    </tr>\n",
       "  </tbody>\n",
       "</table>\n",
       "</div>"
      ],
      "text/plain": [
       "  LOCATION  Country      SUBJECT  \\\n",
       "0      BEL  Belgium  YA994TL1_ST   \n",
       "1      BEL  Belgium  YA994TL1_ST   \n",
       "\n",
       "                                          Subject SEX    Sex FREQUENCY  \\\n",
       "0  Employment in all activities (ISIC rev.4, A-U)  MA  Males         A   \n",
       "1  Employment in all activities (ISIC rev.4, A-U)  MA  Males         A   \n",
       "\n",
       "  Frequency  TIME  Time Unit Code     Unit  PowerCode Code  PowerCode  \\\n",
       "0    Annual  2008  2008       PER  Persons               3  Thousands   \n",
       "1    Annual  2009  2009       PER  Persons               3  Thousands   \n",
       "\n",
       "   Reference Period Code  Reference Period     Value Flag Codes Flags  \n",
       "0                    NaN               NaN  2460.675        NaN   NaN  \n",
       "1                    NaN               NaN  2429.325        NaN   NaN  "
      ]
     },
     "execution_count": 19,
     "metadata": {},
     "output_type": "execute_result"
    }
   ],
   "source": [
    "employment.head(2)"
   ]
  },
  {
   "cell_type": "code",
   "execution_count": 20,
   "metadata": {
    "tags": []
   },
   "outputs": [
    {
     "name": "stdout",
     "output_type": "stream",
     "text": [
      "<class 'pandas.core.frame.DataFrame'>\n",
      "RangeIndex: 24880 entries, 0 to 24879\n",
      "Data columns (total 19 columns):\n",
      " #   Column                 Non-Null Count  Dtype  \n",
      "---  ------                 --------------  -----  \n",
      " 0   LOCATION               24880 non-null  object \n",
      " 1   Country                24880 non-null  object \n",
      " 2   SUBJECT                24880 non-null  object \n",
      " 3   Subject                24880 non-null  object \n",
      " 4   SEX                    24880 non-null  object \n",
      " 5   Sex                    24880 non-null  object \n",
      " 6   FREQUENCY              24880 non-null  object \n",
      " 7   Frequency              24880 non-null  object \n",
      " 8   TIME                   24880 non-null  int64  \n",
      " 9   Time                   24880 non-null  int64  \n",
      " 10  Unit Code              24880 non-null  object \n",
      " 11  Unit                   24880 non-null  object \n",
      " 12  PowerCode Code         24880 non-null  int64  \n",
      " 13  PowerCode              24880 non-null  object \n",
      " 14  Reference Period Code  0 non-null      float64\n",
      " 15  Reference Period       0 non-null      float64\n",
      " 16  Value                  24880 non-null  float64\n",
      " 17  Flag Codes             1641 non-null   object \n",
      " 18  Flags                  1641 non-null   object \n",
      "dtypes: float64(3), int64(3), object(13)\n",
      "memory usage: 3.6+ MB\n"
     ]
    }
   ],
   "source": [
    "employment.info()"
   ]
  },
  {
   "cell_type": "markdown",
   "metadata": {},
   "source": []
  },
  {
   "cell_type": "markdown",
   "metadata": {},
   "source": [
    "### Variables\n",
    "\n",
    "Here are the most relevant variables that will be needed for the project:\n",
    "* **LOCATION**: The country code, in case we need it\n",
    "* **Country**: The name of the country\n",
    "* **Subject**: The type of professional activity\n",
    "* **Sex**: The gender\n",
    "* **Time**: The year \n",
    "* **Value**: The number of people times the 10^**PowerCode**"
   ]
  },
  {
   "cell_type": "markdown",
   "metadata": {},
   "source": [
    "#### Dropping the useless columns"
   ]
  },
  {
   "cell_type": "code",
   "execution_count": 21,
   "metadata": {},
   "outputs": [],
   "source": [
    "useless_columns = ['SUBJECT', 'Frequency', 'SEX', 'FREQUENCY', 'TIME', 'Unit Code', 'Reference Period Code', 'Reference Period', 'Flag Codes', 'Flags', 'Unit', 'PowerCode', 'PowerCode Code']\n",
    "employment = employment.drop(columns=useless_columns)"
   ]
  },
  {
   "cell_type": "markdown",
   "metadata": {},
   "source": [
    "#### LOCATION & Country\n",
    "Let's rename the indexes and change the type of the variables in order to make them more understandable."
   ]
  },
  {
   "cell_type": "code",
   "execution_count": 22,
   "metadata": {
    "tags": []
   },
   "outputs": [],
   "source": [
    "loc_country = {'LOCATION':'country_code', 'Country':'country'}\n",
    "employment = employment.rename(columns=loc_country)\n",
    "\n",
    "for col in loc_country.values():\n",
    "    employment[col] = employment[col].astype('string')"
   ]
  },
  {
   "cell_type": "markdown",
   "metadata": {},
   "source": [
    "#### Subject\n",
    "Let's try to understand this variable and make it more understandable."
   ]
  },
  {
   "cell_type": "code",
   "execution_count": 23,
   "metadata": {},
   "outputs": [
    {
     "data": {
      "text/plain": [
       "['Employment in all activities (ISIC rev.4, A-U)',\n",
       " 'Employment in Agriculture,hunting and forestry (ISIC rev4, A)',\n",
       " 'Agriculture,hunting and forestry (A) ',\n",
       " 'Employment in Industry (ISIC rev4, B-F)',\n",
       " 'Mining and quarrying (B)',\n",
       " 'Manufacturing (C )',\n",
       " 'Electricity, gas, steam and air conditioning supply (D)',\n",
       " 'Water supply, sewerage, waste management and remediation activities (E)',\n",
       " 'Construction (F)',\n",
       " 'Employment in Services (ISIC rev.4, G-U)',\n",
       " 'Wholesale and retail trade, repair of motor vehicles and motorcycles (G)',\n",
       " 'Transportation and storage (H)',\n",
       " 'Accommodation and food service activities (I)',\n",
       " 'Information and communication (J)',\n",
       " 'Financial and insurance activities (K)',\n",
       " 'Real estate activities (L)',\n",
       " 'Professional, scientific and technical activities (M)',\n",
       " 'Administrative and support service activities (N)',\n",
       " 'Public administration and defence, Compulsory social security (O)',\n",
       " 'Education (P)',\n",
       " 'Human health and social work activities (Q)',\n",
       " 'Arts, entertainment and recreation ( R)',\n",
       " 'Other service activities (S)',\n",
       " 'Activities of households as employers undifferentiated goods- and services-producing activities of households for own use (T)',\n",
       " 'Activities of extraterritorial organisations and bodies (U)']"
      ]
     },
     "execution_count": 23,
     "metadata": {},
     "output_type": "execute_result"
    }
   ],
   "source": [
    "employment['Subject'].unique().tolist()\n"
   ]
  },
  {
   "cell_type": "markdown",
   "metadata": {},
   "source": [
    "#### Task: Identify which activity can be classified as desk job.\n",
    "After identifying the manual and desk activities we will create a new variable 'activity' which will either be **MANUAL** or **DESK**."
   ]
  },
  {
   "cell_type": "code",
   "execution_count": null,
   "metadata": {},
   "outputs": [],
   "source": []
  },
  {
   "cell_type": "code",
   "execution_count": 24,
   "metadata": {},
   "outputs": [],
   "source": [
    "# Temporary identification\n",
    "manual_activity = [\n",
    "    'Employment in Agriculture,hunting and forestry (ISIC rev4, A)', # + Ss categories\n",
    "    'Employment in Industry (ISIC rev4, B-F)', # + Ss categories\n",
    "    'Wholesale and retail trade, repair of motor vehicles and motorcycles (G)',\n",
    "    'Transportation and storage (H)',\n",
    "    'Accommodation and food service activities (I)',\n",
    "    'Other service activities (S)',\n",
    "    'Activities of households as employers undifferentiated goods- and services-producing activities of households for own use (T)',\n",
    "]\n",
    "\n",
    "no_manual_activity = [\n",
    "    'Information and communication (J)',\n",
    "    'Financial and insurance activities (K)',\n",
    "    'Real estate activities (L)',\n",
    "    'Professional, scientific and technical activities (M)',\n",
    "    'Administrative and support service activities (N)',\n",
    "    'Public administration and defence, Compulsory social security (O)',\n",
    "    'Education (P)',\n",
    "    'Human health and social work activities (Q)',\n",
    "    'Arts, entertainment and recreation ( R)',\n",
    "    'Activities of extraterritorial organisations and bodies (U)'\n",
    "]\n",
    "\n",
    "def is_desk_manual(string):\n",
    "    manual = ['A', 'B', 'C ', 'D', 'E', 'F', 'G', 'H', 'I', 'S', 'T']\n",
    "    desk = ['J', 'K', 'L', 'M', 'N', 'O', 'P', 'Q', ' R', 'U']\n",
    "    \n",
    "    for x in manual:\n",
    "        if '({})'.format(x) in string: return 'M'\n",
    "    for x in desk:\n",
    "        if '({})'.format(x) in string: return 'D'\n",
    "        \n",
    "    return 'U'\n",
    "\n",
    "    "
   ]
  },
  {
   "cell_type": "code",
   "execution_count": 25,
   "metadata": {},
   "outputs": [],
   "source": [
    "# Create a new variable\n",
    "employment['activity'] = employment['Subject'].apply(lambda x: is_desk_manual(x))\n",
    "\n",
    "# Delete the former\n",
    "employment = employment.rename(columns={'Subject':'subject'})"
   ]
  },
  {
   "cell_type": "code",
   "execution_count": 26,
   "metadata": {
    "tags": []
   },
   "outputs": [],
   "source": [
    "# Change the type of the variable\n",
    "employment['activity'] = employment['activity'].astype('category')"
   ]
  },
  {
   "cell_type": "code",
   "execution_count": 27,
   "metadata": {},
   "outputs": [
    {
     "data": {
      "text/plain": [
       "['Information and communication (J)',\n",
       " 'Financial and insurance activities (K)',\n",
       " 'Real estate activities (L)',\n",
       " 'Professional, scientific and technical activities (M)',\n",
       " 'Administrative and support service activities (N)',\n",
       " 'Public administration and defence, Compulsory social security (O)',\n",
       " 'Education (P)',\n",
       " 'Human health and social work activities (Q)',\n",
       " 'Arts, entertainment and recreation ( R)',\n",
       " 'Activities of extraterritorial organisations and bodies (U)']"
      ]
     },
     "execution_count": 27,
     "metadata": {},
     "output_type": "execute_result"
    }
   ],
   "source": [
    "employment.query(\"activity == 'D'\")['subject'].unique().tolist()"
   ]
  },
  {
   "cell_type": "code",
   "execution_count": 28,
   "metadata": {},
   "outputs": [
    {
     "data": {
      "text/plain": [
       "['Agriculture,hunting and forestry (A) ',\n",
       " 'Mining and quarrying (B)',\n",
       " 'Manufacturing (C )',\n",
       " 'Electricity, gas, steam and air conditioning supply (D)',\n",
       " 'Water supply, sewerage, waste management and remediation activities (E)',\n",
       " 'Construction (F)',\n",
       " 'Wholesale and retail trade, repair of motor vehicles and motorcycles (G)',\n",
       " 'Transportation and storage (H)',\n",
       " 'Accommodation and food service activities (I)',\n",
       " 'Other service activities (S)',\n",
       " 'Activities of households as employers undifferentiated goods- and services-producing activities of households for own use (T)']"
      ]
     },
     "execution_count": 28,
     "metadata": {},
     "output_type": "execute_result"
    }
   ],
   "source": [
    "employment.query(\"activity == 'M'\")['subject'].unique().tolist()"
   ]
  },
  {
   "cell_type": "code",
   "execution_count": 29,
   "metadata": {},
   "outputs": [
    {
     "data": {
      "text/plain": [
       "['Employment in all activities (ISIC rev.4, A-U)',\n",
       " 'Employment in Agriculture,hunting and forestry (ISIC rev4, A)',\n",
       " 'Employment in Industry (ISIC rev4, B-F)',\n",
       " 'Employment in Services (ISIC rev.4, G-U)']"
      ]
     },
     "execution_count": 29,
     "metadata": {},
     "output_type": "execute_result"
    }
   ],
   "source": [
    "employment.query(\"activity == 'U'\")['subject'].unique().tolist()"
   ]
  },
  {
   "cell_type": "markdown",
   "metadata": {
    "tags": []
   },
   "source": [
    "#### Sex\n",
    "Let's change values in order to make them like in the **obesity dataset** and also change the type."
   ]
  },
  {
   "cell_type": "code",
   "execution_count": 30,
   "metadata": {},
   "outputs": [
    {
     "data": {
      "text/plain": [
       "['Males', 'Females', 'All persons']"
      ]
     },
     "execution_count": 30,
     "metadata": {},
     "output_type": "execute_result"
    }
   ],
   "source": [
    "employment['Sex'].unique().tolist()"
   ]
  },
  {
   "cell_type": "code",
   "execution_count": 31,
   "metadata": {},
   "outputs": [],
   "source": [
    "sex_values = {\n",
    "    \"Males\":'M',\n",
    "    \"Females\":'F',\n",
    "    \"All persons\":'B'\n",
    "}\n",
    "\n",
    "# Replace values\n",
    "employment = employment.replace({'Sex':sex_values})\n",
    "\n",
    "# Change the type of the variable\n",
    "employment['Sex'] = employment['Sex'].astype('category')\n",
    "\n",
    "# Rename variable\n",
    "employment = employment.rename(columns={'Sex':'sex'})"
   ]
  },
  {
   "cell_type": "markdown",
   "metadata": {
    "tags": []
   },
   "source": [
    "#### Time\n",
    "Let's take a look at this variable."
   ]
  },
  {
   "cell_type": "code",
   "execution_count": 32,
   "metadata": {
    "scrolled": false
   },
   "outputs": [
    {
     "data": {
      "text/plain": [
       "2016    2179\n",
       "2017    2165\n",
       "2018    2162\n",
       "2015    2135\n",
       "2013    2116\n",
       "2014    2112\n",
       "2019    2080\n",
       "2012    2063\n",
       "2011    2050\n",
       "2010    2046\n",
       "2009    1917\n",
       "2008    1855\n",
       "Name: Time, dtype: int64"
      ]
     },
     "execution_count": 32,
     "metadata": {},
     "output_type": "execute_result"
    }
   ],
   "source": [
    "employment['Time'].value_counts()"
   ]
  },
  {
   "cell_type": "markdown",
   "metadata": {},
   "source": [
    "We can see that the **Time** variable represents years between \\[2008:2019\\]. So let's replace the **Time** variable to **year**."
   ]
  },
  {
   "cell_type": "code",
   "execution_count": 33,
   "metadata": {},
   "outputs": [],
   "source": [
    "# Change variable\n",
    "employment = employment.rename(columns={'Time':'year'})"
   ]
  },
  {
   "cell_type": "code",
   "execution_count": null,
   "metadata": {
    "tags": []
   },
   "outputs": [],
   "source": []
  },
  {
   "cell_type": "markdown",
   "metadata": {},
   "source": [
    "#### Value\n",
    "The most important variable."
   ]
  },
  {
   "cell_type": "code",
   "execution_count": 34,
   "metadata": {},
   "outputs": [],
   "source": [
    "# Rename the variable\n",
    "employment = employment.rename(columns={'Value':'value'})\n",
    "\n",
    "# Changing the values\n",
    "employment['value'] = employment['value'].apply(lambda x: x* 1000) "
   ]
  },
  {
   "cell_type": "markdown",
   "metadata": {},
   "source": [
    "#### Continent\n",
    "The 'continent' variable is also added."
   ]
  },
  {
   "cell_type": "code",
   "execution_count": 35,
   "metadata": {},
   "outputs": [],
   "source": [
    "employment['continent'] = employment['country'].apply(lambda x: convert_country_to_continent(x))"
   ]
  },
  {
   "cell_type": "markdown",
   "metadata": {},
   "source": [
    "### Final Check"
   ]
  },
  {
   "cell_type": "code",
   "execution_count": 36,
   "metadata": {
    "tags": []
   },
   "outputs": [
    {
     "name": "stdout",
     "output_type": "stream",
     "text": [
      "<class 'pandas.core.frame.DataFrame'>\n",
      "RangeIndex: 24880 entries, 0 to 24879\n",
      "Data columns (total 8 columns):\n",
      " #   Column        Non-Null Count  Dtype   \n",
      "---  ------        --------------  -----   \n",
      " 0   country_code  24880 non-null  string  \n",
      " 1   country       24880 non-null  string  \n",
      " 2   subject       24880 non-null  object  \n",
      " 3   sex           24880 non-null  category\n",
      " 4   year          24880 non-null  int64   \n",
      " 5   value         24880 non-null  float64 \n",
      " 6   activity      24880 non-null  category\n",
      " 7   continent     24880 non-null  object  \n",
      "dtypes: category(2), float64(1), int64(1), object(2), string(2)\n",
      "memory usage: 1.2+ MB\n"
     ]
    }
   ],
   "source": [
    "employment.info()"
   ]
  },
  {
   "cell_type": "code",
   "execution_count": 37,
   "metadata": {
    "tags": []
   },
   "outputs": [
    {
     "name": "stdout",
     "output_type": "stream",
     "text": [
      "B    10067\n",
      "M     7411\n",
      "F     7402\n",
      "Name: sex, dtype: int64\n",
      "\n",
      "M    10750\n",
      "D     9643\n",
      "U     4487\n",
      "Name: activity, dtype: int64\n",
      "\n"
     ]
    }
   ],
   "source": [
    "cat = ['sex', 'activity']\n",
    "\n",
    "for e in cat:\n",
    "    print(employment[e].value_counts())\n",
    "    print()"
   ]
  },
  {
   "cell_type": "code",
   "execution_count": 38,
   "metadata": {},
   "outputs": [
    {
     "data": {
      "text/plain": [
       "<StringArray>\n",
       "[        'Belgium',  'Czech Republic',         'Denmark',         'Finland',\n",
       "         'Germany',          'Greece',         'Hungary',         'Iceland',\n",
       "           'Italy',           'Japan',           'Korea',          'Mexico',\n",
       "     'Netherlands',          'Norway',          'Poland',        'Portugal',\n",
       " 'Slovak Republic',           'Spain',          'Sweden',     'Switzerland',\n",
       "          'Turkey',  'United Kingdom',         'Estonia',        'Slovenia',\n",
       "     'New Zealand',      'Luxembourg',         'Austria',          'Israel',\n",
       "          'Latvia',          'France',         'Ireland',       'Australia',\n",
       "           'Chile',       'Lithuania',          'Brazil',      'Costa Rica',\n",
       "          'Russia',        'Colombia']\n",
       "Length: 38, dtype: string"
      ]
     },
     "execution_count": 38,
     "metadata": {},
     "output_type": "execute_result"
    }
   ],
   "source": [
    "employment['country'].unique()"
   ]
  },
  {
   "cell_type": "code",
   "execution_count": 39,
   "metadata": {},
   "outputs": [
    {
     "data": {
      "text/html": [
       "<div>\n",
       "<style scoped>\n",
       "    .dataframe tbody tr th:only-of-type {\n",
       "        vertical-align: middle;\n",
       "    }\n",
       "\n",
       "    .dataframe tbody tr th {\n",
       "        vertical-align: top;\n",
       "    }\n",
       "\n",
       "    .dataframe thead th {\n",
       "        text-align: right;\n",
       "    }\n",
       "</style>\n",
       "<table border=\"1\" class=\"dataframe\">\n",
       "  <thead>\n",
       "    <tr style=\"text-align: right;\">\n",
       "      <th></th>\n",
       "      <th>year</th>\n",
       "      <th>value</th>\n",
       "    </tr>\n",
       "  </thead>\n",
       "  <tbody>\n",
       "    <tr>\n",
       "      <th>count</th>\n",
       "      <td>24880.000000</td>\n",
       "      <td>2.488000e+04</td>\n",
       "    </tr>\n",
       "    <tr>\n",
       "      <th>mean</th>\n",
       "      <td>2013.628014</td>\n",
       "      <td>1.358108e+06</td>\n",
       "    </tr>\n",
       "    <tr>\n",
       "      <th>std</th>\n",
       "      <td>3.412644</td>\n",
       "      <td>4.635936e+06</td>\n",
       "    </tr>\n",
       "    <tr>\n",
       "      <th>min</th>\n",
       "      <td>2008.000000</td>\n",
       "      <td>0.000000e+00</td>\n",
       "    </tr>\n",
       "    <tr>\n",
       "      <th>25%</th>\n",
       "      <td>2011.000000</td>\n",
       "      <td>3.945000e+04</td>\n",
       "    </tr>\n",
       "    <tr>\n",
       "      <th>50%</th>\n",
       "      <td>2014.000000</td>\n",
       "      <td>1.700875e+05</td>\n",
       "    </tr>\n",
       "    <tr>\n",
       "      <th>75%</th>\n",
       "      <td>2017.000000</td>\n",
       "      <td>7.964125e+05</td>\n",
       "    </tr>\n",
       "    <tr>\n",
       "      <th>max</th>\n",
       "      <td>2019.000000</td>\n",
       "      <td>9.220573e+07</td>\n",
       "    </tr>\n",
       "  </tbody>\n",
       "</table>\n",
       "</div>"
      ],
      "text/plain": [
       "               year         value\n",
       "count  24880.000000  2.488000e+04\n",
       "mean    2013.628014  1.358108e+06\n",
       "std        3.412644  4.635936e+06\n",
       "min     2008.000000  0.000000e+00\n",
       "25%     2011.000000  3.945000e+04\n",
       "50%     2014.000000  1.700875e+05\n",
       "75%     2017.000000  7.964125e+05\n",
       "max     2019.000000  9.220573e+07"
      ]
     },
     "execution_count": 39,
     "metadata": {},
     "output_type": "execute_result"
    }
   ],
   "source": [
    "employment.describe()"
   ]
  },
  {
   "cell_type": "markdown",
   "metadata": {},
   "source": [
    "### Save the data"
   ]
  },
  {
   "cell_type": "code",
   "execution_count": 40,
   "metadata": {},
   "outputs": [],
   "source": [
    "# employment.to_csv('data/employment_final.csv', index=False)"
   ]
  },
  {
   "cell_type": "markdown",
   "metadata": {},
   "source": [
    "# Merge into one DataFame"
   ]
  },
  {
   "cell_type": "code",
   "execution_count": 41,
   "metadata": {},
   "outputs": [
    {
     "data": {
      "text/html": [
       "<div>\n",
       "<style scoped>\n",
       "    .dataframe tbody tr th:only-of-type {\n",
       "        vertical-align: middle;\n",
       "    }\n",
       "\n",
       "    .dataframe tbody tr th {\n",
       "        vertical-align: top;\n",
       "    }\n",
       "\n",
       "    .dataframe thead th {\n",
       "        text-align: right;\n",
       "    }\n",
       "</style>\n",
       "<table border=\"1\" class=\"dataframe\">\n",
       "  <thead>\n",
       "    <tr style=\"text-align: right;\">\n",
       "      <th></th>\n",
       "      <th>country</th>\n",
       "      <th>year</th>\n",
       "      <th>sex</th>\n",
       "      <th>obesity</th>\n",
       "      <th>min_obesity</th>\n",
       "      <th>max_obesity</th>\n",
       "      <th>continent</th>\n",
       "    </tr>\n",
       "  </thead>\n",
       "  <tbody>\n",
       "    <tr>\n",
       "      <th>0</th>\n",
       "      <td>Afghanistan</td>\n",
       "      <td>1975</td>\n",
       "      <td>B</td>\n",
       "      <td>0.5</td>\n",
       "      <td>0.2</td>\n",
       "      <td>1.1</td>\n",
       "      <td>Asia</td>\n",
       "    </tr>\n",
       "    <tr>\n",
       "      <th>1</th>\n",
       "      <td>Afghanistan</td>\n",
       "      <td>1975</td>\n",
       "      <td>M</td>\n",
       "      <td>0.2</td>\n",
       "      <td>0.0</td>\n",
       "      <td>0.6</td>\n",
       "      <td>Asia</td>\n",
       "    </tr>\n",
       "    <tr>\n",
       "      <th>2</th>\n",
       "      <td>Afghanistan</td>\n",
       "      <td>1975</td>\n",
       "      <td>F</td>\n",
       "      <td>0.8</td>\n",
       "      <td>0.2</td>\n",
       "      <td>2.0</td>\n",
       "      <td>Asia</td>\n",
       "    </tr>\n",
       "  </tbody>\n",
       "</table>\n",
       "</div>"
      ],
      "text/plain": [
       "       country  year sex  obesity  min_obesity  max_obesity continent\n",
       "0  Afghanistan  1975   B      0.5          0.2          1.1      Asia\n",
       "1  Afghanistan  1975   M      0.2          0.0          0.6      Asia\n",
       "2  Afghanistan  1975   F      0.8          0.2          2.0      Asia"
      ]
     },
     "execution_count": 41,
     "metadata": {},
     "output_type": "execute_result"
    }
   ],
   "source": [
    "obesity.head(3)"
   ]
  },
  {
   "cell_type": "code",
   "execution_count": 42,
   "metadata": {},
   "outputs": [
    {
     "data": {
      "text/html": [
       "<div>\n",
       "<style scoped>\n",
       "    .dataframe tbody tr th:only-of-type {\n",
       "        vertical-align: middle;\n",
       "    }\n",
       "\n",
       "    .dataframe tbody tr th {\n",
       "        vertical-align: top;\n",
       "    }\n",
       "\n",
       "    .dataframe thead th {\n",
       "        text-align: right;\n",
       "    }\n",
       "</style>\n",
       "<table border=\"1\" class=\"dataframe\">\n",
       "  <thead>\n",
       "    <tr style=\"text-align: right;\">\n",
       "      <th></th>\n",
       "      <th>country_code</th>\n",
       "      <th>country</th>\n",
       "      <th>subject</th>\n",
       "      <th>sex</th>\n",
       "      <th>year</th>\n",
       "      <th>value</th>\n",
       "      <th>activity</th>\n",
       "      <th>continent</th>\n",
       "    </tr>\n",
       "  </thead>\n",
       "  <tbody>\n",
       "    <tr>\n",
       "      <th>0</th>\n",
       "      <td>BEL</td>\n",
       "      <td>Belgium</td>\n",
       "      <td>Employment in all activities (ISIC rev.4, A-U)</td>\n",
       "      <td>M</td>\n",
       "      <td>2008</td>\n",
       "      <td>2460675.0</td>\n",
       "      <td>U</td>\n",
       "      <td>Europe</td>\n",
       "    </tr>\n",
       "    <tr>\n",
       "      <th>1</th>\n",
       "      <td>BEL</td>\n",
       "      <td>Belgium</td>\n",
       "      <td>Employment in all activities (ISIC rev.4, A-U)</td>\n",
       "      <td>M</td>\n",
       "      <td>2009</td>\n",
       "      <td>2429325.0</td>\n",
       "      <td>U</td>\n",
       "      <td>Europe</td>\n",
       "    </tr>\n",
       "    <tr>\n",
       "      <th>2</th>\n",
       "      <td>BEL</td>\n",
       "      <td>Belgium</td>\n",
       "      <td>Employment in all activities (ISIC rev.4, A-U)</td>\n",
       "      <td>M</td>\n",
       "      <td>2010</td>\n",
       "      <td>2457775.0</td>\n",
       "      <td>U</td>\n",
       "      <td>Europe</td>\n",
       "    </tr>\n",
       "  </tbody>\n",
       "</table>\n",
       "</div>"
      ],
      "text/plain": [
       "  country_code  country                                         subject sex  \\\n",
       "0          BEL  Belgium  Employment in all activities (ISIC rev.4, A-U)   M   \n",
       "1          BEL  Belgium  Employment in all activities (ISIC rev.4, A-U)   M   \n",
       "2          BEL  Belgium  Employment in all activities (ISIC rev.4, A-U)   M   \n",
       "\n",
       "   year      value activity continent  \n",
       "0  2008  2460675.0        U    Europe  \n",
       "1  2009  2429325.0        U    Europe  \n",
       "2  2010  2457775.0        U    Europe  "
      ]
     },
     "execution_count": 42,
     "metadata": {},
     "output_type": "execute_result"
    }
   ],
   "source": [
    "employment.head(3)"
   ]
  },
  {
   "cell_type": "code",
   "execution_count": 52,
   "metadata": {
    "tags": []
   },
   "outputs": [
    {
     "name": "stdout",
     "output_type": "stream",
     "text": [
      "Dimensions obesity: (24570, 7)\n",
      "Dimensions employment: (24880, 8)\n"
     ]
    }
   ],
   "source": [
    "print('Dimensions obesity: ' + str(obesity.shape))\n",
    "print('Dimensions employment: ' + str(employment.shape))"
   ]
  },
  {
   "cell_type": "code",
   "execution_count": 55,
   "metadata": {},
   "outputs": [
    {
     "data": {
      "text/html": [
       "<div>\n",
       "<style scoped>\n",
       "    .dataframe tbody tr th:only-of-type {\n",
       "        vertical-align: middle;\n",
       "    }\n",
       "\n",
       "    .dataframe tbody tr th {\n",
       "        vertical-align: top;\n",
       "    }\n",
       "\n",
       "    .dataframe thead th {\n",
       "        text-align: right;\n",
       "    }\n",
       "</style>\n",
       "<table border=\"1\" class=\"dataframe\">\n",
       "  <thead>\n",
       "    <tr style=\"text-align: right;\">\n",
       "      <th></th>\n",
       "      <th>country</th>\n",
       "      <th>year</th>\n",
       "      <th>sex</th>\n",
       "      <th>obesity</th>\n",
       "      <th>min_obesity</th>\n",
       "      <th>max_obesity</th>\n",
       "      <th>continent</th>\n",
       "      <th>country_code</th>\n",
       "      <th>subject</th>\n",
       "      <th>value</th>\n",
       "      <th>activity</th>\n",
       "    </tr>\n",
       "  </thead>\n",
       "  <tbody>\n",
       "    <tr>\n",
       "      <th>15159</th>\n",
       "      <td>Turkey</td>\n",
       "      <td>2016</td>\n",
       "      <td>F</td>\n",
       "      <td>39.2</td>\n",
       "      <td>33.7</td>\n",
       "      <td>45.0</td>\n",
       "      <td>Asia</td>\n",
       "      <td>TUR</td>\n",
       "      <td>Education (P)</td>\n",
       "      <td>849225.0</td>\n",
       "      <td>D</td>\n",
       "    </tr>\n",
       "    <tr>\n",
       "      <th>15160</th>\n",
       "      <td>Turkey</td>\n",
       "      <td>2016</td>\n",
       "      <td>F</td>\n",
       "      <td>39.2</td>\n",
       "      <td>33.7</td>\n",
       "      <td>45.0</td>\n",
       "      <td>Asia</td>\n",
       "      <td>TUR</td>\n",
       "      <td>Human health and social work activities (Q)</td>\n",
       "      <td>795400.0</td>\n",
       "      <td>D</td>\n",
       "    </tr>\n",
       "    <tr>\n",
       "      <th>15161</th>\n",
       "      <td>Turkey</td>\n",
       "      <td>2016</td>\n",
       "      <td>F</td>\n",
       "      <td>39.2</td>\n",
       "      <td>33.7</td>\n",
       "      <td>45.0</td>\n",
       "      <td>Asia</td>\n",
       "      <td>TUR</td>\n",
       "      <td>Arts, entertainment and recreation ( R)</td>\n",
       "      <td>34475.0</td>\n",
       "      <td>D</td>\n",
       "    </tr>\n",
       "    <tr>\n",
       "      <th>15162</th>\n",
       "      <td>Turkey</td>\n",
       "      <td>2016</td>\n",
       "      <td>F</td>\n",
       "      <td>39.2</td>\n",
       "      <td>33.7</td>\n",
       "      <td>45.0</td>\n",
       "      <td>Asia</td>\n",
       "      <td>TUR</td>\n",
       "      <td>Other service activities (S)</td>\n",
       "      <td>141450.0</td>\n",
       "      <td>M</td>\n",
       "    </tr>\n",
       "    <tr>\n",
       "      <th>15163</th>\n",
       "      <td>Turkey</td>\n",
       "      <td>2016</td>\n",
       "      <td>F</td>\n",
       "      <td>39.2</td>\n",
       "      <td>33.7</td>\n",
       "      <td>45.0</td>\n",
       "      <td>Asia</td>\n",
       "      <td>TUR</td>\n",
       "      <td>Activities of households as employers undiffer...</td>\n",
       "      <td>140675.0</td>\n",
       "      <td>M</td>\n",
       "    </tr>\n",
       "  </tbody>\n",
       "</table>\n",
       "</div>"
      ],
      "text/plain": [
       "      country  year sex  obesity  min_obesity  max_obesity continent  \\\n",
       "15159  Turkey  2016   F     39.2         33.7         45.0      Asia   \n",
       "15160  Turkey  2016   F     39.2         33.7         45.0      Asia   \n",
       "15161  Turkey  2016   F     39.2         33.7         45.0      Asia   \n",
       "15162  Turkey  2016   F     39.2         33.7         45.0      Asia   \n",
       "15163  Turkey  2016   F     39.2         33.7         45.0      Asia   \n",
       "\n",
       "      country_code                                            subject  \\\n",
       "15159          TUR                                      Education (P)   \n",
       "15160          TUR        Human health and social work activities (Q)   \n",
       "15161          TUR            Arts, entertainment and recreation ( R)   \n",
       "15162          TUR                       Other service activities (S)   \n",
       "15163          TUR  Activities of households as employers undiffer...   \n",
       "\n",
       "          value activity  \n",
       "15159  849225.0        D  \n",
       "15160  795400.0        D  \n",
       "15161   34475.0        D  \n",
       "15162  141450.0        M  \n",
       "15163  140675.0        M  "
      ]
     },
     "execution_count": 55,
     "metadata": {},
     "output_type": "execute_result"
    }
   ],
   "source": [
    "analytics = pd.merge(obesity, employment, on=['country', 'year', 'sex', 'continent'])\n",
    "analytics.tail()"
   ]
  },
  {
   "cell_type": "code",
   "execution_count": 48,
   "metadata": {},
   "outputs": [
    {
     "data": {
      "text/plain": [
       "(1975, 2016)"
      ]
     },
     "execution_count": 48,
     "metadata": {},
     "output_type": "execute_result"
    }
   ],
   "source": [
    "obesity.year.min(),obesity.year.max()"
   ]
  },
  {
   "cell_type": "code",
   "execution_count": null,
   "metadata": {},
   "outputs": [],
   "source": []
  },
  {
   "cell_type": "code",
   "execution_count": 172,
   "metadata": {},
   "outputs": [
    {
     "name": "stdout",
     "output_type": "stream",
     "text": [
      "0.7672472127433498\n",
      "-0.9209304240169622\n"
     ]
    }
   ],
   "source": [
    "# For correlation\n",
    "df = analytics.query(\"activity != 'U' and sex == 'B'\").copy()\n",
    "df = df.drop([\"country_code\", \"min_obesity\", \"max_obesity\", \"sex\", \"continent\"], axis=1)\n",
    "\n",
    "df['value_mean'] = df.groupby([\"country\", \"year\", \"activity\"]).value.transform('mean')\n",
    "df = df.drop([\"subject\", \"value\"], axis=1).drop_duplicates()\n",
    "\n",
    "\n",
    "#df.query(\"country == 'France'\").groupby(\"activity\").plot(x=\"obesity\", y=\"value_mean\", kind=\"scatter\")\n",
    "#plt.show()\n",
    "\n",
    "country = \"'France'\"\n",
    "activityD = df.query(\"country == {} and activity == 'D'\".format(country))\n",
    "activityM = df.query(\"country == {} and activity == 'M'\".format(country))\n",
    "\n",
    "coorD = sc.pearsonr(activityD['obesity'], activityD['value_mean'])\n",
    "coorM = sc.pearsonr(activityM['obesity'], activityM['value_mean'])\n",
    "\n",
    "xD = np.linspace( activityD.obesity.min(), activityD.obesity.max())\n",
    "yD = np.linspace( activityD['value_mean'].min(), activityD['value_mean'].max()) * coorD[0] \n",
    "\n",
    "print(coorD[0])\n",
    "print(coorM[0])"
   ]
  },
  {
   "cell_type": "code",
   "execution_count": 173,
   "metadata": {},
   "outputs": [
    {
     "data": {
      "image/png": "[encoded data removed]",
      "text/plain": [
       "<Figure size 432x288 with 1 Axes>"
      ]
     },
     "metadata": {
      "needs_background": "light"
     },
     "output_type": "display_data"
    }
   ],
   "source": [
    "activityD.plot(x='obesity', y='value_mean')\n",
    "plt.plot(xD, yD, color='red')\n",
    "plt.show()"
   ]
  },
  {
   "cell_type": "code",
   "execution_count": 165,
   "metadata": {},
   "outputs": [
    {
     "data": {
      "text/html": [
       "<div>\n",
       "<style scoped>\n",
       "    .dataframe tbody tr th:only-of-type {\n",
       "        vertical-align: middle;\n",
       "    }\n",
       "\n",
       "    .dataframe tbody tr th {\n",
       "        vertical-align: top;\n",
       "    }\n",
       "\n",
       "    .dataframe thead th {\n",
       "        text-align: right;\n",
       "    }\n",
       "</style>\n",
       "<table border=\"1\" class=\"dataframe\">\n",
       "  <thead>\n",
       "    <tr style=\"text-align: right;\">\n",
       "      <th></th>\n",
       "      <th>country</th>\n",
       "      <th>year</th>\n",
       "      <th>obesity</th>\n",
       "      <th>activity</th>\n",
       "      <th>value_mean</th>\n",
       "    </tr>\n",
       "  </thead>\n",
       "  <tbody>\n",
       "    <tr>\n",
       "      <th>3365</th>\n",
       "      <td>France</td>\n",
       "      <td>2008</td>\n",
       "      <td>18.6</td>\n",
       "      <td>D</td>\n",
       "      <td>1.341672e+06</td>\n",
       "    </tr>\n",
       "    <tr>\n",
       "      <th>3390</th>\n",
       "      <td>France</td>\n",
       "      <td>2009</td>\n",
       "      <td>19.0</td>\n",
       "      <td>D</td>\n",
       "      <td>1.336933e+06</td>\n",
       "    </tr>\n",
       "    <tr>\n",
       "      <th>3415</th>\n",
       "      <td>France</td>\n",
       "      <td>2010</td>\n",
       "      <td>19.3</td>\n",
       "      <td>D</td>\n",
       "      <td>1.348642e+06</td>\n",
       "    </tr>\n",
       "    <tr>\n",
       "      <th>3440</th>\n",
       "      <td>France</td>\n",
       "      <td>2011</td>\n",
       "      <td>19.7</td>\n",
       "      <td>D</td>\n",
       "      <td>1.230948e+06</td>\n",
       "    </tr>\n",
       "    <tr>\n",
       "      <th>3467</th>\n",
       "      <td>France</td>\n",
       "      <td>2012</td>\n",
       "      <td>20.1</td>\n",
       "      <td>D</td>\n",
       "      <td>1.380511e+06</td>\n",
       "    </tr>\n",
       "    <tr>\n",
       "      <th>3493</th>\n",
       "      <td>France</td>\n",
       "      <td>2013</td>\n",
       "      <td>20.4</td>\n",
       "      <td>D</td>\n",
       "      <td>1.392903e+06</td>\n",
       "    </tr>\n",
       "    <tr>\n",
       "      <th>3523</th>\n",
       "      <td>France</td>\n",
       "      <td>2014</td>\n",
       "      <td>20.8</td>\n",
       "      <td>D</td>\n",
       "      <td>1.464022e+06</td>\n",
       "    </tr>\n",
       "    <tr>\n",
       "      <th>3553</th>\n",
       "      <td>France</td>\n",
       "      <td>2015</td>\n",
       "      <td>21.2</td>\n",
       "      <td>D</td>\n",
       "      <td>1.476922e+06</td>\n",
       "    </tr>\n",
       "    <tr>\n",
       "      <th>3583</th>\n",
       "      <td>France</td>\n",
       "      <td>2016</td>\n",
       "      <td>21.6</td>\n",
       "      <td>D</td>\n",
       "      <td>1.478786e+06</td>\n",
       "    </tr>\n",
       "  </tbody>\n",
       "</table>\n",
       "</div>"
      ],
      "text/plain": [
       "     country  year  obesity activity    value_mean\n",
       "3365  France  2008     18.6        D  1.341672e+06\n",
       "3390  France  2009     19.0        D  1.336933e+06\n",
       "3415  France  2010     19.3        D  1.348642e+06\n",
       "3440  France  2011     19.7        D  1.230948e+06\n",
       "3467  France  2012     20.1        D  1.380511e+06\n",
       "3493  France  2013     20.4        D  1.392903e+06\n",
       "3523  France  2014     20.8        D  1.464022e+06\n",
       "3553  France  2015     21.2        D  1.476922e+06\n",
       "3583  France  2016     21.6        D  1.478786e+06"
      ]
     },
     "execution_count": 165,
     "metadata": {},
     "output_type": "execute_result"
    }
   ],
   "source": [
    "activityD"
   ]
  },
  {
   "cell_type": "code",
   "execution_count": null,
   "metadata": {},
   "outputs": [],
   "source": []
  },
  {
   "cell_type": "code",
   "execution_count": null,
   "metadata": {},
   "outputs": [],
   "source": []
  },
  {
   "cell_type": "code",
   "execution_count": null,
   "metadata": {},
   "outputs": [],
   "source": []
  }
 ],
 "metadata": {
  "kernelspec": {
   "display_name": "Python 3.7.3 64-bit",
   "language": "python",
   "name": "python37364bitdf3977b893c14c1aaa0babbf3b7cc8fc"
  },
  "language_info": {
   "codemirror_mode": {
    "name": "ipython",
    "version": 3
   },
   "file_extension": ".py",
   "mimetype": "text/x-python",
   "name": "python",
   "nbconvert_exporter": "python",
   "pygments_lexer": "ipython3",
   "version": "3.7.3"
  }
 },
 "nbformat": 4,
 "nbformat_minor": 2
}
