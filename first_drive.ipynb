{
 "cells": [
  {
   "cell_type": "markdown",
   "metadata": {},
   "source": [
    "# First look into data"
   ]
  },
  {
   "cell_type": "code",
   "execution_count": 1,
   "metadata": {},
   "outputs": [],
   "source": [
    "# Imports\n",
    "import pandas as pd\n",
    "import numpy as np\n",
    "import matplotlib.pyplot as plt\n",
    "import scipy.stats as sc"
   ]
  },
  {
   "cell_type": "markdown",
   "metadata": {},
   "source": [
    "Let's take a first look at our data, which consists of:\n",
    "* data/obesity.csv\n",
    "* data/employment.csv"
   ]
  },
  {
   "cell_type": "code",
   "execution_count": 2,
   "metadata": {},
   "outputs": [],
   "source": [
    "obesity = pd.read_csv('data/obesity.csv', index_col=0)\n",
    "employment = pd.read_csv('data/employment.csv')"
   ]
  },
  {
   "cell_type": "code",
   "execution_count": 3,
   "metadata": {},
   "outputs": [],
   "source": [
    "# Continent function\n",
    "import pycountry_convert as pc\n",
    "\n",
    "continents_dict = {\n",
    "    'NA': 'North America',\n",
    "    'SA': 'South America', \n",
    "    'AS': 'Asia',\n",
    "    'OC': 'Oceania',\n",
    "    'AF': 'Africa',\n",
    "    'EU': 'Europe',\n",
    "    '?': 'Unknown'\n",
    "}\n",
    "\n",
    "def convert_country_to_continent(country_name):\n",
    "    try:\n",
    "        country_code = pc.country_name_to_country_alpha2(country_name, cn_name_format=\"default\")\n",
    "        continent_code = pc.country_alpha2_to_continent_code(country_code)\n",
    "        return continents_dict[continent_code]\n",
    "    except:\n",
    "        \n",
    "        # Exception in employment\n",
    "        if country_name in ['Korea', 'Republic of Korea', 'Timor-Leste']: return continents_dict['AS']\n",
    "        \n",
    "        # Exceptions in obesity\n",
    "        else: return convert_country_to_continent(country_name.split(\" \")[0])\n",
    "        \n",
    "        return '?'\n",
    "    "
   ]
  },
  {
   "cell_type": "markdown",
   "metadata": {},
   "source": [
    "## Obesity\n",
    "Data from: https://apps.who.int/gho/data/node.main.A900A?lang=en"
   ]
  },
  {
   "cell_type": "code",
   "execution_count": 4,
   "metadata": {},
   "outputs": [
    {
     "data": {
      "text/html": [
       "<div>\n",
       "<style scoped>\n",
       "    .dataframe tbody tr th:only-of-type {\n",
       "        vertical-align: middle;\n",
       "    }\n",
       "\n",
       "    .dataframe tbody tr th {\n",
       "        vertical-align: top;\n",
       "    }\n",
       "\n",
       "    .dataframe thead th {\n",
       "        text-align: right;\n",
       "    }\n",
       "</style>\n",
       "<table border=\"1\" class=\"dataframe\">\n",
       "  <thead>\n",
       "    <tr style=\"text-align: right;\">\n",
       "      <th></th>\n",
       "      <th>Country</th>\n",
       "      <th>Year</th>\n",
       "      <th>Obesity (%)</th>\n",
       "      <th>Sex</th>\n",
       "    </tr>\n",
       "  </thead>\n",
       "  <tbody>\n",
       "    <tr>\n",
       "      <th>0</th>\n",
       "      <td>Afghanistan</td>\n",
       "      <td>1975</td>\n",
       "      <td>0.5 [0.2-1.1]</td>\n",
       "      <td>Both sexes</td>\n",
       "    </tr>\n",
       "    <tr>\n",
       "      <th>1</th>\n",
       "      <td>Afghanistan</td>\n",
       "      <td>1975</td>\n",
       "      <td>0.2 [0.0-0.6]</td>\n",
       "      <td>Male</td>\n",
       "    </tr>\n",
       "    <tr>\n",
       "      <th>2</th>\n",
       "      <td>Afghanistan</td>\n",
       "      <td>1975</td>\n",
       "      <td>0.8 [0.2-2.0]</td>\n",
       "      <td>Female</td>\n",
       "    </tr>\n",
       "    <tr>\n",
       "      <th>3</th>\n",
       "      <td>Afghanistan</td>\n",
       "      <td>1976</td>\n",
       "      <td>0.5 [0.2-1.1]</td>\n",
       "      <td>Both sexes</td>\n",
       "    </tr>\n",
       "    <tr>\n",
       "      <th>4</th>\n",
       "      <td>Afghanistan</td>\n",
       "      <td>1976</td>\n",
       "      <td>0.2 [0.0-0.7]</td>\n",
       "      <td>Male</td>\n",
       "    </tr>\n",
       "  </tbody>\n",
       "</table>\n",
       "</div>"
      ],
      "text/plain": [
       "       Country  Year    Obesity (%)         Sex\n",
       "0  Afghanistan  1975  0.5 [0.2-1.1]  Both sexes\n",
       "1  Afghanistan  1975  0.2 [0.0-0.6]        Male\n",
       "2  Afghanistan  1975  0.8 [0.2-2.0]      Female\n",
       "3  Afghanistan  1976  0.5 [0.2-1.1]  Both sexes\n",
       "4  Afghanistan  1976  0.2 [0.0-0.7]        Male"
      ]
     },
     "execution_count": 4,
     "metadata": {},
     "output_type": "execute_result"
    }
   ],
   "source": [
    "obesity.head()"
   ]
  },
  {
   "cell_type": "code",
   "execution_count": 5,
   "metadata": {
    "tags": []
   },
   "outputs": [
    {
     "name": "stdout",
     "output_type": "stream",
     "text": [
      "<class 'pandas.core.frame.DataFrame'>\n",
      "Int64Index: 24570 entries, 0 to 24569\n",
      "Data columns (total 4 columns):\n",
      " #   Column       Non-Null Count  Dtype \n",
      "---  ------       --------------  ----- \n",
      " 0   Country      24570 non-null  object\n",
      " 1   Year         24570 non-null  int64 \n",
      " 2   Obesity (%)  24570 non-null  object\n",
      " 3   Sex          24570 non-null  object\n",
      "dtypes: int64(1), object(3)\n",
      "memory usage: 959.8+ KB\n"
     ]
    }
   ],
   "source": [
    "obesity.info()"
   ]
  },
  {
   "cell_type": "markdown",
   "metadata": {},
   "source": [
    "### Variables\n",
    "* **Country**: Name of a country (Afghanistan, Belgium, ...)\n",
    "\n",
    "* **Year**: A year as an integer (1975, 1976, ...)\n",
    "\n",
    "* **Obesity (%)**: Percentage of obesity among the population as a string like this \"%f \\[%f-%f\\]\", with *%f* a float\n",
    "\n",
    "* **Sex**: A string representing either Males (\"Male\"), Females (\"Female\") and Both (\"Both sexes\")"
   ]
  },
  {
   "cell_type": "code",
   "execution_count": 6,
   "metadata": {},
   "outputs": [],
   "source": [
    "# New names\n",
    "names = {\n",
    "    \"Country\" : \"country\",\n",
    "    \"Year\" : \"year\",\n",
    "    \"Obesity (%)\" : \"str_obesity\",\n",
    "    \"Sex\" : \"sex\"\n",
    "}\n",
    "\n",
    "# Renaming columns\n",
    "obesity = obesity.rename(columns=names)"
   ]
  },
  {
   "cell_type": "code",
   "execution_count": 7,
   "metadata": {
    "tags": []
   },
   "outputs": [
    {
     "name": "stdout",
     "output_type": "stream",
     "text": [
      "<class 'pandas.core.frame.DataFrame'>\n",
      "Int64Index: 24570 entries, 0 to 24569\n",
      "Data columns (total 4 columns):\n",
      " #   Column       Non-Null Count  Dtype \n",
      "---  ------       --------------  ----- \n",
      " 0   country      24570 non-null  object\n",
      " 1   year         24570 non-null  int64 \n",
      " 2   str_obesity  24570 non-null  object\n",
      " 3   sex          24570 non-null  object\n",
      "dtypes: int64(1), object(3)\n",
      "memory usage: 959.8+ KB\n"
     ]
    }
   ],
   "source": [
    "obesity.info()"
   ]
  },
  {
   "cell_type": "markdown",
   "metadata": {},
   "source": [
    "#### Obesity\n",
    "The variable \"obesity\" must be processed because a float is wanted instead of a string as we currently have. So let's extract the 3 values in the string and create 3 variable/columns, named:\n",
    "* obesity\n",
    "* min_obesity\n",
    "* max_obesity"
   ]
  },
  {
   "cell_type": "code",
   "execution_count": 8,
   "metadata": {},
   "outputs": [],
   "source": [
    "import re # Module for regular expressions\n",
    "\n",
    "def extract_float(string, index=0):\n",
    "    \"\"\"\n",
    "    >>> extract_float(\"0.5 [0.1-0.7]\")\n",
    "    0.5\n",
    "    \"\"\"\n",
    "\n",
    "    # Worst case\n",
    "    if index < 0:\n",
    "        return None\n",
    "\n",
    "    # No data case\n",
    "    if string == \"No data\":\n",
    "        return 0.0\n",
    "\n",
    "    # Defining the regular expression\n",
    "    reg_exp = re.compile(\"\\d+\\.\\d+\")\n",
    "\n",
    "    # Tuple normally containing 3 float\n",
    "    t = [float(e) for e in reg_exp.findall(string)] \n",
    "\n",
    "    # Bad case 27 <= len(string) <= 31\n",
    "    if len(string) in range(27,31):\n",
    "        return (t[index] + t[index + 3]) / 2\n",
    "    # Normal case, 13 <= len(string) <= 16\n",
    "    else:\n",
    "        return t[index]\n"
   ]
  },
  {
   "cell_type": "code",
   "execution_count": 9,
   "metadata": {
    "tags": []
   },
   "outputs": [],
   "source": [
    "# New variables\n",
    "new_obesity_columns = ['obesity', 'min_obesity', 'max_obesity']\n",
    "\n",
    "# Create the new columns\n",
    "for i in range(len(new_obesity_columns)):\n",
    "    obesity[new_obesity_columns[i]] = obesity['str_obesity'].apply(lambda x: extract_float(x, index=i))"
   ]
  },
  {
   "cell_type": "code",
   "execution_count": 10,
   "metadata": {},
   "outputs": [
    {
     "data": {
      "text/html": [
       "<div>\n",
       "<style scoped>\n",
       "    .dataframe tbody tr th:only-of-type {\n",
       "        vertical-align: middle;\n",
       "    }\n",
       "\n",
       "    .dataframe tbody tr th {\n",
       "        vertical-align: top;\n",
       "    }\n",
       "\n",
       "    .dataframe thead th {\n",
       "        text-align: right;\n",
       "    }\n",
       "</style>\n",
       "<table border=\"1\" class=\"dataframe\">\n",
       "  <thead>\n",
       "    <tr style=\"text-align: right;\">\n",
       "      <th></th>\n",
       "      <th>country</th>\n",
       "      <th>year</th>\n",
       "      <th>str_obesity</th>\n",
       "      <th>sex</th>\n",
       "      <th>obesity</th>\n",
       "      <th>min_obesity</th>\n",
       "      <th>max_obesity</th>\n",
       "    </tr>\n",
       "  </thead>\n",
       "  <tbody>\n",
       "    <tr>\n",
       "      <th>0</th>\n",
       "      <td>Afghanistan</td>\n",
       "      <td>1975</td>\n",
       "      <td>0.5 [0.2-1.1]</td>\n",
       "      <td>Both sexes</td>\n",
       "      <td>0.5</td>\n",
       "      <td>0.2</td>\n",
       "      <td>1.1</td>\n",
       "    </tr>\n",
       "    <tr>\n",
       "      <th>1</th>\n",
       "      <td>Afghanistan</td>\n",
       "      <td>1975</td>\n",
       "      <td>0.2 [0.0-0.6]</td>\n",
       "      <td>Male</td>\n",
       "      <td>0.2</td>\n",
       "      <td>0.0</td>\n",
       "      <td>0.6</td>\n",
       "    </tr>\n",
       "    <tr>\n",
       "      <th>2</th>\n",
       "      <td>Afghanistan</td>\n",
       "      <td>1975</td>\n",
       "      <td>0.8 [0.2-2.0]</td>\n",
       "      <td>Female</td>\n",
       "      <td>0.8</td>\n",
       "      <td>0.2</td>\n",
       "      <td>2.0</td>\n",
       "    </tr>\n",
       "    <tr>\n",
       "      <th>3</th>\n",
       "      <td>Afghanistan</td>\n",
       "      <td>1976</td>\n",
       "      <td>0.5 [0.2-1.1]</td>\n",
       "      <td>Both sexes</td>\n",
       "      <td>0.5</td>\n",
       "      <td>0.2</td>\n",
       "      <td>1.1</td>\n",
       "    </tr>\n",
       "    <tr>\n",
       "      <th>4</th>\n",
       "      <td>Afghanistan</td>\n",
       "      <td>1976</td>\n",
       "      <td>0.2 [0.0-0.7]</td>\n",
       "      <td>Male</td>\n",
       "      <td>0.2</td>\n",
       "      <td>0.0</td>\n",
       "      <td>0.7</td>\n",
       "    </tr>\n",
       "  </tbody>\n",
       "</table>\n",
       "</div>"
      ],
      "text/plain": [
       "       country  year    str_obesity         sex  obesity  min_obesity  \\\n",
       "0  Afghanistan  1975  0.5 [0.2-1.1]  Both sexes      0.5          0.2   \n",
       "1  Afghanistan  1975  0.2 [0.0-0.6]        Male      0.2          0.0   \n",
       "2  Afghanistan  1975  0.8 [0.2-2.0]      Female      0.8          0.2   \n",
       "3  Afghanistan  1976  0.5 [0.2-1.1]  Both sexes      0.5          0.2   \n",
       "4  Afghanistan  1976  0.2 [0.0-0.7]        Male      0.2          0.0   \n",
       "\n",
       "   max_obesity  \n",
       "0          1.1  \n",
       "1          0.6  \n",
       "2          2.0  \n",
       "3          1.1  \n",
       "4          0.7  "
      ]
     },
     "execution_count": 10,
     "metadata": {},
     "output_type": "execute_result"
    }
   ],
   "source": [
    "obesity.head()"
   ]
  },
  {
   "cell_type": "markdown",
   "metadata": {},
   "source": [
    "#### Sex\n",
    "This variable is categorical and is representend by the following values:\n",
    "* **Male**\n",
    "* **Female**\n",
    "* **Both sexes**"
   ]
  },
  {
   "cell_type": "markdown",
   "metadata": {},
   "source": [
    "So in order to have a better visibility we will change the values by:\n",
    "* Male: **M**\n",
    "* Female: **F**\n",
    "* Both sexes: **B**"
   ]
  },
  {
   "cell_type": "code",
   "execution_count": 11,
   "metadata": {},
   "outputs": [],
   "source": [
    "# Unique values of the 'sex' variable\n",
    "current_sex = set(obesity.sex)\n",
    "\n",
    "# Create the dict in order to replace values in dataframee\n",
    "new_sex = {e:e[0].upper() for e in current_sex}\n",
    "\n",
    "# Replace values in dataframe\n",
    "obesity['sex'] = obesity['sex'].replace(new_sex)\n",
    "\n",
    "# Convert type to categorical\n",
    "obesity['sex'] = obesity['sex'].astype('category')"
   ]
  },
  {
   "cell_type": "markdown",
   "metadata": {},
   "source": [
    "#### Country and Year\n",
    "the variable 'year' already has the right type and 'country' just need the right type."
   ]
  },
  {
   "cell_type": "code",
   "execution_count": 12,
   "metadata": {},
   "outputs": [],
   "source": [
    "# Convert type to string\n",
    "obesity['country'] = obesity['country'].astype('string')"
   ]
  },
  {
   "cell_type": "markdown",
   "metadata": {},
   "source": [
    "#### Some cleaning bro"
   ]
  },
  {
   "cell_type": "code",
   "execution_count": 13,
   "metadata": {},
   "outputs": [],
   "source": [
    "# Keep what we want\n",
    "dirty = ['str_obesity']\n",
    "obesity = obesity[ [e for e in obesity.columns if e not in dirty] ]"
   ]
  },
  {
   "cell_type": "markdown",
   "metadata": {},
   "source": [
    "#### Continent\n",
    "The variable 'continent' will be added because of grouping per continent."
   ]
  },
  {
   "cell_type": "code",
   "execution_count": 14,
   "metadata": {},
   "outputs": [],
   "source": [
    "obesity['continent'] = obesity['country'].apply(lambda x: convert_country_to_continent(x))"
   ]
  },
  {
   "cell_type": "markdown",
   "metadata": {},
   "source": [
    "### Final result"
   ]
  },
  {
   "cell_type": "code",
   "execution_count": 15,
   "metadata": {},
   "outputs": [
    {
     "data": {
      "text/html": [
       "<div>\n",
       "<style scoped>\n",
       "    .dataframe tbody tr th:only-of-type {\n",
       "        vertical-align: middle;\n",
       "    }\n",
       "\n",
       "    .dataframe tbody tr th {\n",
       "        vertical-align: top;\n",
       "    }\n",
       "\n",
       "    .dataframe thead th {\n",
       "        text-align: right;\n",
       "    }\n",
       "</style>\n",
       "<table border=\"1\" class=\"dataframe\">\n",
       "  <thead>\n",
       "    <tr style=\"text-align: right;\">\n",
       "      <th></th>\n",
       "      <th>country</th>\n",
       "      <th>year</th>\n",
       "      <th>sex</th>\n",
       "      <th>obesity</th>\n",
       "      <th>min_obesity</th>\n",
       "      <th>max_obesity</th>\n",
       "      <th>continent</th>\n",
       "    </tr>\n",
       "  </thead>\n",
       "  <tbody>\n",
       "    <tr>\n",
       "      <th>0</th>\n",
       "      <td>Afghanistan</td>\n",
       "      <td>1975</td>\n",
       "      <td>B</td>\n",
       "      <td>0.5</td>\n",
       "      <td>0.2</td>\n",
       "      <td>1.1</td>\n",
       "      <td>Asia</td>\n",
       "    </tr>\n",
       "    <tr>\n",
       "      <th>1</th>\n",
       "      <td>Afghanistan</td>\n",
       "      <td>1975</td>\n",
       "      <td>M</td>\n",
       "      <td>0.2</td>\n",
       "      <td>0.0</td>\n",
       "      <td>0.6</td>\n",
       "      <td>Asia</td>\n",
       "    </tr>\n",
       "    <tr>\n",
       "      <th>2</th>\n",
       "      <td>Afghanistan</td>\n",
       "      <td>1975</td>\n",
       "      <td>F</td>\n",
       "      <td>0.8</td>\n",
       "      <td>0.2</td>\n",
       "      <td>2.0</td>\n",
       "      <td>Asia</td>\n",
       "    </tr>\n",
       "    <tr>\n",
       "      <th>3</th>\n",
       "      <td>Afghanistan</td>\n",
       "      <td>1976</td>\n",
       "      <td>B</td>\n",
       "      <td>0.5</td>\n",
       "      <td>0.2</td>\n",
       "      <td>1.1</td>\n",
       "      <td>Asia</td>\n",
       "    </tr>\n",
       "    <tr>\n",
       "      <th>4</th>\n",
       "      <td>Afghanistan</td>\n",
       "      <td>1976</td>\n",
       "      <td>M</td>\n",
       "      <td>0.2</td>\n",
       "      <td>0.0</td>\n",
       "      <td>0.7</td>\n",
       "      <td>Asia</td>\n",
       "    </tr>\n",
       "  </tbody>\n",
       "</table>\n",
       "</div>"
      ],
      "text/plain": [
       "       country  year sex  obesity  min_obesity  max_obesity continent\n",
       "0  Afghanistan  1975   B      0.5          0.2          1.1      Asia\n",
       "1  Afghanistan  1975   M      0.2          0.0          0.6      Asia\n",
       "2  Afghanistan  1975   F      0.8          0.2          2.0      Asia\n",
       "3  Afghanistan  1976   B      0.5          0.2          1.1      Asia\n",
       "4  Afghanistan  1976   M      0.2          0.0          0.7      Asia"
      ]
     },
     "execution_count": 15,
     "metadata": {},
     "output_type": "execute_result"
    }
   ],
   "source": [
    "obesity.head()"
   ]
  },
  {
   "cell_type": "code",
   "execution_count": 16,
   "metadata": {
    "tags": []
   },
   "outputs": [
    {
     "name": "stdout",
     "output_type": "stream",
     "text": [
      "<class 'pandas.core.frame.DataFrame'>\n",
      "Int64Index: 24570 entries, 0 to 24569\n",
      "Data columns (total 7 columns):\n",
      " #   Column       Non-Null Count  Dtype   \n",
      "---  ------       --------------  -----   \n",
      " 0   country      24570 non-null  string  \n",
      " 1   year         24570 non-null  int64   \n",
      " 2   sex          24570 non-null  category\n",
      " 3   obesity      24570 non-null  float64 \n",
      " 4   min_obesity  24570 non-null  float64 \n",
      " 5   max_obesity  24570 non-null  float64 \n",
      " 6   continent    24570 non-null  object  \n",
      "dtypes: category(1), float64(3), int64(1), object(1), string(1)\n",
      "memory usage: 1.3+ MB\n"
     ]
    }
   ],
   "source": [
    "obesity.info()"
   ]
  },
  {
   "cell_type": "code",
   "execution_count": 17,
   "metadata": {},
   "outputs": [
    {
     "data": {
      "text/html": [
       "<div>\n",
       "<style scoped>\n",
       "    .dataframe tbody tr th:only-of-type {\n",
       "        vertical-align: middle;\n",
       "    }\n",
       "\n",
       "    .dataframe tbody tr th {\n",
       "        vertical-align: top;\n",
       "    }\n",
       "\n",
       "    .dataframe thead th {\n",
       "        text-align: right;\n",
       "    }\n",
       "</style>\n",
       "<table border=\"1\" class=\"dataframe\">\n",
       "  <thead>\n",
       "    <tr style=\"text-align: right;\">\n",
       "      <th></th>\n",
       "      <th>year</th>\n",
       "      <th>obesity</th>\n",
       "      <th>min_obesity</th>\n",
       "      <th>max_obesity</th>\n",
       "    </tr>\n",
       "  </thead>\n",
       "  <tbody>\n",
       "    <tr>\n",
       "      <th>count</th>\n",
       "      <td>24570.000000</td>\n",
       "      <td>24570.000000</td>\n",
       "      <td>24570.000000</td>\n",
       "      <td>24570.000000</td>\n",
       "    </tr>\n",
       "    <tr>\n",
       "      <th>mean</th>\n",
       "      <td>1995.500000</td>\n",
       "      <td>12.193630</td>\n",
       "      <td>9.047705</td>\n",
       "      <td>15.899422</td>\n",
       "    </tr>\n",
       "    <tr>\n",
       "      <th>std</th>\n",
       "      <td>12.121165</td>\n",
       "      <td>10.450249</td>\n",
       "      <td>8.860355</td>\n",
       "      <td>12.100114</td>\n",
       "    </tr>\n",
       "    <tr>\n",
       "      <th>min</th>\n",
       "      <td>1975.000000</td>\n",
       "      <td>0.000000</td>\n",
       "      <td>0.000000</td>\n",
       "      <td>0.000000</td>\n",
       "    </tr>\n",
       "    <tr>\n",
       "      <th>25%</th>\n",
       "      <td>1985.000000</td>\n",
       "      <td>3.600000</td>\n",
       "      <td>2.000000</td>\n",
       "      <td>5.800000</td>\n",
       "    </tr>\n",
       "    <tr>\n",
       "      <th>50%</th>\n",
       "      <td>1995.500000</td>\n",
       "      <td>10.300000</td>\n",
       "      <td>6.800000</td>\n",
       "      <td>14.500000</td>\n",
       "    </tr>\n",
       "    <tr>\n",
       "      <th>75%</th>\n",
       "      <td>2006.000000</td>\n",
       "      <td>18.000000</td>\n",
       "      <td>13.600000</td>\n",
       "      <td>22.900000</td>\n",
       "    </tr>\n",
       "    <tr>\n",
       "      <th>max</th>\n",
       "      <td>2016.000000</td>\n",
       "      <td>63.300000</td>\n",
       "      <td>55.600000</td>\n",
       "      <td>70.800000</td>\n",
       "    </tr>\n",
       "  </tbody>\n",
       "</table>\n",
       "</div>"
      ],
      "text/plain": [
       "               year       obesity   min_obesity   max_obesity\n",
       "count  24570.000000  24570.000000  24570.000000  24570.000000\n",
       "mean    1995.500000     12.193630      9.047705     15.899422\n",
       "std       12.121165     10.450249      8.860355     12.100114\n",
       "min     1975.000000      0.000000      0.000000      0.000000\n",
       "25%     1985.000000      3.600000      2.000000      5.800000\n",
       "50%     1995.500000     10.300000      6.800000     14.500000\n",
       "75%     2006.000000     18.000000     13.600000     22.900000\n",
       "max     2016.000000     63.300000     55.600000     70.800000"
      ]
     },
     "execution_count": 17,
     "metadata": {},
     "output_type": "execute_result"
    }
   ],
   "source": [
    "obesity.describe()"
   ]
  },
  {
   "cell_type": "markdown",
   "metadata": {},
   "source": [
    "### Save the data"
   ]
  },
  {
   "cell_type": "code",
   "execution_count": 18,
   "metadata": {},
   "outputs": [],
   "source": [
    "# obesity.to_csv('data/obesity_final.csv', index=False)"
   ]
  },
  {
   "cell_type": "markdown",
   "metadata": {},
   "source": [
    "## Employment\n",
    "Data from: https://stats.oecd.org/Index.aspx?QueryId=3491\n",
    "Theme: **Labour/Labour Force Statistics/Annual Labour Force Statistics/Employment by activities**"
   ]
  },
  {
   "cell_type": "code",
   "execution_count": 19,
   "metadata": {},
   "outputs": [
    {
     "data": {
      "text/html": [
       "<div>\n",
       "<style scoped>\n",
       "    .dataframe tbody tr th:only-of-type {\n",
       "        vertical-align: middle;\n",
       "    }\n",
       "\n",
       "    .dataframe tbody tr th {\n",
       "        vertical-align: top;\n",
       "    }\n",
       "\n",
       "    .dataframe thead th {\n",
       "        text-align: right;\n",
       "    }\n",
       "</style>\n",
       "<table border=\"1\" class=\"dataframe\">\n",
       "  <thead>\n",
       "    <tr style=\"text-align: right;\">\n",
       "      <th></th>\n",
       "      <th>LOCATION</th>\n",
       "      <th>Country</th>\n",
       "      <th>SUBJECT</th>\n",
       "      <th>Subject</th>\n",
       "      <th>SEX</th>\n",
       "      <th>Sex</th>\n",
       "      <th>FREQUENCY</th>\n",
       "      <th>Frequency</th>\n",
       "      <th>TIME</th>\n",
       "      <th>Time</th>\n",
       "      <th>Unit Code</th>\n",
       "      <th>Unit</th>\n",
       "      <th>PowerCode Code</th>\n",
       "      <th>PowerCode</th>\n",
       "      <th>Reference Period Code</th>\n",
       "      <th>Reference Period</th>\n",
       "      <th>Value</th>\n",
       "      <th>Flag Codes</th>\n",
       "      <th>Flags</th>\n",
       "    </tr>\n",
       "  </thead>\n",
       "  <tbody>\n",
       "    <tr>\n",
       "      <th>0</th>\n",
       "      <td>BEL</td>\n",
       "      <td>Belgium</td>\n",
       "      <td>YA994TL1_ST</td>\n",
       "      <td>Employment in all activities (ISIC rev.4, A-U)</td>\n",
       "      <td>MA</td>\n",
       "      <td>Males</td>\n",
       "      <td>A</td>\n",
       "      <td>Annual</td>\n",
       "      <td>2008</td>\n",
       "      <td>2008</td>\n",
       "      <td>PER</td>\n",
       "      <td>Persons</td>\n",
       "      <td>3</td>\n",
       "      <td>Thousands</td>\n",
       "      <td>NaN</td>\n",
       "      <td>NaN</td>\n",
       "      <td>2460.675</td>\n",
       "      <td>NaN</td>\n",
       "      <td>NaN</td>\n",
       "    </tr>\n",
       "    <tr>\n",
       "      <th>1</th>\n",
       "      <td>BEL</td>\n",
       "      <td>Belgium</td>\n",
       "      <td>YA994TL1_ST</td>\n",
       "      <td>Employment in all activities (ISIC rev.4, A-U)</td>\n",
       "      <td>MA</td>\n",
       "      <td>Males</td>\n",
       "      <td>A</td>\n",
       "      <td>Annual</td>\n",
       "      <td>2009</td>\n",
       "      <td>2009</td>\n",
       "      <td>PER</td>\n",
       "      <td>Persons</td>\n",
       "      <td>3</td>\n",
       "      <td>Thousands</td>\n",
       "      <td>NaN</td>\n",
       "      <td>NaN</td>\n",
       "      <td>2429.325</td>\n",
       "      <td>NaN</td>\n",
       "      <td>NaN</td>\n",
       "    </tr>\n",
       "  </tbody>\n",
       "</table>\n",
       "</div>"
      ],
      "text/plain": [
       "  LOCATION  Country      SUBJECT  \\\n",
       "0      BEL  Belgium  YA994TL1_ST   \n",
       "1      BEL  Belgium  YA994TL1_ST   \n",
       "\n",
       "                                          Subject SEX    Sex FREQUENCY  \\\n",
       "0  Employment in all activities (ISIC rev.4, A-U)  MA  Males         A   \n",
       "1  Employment in all activities (ISIC rev.4, A-U)  MA  Males         A   \n",
       "\n",
       "  Frequency  TIME  Time Unit Code     Unit  PowerCode Code  PowerCode  \\\n",
       "0    Annual  2008  2008       PER  Persons               3  Thousands   \n",
       "1    Annual  2009  2009       PER  Persons               3  Thousands   \n",
       "\n",
       "   Reference Period Code  Reference Period     Value Flag Codes Flags  \n",
       "0                    NaN               NaN  2460.675        NaN   NaN  \n",
       "1                    NaN               NaN  2429.325        NaN   NaN  "
      ]
     },
     "execution_count": 19,
     "metadata": {},
     "output_type": "execute_result"
    }
   ],
   "source": [
    "employment.head(2)"
   ]
  },
  {
   "cell_type": "code",
   "execution_count": 20,
   "metadata": {
    "tags": []
   },
   "outputs": [
    {
     "name": "stdout",
     "output_type": "stream",
     "text": [
      "<class 'pandas.core.frame.DataFrame'>\n",
      "RangeIndex: 24880 entries, 0 to 24879\n",
      "Data columns (total 19 columns):\n",
      " #   Column                 Non-Null Count  Dtype  \n",
      "---  ------                 --------------  -----  \n",
      " 0   LOCATION               24880 non-null  object \n",
      " 1   Country                24880 non-null  object \n",
      " 2   SUBJECT                24880 non-null  object \n",
      " 3   Subject                24880 non-null  object \n",
      " 4   SEX                    24880 non-null  object \n",
      " 5   Sex                    24880 non-null  object \n",
      " 6   FREQUENCY              24880 non-null  object \n",
      " 7   Frequency              24880 non-null  object \n",
      " 8   TIME                   24880 non-null  int64  \n",
      " 9   Time                   24880 non-null  int64  \n",
      " 10  Unit Code              24880 non-null  object \n",
      " 11  Unit                   24880 non-null  object \n",
      " 12  PowerCode Code         24880 non-null  int64  \n",
      " 13  PowerCode              24880 non-null  object \n",
      " 14  Reference Period Code  0 non-null      float64\n",
      " 15  Reference Period       0 non-null      float64\n",
      " 16  Value                  24880 non-null  float64\n",
      " 17  Flag Codes             1641 non-null   object \n",
      " 18  Flags                  1641 non-null   object \n",
      "dtypes: float64(3), int64(3), object(13)\n",
      "memory usage: 3.6+ MB\n"
     ]
    }
   ],
   "source": [
    "employment.info()"
   ]
  },
  {
   "cell_type": "markdown",
   "metadata": {},
   "source": []
  },
  {
   "cell_type": "markdown",
   "metadata": {},
   "source": [
    "### Variables\n",
    "\n",
    "Here are the most relevant variables that will be needed for the project:\n",
    "* **LOCATION**: The country code, in case we need it\n",
    "* **Country**: The name of the country\n",
    "* **Subject**: The type of professional activity\n",
    "* **Sex**: The gender\n",
    "* **Time**: The year \n",
    "* **Value**: The number of people times the 10^**PowerCode**"
   ]
  },
  {
   "cell_type": "markdown",
   "metadata": {},
   "source": [
    "#### Dropping the useless columns"
   ]
  },
  {
   "cell_type": "code",
   "execution_count": 21,
   "metadata": {},
   "outputs": [],
   "source": [
    "useless_columns = ['SUBJECT', 'Frequency', 'SEX', 'FREQUENCY', 'TIME', 'Unit Code', 'Reference Period Code', 'Reference Period', 'Flag Codes', 'Flags', 'Unit', 'PowerCode', 'PowerCode Code']\n",
    "employment = employment.drop(columns=useless_columns)"
   ]
  },
  {
   "cell_type": "markdown",
   "metadata": {},
   "source": [
    "#### LOCATION & Country\n",
    "Let's rename the indexes and change the type of the variables in order to make them more understandable."
   ]
  },
  {
   "cell_type": "code",
   "execution_count": 22,
   "metadata": {
    "tags": []
   },
   "outputs": [],
   "source": [
    "loc_country = {'LOCATION':'country_code', 'Country':'country'}\n",
    "employment = employment.rename(columns=loc_country)\n",
    "\n",
    "for col in loc_country.values():\n",
    "    employment[col] = employment[col].astype('string')"
   ]
  },
  {
   "cell_type": "markdown",
   "metadata": {},
   "source": [
    "#### Subject\n",
    "Let's try to understand this variable and make it more understandable."
   ]
  },
  {
   "cell_type": "code",
   "execution_count": 23,
   "metadata": {},
   "outputs": [
    {
     "data": {
      "text/plain": [
       "['Employment in all activities (ISIC rev.4, A-U)',\n",
       " 'Employment in Agriculture,hunting and forestry (ISIC rev4, A)',\n",
       " 'Agriculture,hunting and forestry (A) ',\n",
       " 'Employment in Industry (ISIC rev4, B-F)',\n",
       " 'Mining and quarrying (B)',\n",
       " 'Manufacturing (C )',\n",
       " 'Electricity, gas, steam and air conditioning supply (D)',\n",
       " 'Water supply, sewerage, waste management and remediation activities (E)',\n",
       " 'Construction (F)',\n",
       " 'Employment in Services (ISIC rev.4, G-U)',\n",
       " 'Wholesale and retail trade, repair of motor vehicles and motorcycles (G)',\n",
       " 'Transportation and storage (H)',\n",
       " 'Accommodation and food service activities (I)',\n",
       " 'Information and communication (J)',\n",
       " 'Financial and insurance activities (K)',\n",
       " 'Real estate activities (L)',\n",
       " 'Professional, scientific and technical activities (M)',\n",
       " 'Administrative and support service activities (N)',\n",
       " 'Public administration and defence, Compulsory social security (O)',\n",
       " 'Education (P)',\n",
       " 'Human health and social work activities (Q)',\n",
       " 'Arts, entertainment and recreation ( R)',\n",
       " 'Other service activities (S)',\n",
       " 'Activities of households as employers undifferentiated goods- and services-producing activities of households for own use (T)',\n",
       " 'Activities of extraterritorial organisations and bodies (U)']"
      ]
     },
     "execution_count": 23,
     "metadata": {},
     "output_type": "execute_result"
    }
   ],
   "source": [
    "employment['Subject'].unique().tolist()\n"
   ]
  },
  {
   "cell_type": "markdown",
   "metadata": {},
   "source": [
    "#### Task: Identify which activity can be classified as desk job.\n",
    "After identifying the manual and desk activities we will create a new variable 'activity' which will either be **MANUAL** or **DESK**."
   ]
  },
  {
   "cell_type": "code",
   "execution_count": null,
   "metadata": {},
   "outputs": [],
   "source": []
  },
  {
   "cell_type": "code",
   "execution_count": 24,
   "metadata": {},
   "outputs": [],
   "source": [
    "# Temporary identification\n",
    "manual_activity = [\n",
    "    'Employment in Agriculture,hunting and forestry (ISIC rev4, A)', # + Ss categories\n",
    "    'Employment in Industry (ISIC rev4, B-F)', # + Ss categories\n",
    "    'Wholesale and retail trade, repair of motor vehicles and motorcycles (G)',\n",
    "    'Transportation and storage (H)',\n",
    "    'Accommodation and food service activities (I)',\n",
    "    'Other service activities (S)',\n",
    "    'Activities of households as employers undifferentiated goods- and services-producing activities of households for own use (T)',\n",
    "]\n",
    "\n",
    "no_manual_activity = [\n",
    "    'Information and communication (J)',\n",
    "    'Financial and insurance activities (K)',\n",
    "    'Real estate activities (L)',\n",
    "    'Professional, scientific and technical activities (M)',\n",
    "    'Administrative and support service activities (N)',\n",
    "    'Public administration and defence, Compulsory social security (O)',\n",
    "    'Education (P)',\n",
    "    'Human health and social work activities (Q)',\n",
    "    'Arts, entertainment and recreation ( R)',\n",
    "    'Activities of extraterritorial organisations and bodies (U)'\n",
    "]\n",
    "\n",
    "def is_desk_manual(string):\n",
    "    manual = ['A', 'B', 'C ', 'D', 'E', 'F', 'G', 'H', 'I', 'S', 'T']\n",
    "    desk = ['J', 'K', 'L', 'M', 'N', 'O', 'P', 'Q', ' R', 'U']\n",
    "    \n",
    "    for x in manual:\n",
    "        if '({})'.format(x) in string: return 'M'\n",
    "    for x in desk:\n",
    "        if '({})'.format(x) in string: return 'D'\n",
    "        \n",
    "    return 'U'\n",
    "\n",
    "    "
   ]
  },
  {
   "cell_type": "code",
   "execution_count": 25,
   "metadata": {},
   "outputs": [],
   "source": [
    "# Create a new variable\n",
    "employment['activity'] = employment['Subject'].apply(lambda x: is_desk_manual(x))\n",
    "\n",
    "# Delete the former\n",
    "employment = employment.rename(columns={'Subject':'subject'})"
   ]
  },
  {
   "cell_type": "code",
   "execution_count": 26,
   "metadata": {
    "tags": []
   },
   "outputs": [],
   "source": [
    "# Change the type of the variable\n",
    "employment['activity'] = employment['activity'].astype('category')"
   ]
  },
  {
   "cell_type": "code",
   "execution_count": 27,
   "metadata": {},
   "outputs": [
    {
     "data": {
      "text/plain": [
       "['Information and communication (J)',\n",
       " 'Financial and insurance activities (K)',\n",
       " 'Real estate activities (L)',\n",
       " 'Professional, scientific and technical activities (M)',\n",
       " 'Administrative and support service activities (N)',\n",
       " 'Public administration and defence, Compulsory social security (O)',\n",
       " 'Education (P)',\n",
       " 'Human health and social work activities (Q)',\n",
       " 'Arts, entertainment and recreation ( R)',\n",
       " 'Activities of extraterritorial organisations and bodies (U)']"
      ]
     },
     "execution_count": 27,
     "metadata": {},
     "output_type": "execute_result"
    }
   ],
   "source": [
    "employment.query(\"activity == 'D'\")['subject'].unique().tolist()"
   ]
  },
  {
   "cell_type": "code",
   "execution_count": 28,
   "metadata": {},
   "outputs": [
    {
     "data": {
      "text/plain": [
       "['Agriculture,hunting and forestry (A) ',\n",
       " 'Mining and quarrying (B)',\n",
       " 'Manufacturing (C )',\n",
       " 'Electricity, gas, steam and air conditioning supply (D)',\n",
       " 'Water supply, sewerage, waste management and remediation activities (E)',\n",
       " 'Construction (F)',\n",
       " 'Wholesale and retail trade, repair of motor vehicles and motorcycles (G)',\n",
       " 'Transportation and storage (H)',\n",
       " 'Accommodation and food service activities (I)',\n",
       " 'Other service activities (S)',\n",
       " 'Activities of households as employers undifferentiated goods- and services-producing activities of households for own use (T)']"
      ]
     },
     "execution_count": 28,
     "metadata": {},
     "output_type": "execute_result"
    }
   ],
   "source": [
    "employment.query(\"activity == 'M'\")['subject'].unique().tolist()"
   ]
  },
  {
   "cell_type": "code",
   "execution_count": 29,
   "metadata": {},
   "outputs": [
    {
     "data": {
      "text/plain": [
       "['Employment in all activities (ISIC rev.4, A-U)',\n",
       " 'Employment in Agriculture,hunting and forestry (ISIC rev4, A)',\n",
       " 'Employment in Industry (ISIC rev4, B-F)',\n",
       " 'Employment in Services (ISIC rev.4, G-U)']"
      ]
     },
     "execution_count": 29,
     "metadata": {},
     "output_type": "execute_result"
    }
   ],
   "source": [
    "employment.query(\"activity == 'U'\")['subject'].unique().tolist()"
   ]
  },
  {
   "cell_type": "markdown",
   "metadata": {
    "tags": []
   },
   "source": [
    "#### Sex\n",
    "Let's change values in order to make them like in the **obesity dataset** and also change the type."
   ]
  },
  {
   "cell_type": "code",
   "execution_count": 30,
   "metadata": {},
   "outputs": [
    {
     "data": {
      "text/plain": [
       "['Males', 'Females', 'All persons']"
      ]
     },
     "execution_count": 30,
     "metadata": {},
     "output_type": "execute_result"
    }
   ],
   "source": [
    "employment['Sex'].unique().tolist()"
   ]
  },
  {
   "cell_type": "code",
   "execution_count": 31,
   "metadata": {},
   "outputs": [],
   "source": [
    "sex_values = {\n",
    "    \"Males\":'M',\n",
    "    \"Females\":'F',\n",
    "    \"All persons\":'B'\n",
    "}\n",
    "\n",
    "# Replace values\n",
    "employment = employment.replace({'Sex':sex_values})\n",
    "\n",
    "# Change the type of the variable\n",
    "employment['Sex'] = employment['Sex'].astype('category')\n",
    "\n",
    "# Rename variable\n",
    "employment = employment.rename(columns={'Sex':'sex'})"
   ]
  },
  {
   "cell_type": "markdown",
   "metadata": {
    "tags": []
   },
   "source": [
    "#### Time\n",
    "Let's take a look at this variable."
   ]
  },
  {
   "cell_type": "code",
   "execution_count": 32,
   "metadata": {
    "scrolled": false
   },
   "outputs": [
    {
     "data": {
      "text/plain": [
       "2016    2179\n",
       "2017    2165\n",
       "2018    2162\n",
       "2015    2135\n",
       "2013    2116\n",
       "2014    2112\n",
       "2019    2080\n",
       "2012    2063\n",
       "2011    2050\n",
       "2010    2046\n",
       "2009    1917\n",
       "2008    1855\n",
       "Name: Time, dtype: int64"
      ]
     },
     "execution_count": 32,
     "metadata": {},
     "output_type": "execute_result"
    }
   ],
   "source": [
    "employment['Time'].value_counts()"
   ]
  },
  {
   "cell_type": "markdown",
   "metadata": {},
   "source": [
    "We can see that the **Time** variable represents years between \\[2008:2019\\]. So let's replace the **Time** variable to **year**."
   ]
  },
  {
   "cell_type": "code",
   "execution_count": 33,
   "metadata": {},
   "outputs": [],
   "source": [
    "# Change variable\n",
    "employment = employment.rename(columns={'Time':'year'})"
   ]
  },
  {
   "cell_type": "code",
   "execution_count": null,
   "metadata": {
    "tags": []
   },
   "outputs": [],
   "source": []
  },
  {
   "cell_type": "markdown",
   "metadata": {},
   "source": [
    "#### Value\n",
    "The most important variable."
   ]
  },
  {
   "cell_type": "code",
   "execution_count": 34,
   "metadata": {},
   "outputs": [],
   "source": [
    "# Rename the variable\n",
    "employment = employment.rename(columns={'Value':'value'})\n",
    "\n",
    "# Changing the values\n",
    "employment['value'] = employment['value'].apply(lambda x: x* 1000) "
   ]
  },
  {
   "cell_type": "markdown",
   "metadata": {},
   "source": [
    "#### Continent\n",
    "The 'continent' variable is also added."
   ]
  },
  {
   "cell_type": "code",
   "execution_count": 35,
   "metadata": {},
   "outputs": [],
   "source": [
    "employment['continent'] = employment['country'].apply(lambda x: convert_country_to_continent(x))"
   ]
  },
  {
   "cell_type": "markdown",
   "metadata": {},
   "source": [
    "### Final Check"
   ]
  },
  {
   "cell_type": "code",
   "execution_count": 36,
   "metadata": {
    "tags": []
   },
   "outputs": [
    {
     "name": "stdout",
     "output_type": "stream",
     "text": [
      "<class 'pandas.core.frame.DataFrame'>\n",
      "RangeIndex: 24880 entries, 0 to 24879\n",
      "Data columns (total 8 columns):\n",
      " #   Column        Non-Null Count  Dtype   \n",
      "---  ------        --------------  -----   \n",
      " 0   country_code  24880 non-null  string  \n",
      " 1   country       24880 non-null  string  \n",
      " 2   subject       24880 non-null  object  \n",
      " 3   sex           24880 non-null  category\n",
      " 4   year          24880 non-null  int64   \n",
      " 5   value         24880 non-null  float64 \n",
      " 6   activity      24880 non-null  category\n",
      " 7   continent     24880 non-null  object  \n",
      "dtypes: category(2), float64(1), int64(1), object(2), string(2)\n",
      "memory usage: 1.2+ MB\n"
     ]
    }
   ],
   "source": [
    "employment.info()"
   ]
  },
  {
   "cell_type": "code",
   "execution_count": 37,
   "metadata": {
    "tags": []
   },
   "outputs": [
    {
     "name": "stdout",
     "output_type": "stream",
     "text": [
      "B    10067\n",
      "M     7411\n",
      "F     7402\n",
      "Name: sex, dtype: int64\n",
      "\n",
      "M    10750\n",
      "D     9643\n",
      "U     4487\n",
      "Name: activity, dtype: int64\n",
      "\n"
     ]
    }
   ],
   "source": [
    "cat = ['sex', 'activity']\n",
    "\n",
    "for e in cat:\n",
    "    print(employment[e].value_counts())\n",
    "    print()"
   ]
  },
  {
   "cell_type": "code",
   "execution_count": 38,
   "metadata": {},
   "outputs": [
    {
     "data": {
      "text/plain": [
       "<StringArray>\n",
       "[        'Belgium',  'Czech Republic',         'Denmark',         'Finland',\n",
       "         'Germany',          'Greece',         'Hungary',         'Iceland',\n",
       "           'Italy',           'Japan',           'Korea',          'Mexico',\n",
       "     'Netherlands',          'Norway',          'Poland',        'Portugal',\n",
       " 'Slovak Republic',           'Spain',          'Sweden',     'Switzerland',\n",
       "          'Turkey',  'United Kingdom',         'Estonia',        'Slovenia',\n",
       "     'New Zealand',      'Luxembourg',         'Austria',          'Israel',\n",
       "          'Latvia',          'France',         'Ireland',       'Australia',\n",
       "           'Chile',       'Lithuania',          'Brazil',      'Costa Rica',\n",
       "          'Russia',        'Colombia']\n",
       "Length: 38, dtype: string"
      ]
     },
     "execution_count": 38,
     "metadata": {},
     "output_type": "execute_result"
    }
   ],
   "source": [
    "employment['country'].unique()"
   ]
  },
  {
   "cell_type": "code",
   "execution_count": 39,
   "metadata": {},
   "outputs": [
    {
     "data": {
      "text/html": [
       "<div>\n",
       "<style scoped>\n",
       "    .dataframe tbody tr th:only-of-type {\n",
       "        vertical-align: middle;\n",
       "    }\n",
       "\n",
       "    .dataframe tbody tr th {\n",
       "        vertical-align: top;\n",
       "    }\n",
       "\n",
       "    .dataframe thead th {\n",
       "        text-align: right;\n",
       "    }\n",
       "</style>\n",
       "<table border=\"1\" class=\"dataframe\">\n",
       "  <thead>\n",
       "    <tr style=\"text-align: right;\">\n",
       "      <th></th>\n",
       "      <th>year</th>\n",
       "      <th>value</th>\n",
       "    </tr>\n",
       "  </thead>\n",
       "  <tbody>\n",
       "    <tr>\n",
       "      <th>count</th>\n",
       "      <td>24880.000000</td>\n",
       "      <td>2.488000e+04</td>\n",
       "    </tr>\n",
       "    <tr>\n",
       "      <th>mean</th>\n",
       "      <td>2013.628014</td>\n",
       "      <td>1.358108e+06</td>\n",
       "    </tr>\n",
       "    <tr>\n",
       "      <th>std</th>\n",
       "      <td>3.412644</td>\n",
       "      <td>4.635936e+06</td>\n",
       "    </tr>\n",
       "    <tr>\n",
       "      <th>min</th>\n",
       "      <td>2008.000000</td>\n",
       "      <td>0.000000e+00</td>\n",
       "    </tr>\n",
       "    <tr>\n",
       "      <th>25%</th>\n",
       "      <td>2011.000000</td>\n",
       "      <td>3.945000e+04</td>\n",
       "    </tr>\n",
       "    <tr>\n",
       "      <th>50%</th>\n",
       "      <td>2014.000000</td>\n",
       "      <td>1.700875e+05</td>\n",
       "    </tr>\n",
       "    <tr>\n",
       "      <th>75%</th>\n",
       "      <td>2017.000000</td>\n",
       "      <td>7.964125e+05</td>\n",
       "    </tr>\n",
       "    <tr>\n",
       "      <th>max</th>\n",
       "      <td>2019.000000</td>\n",
       "      <td>9.220573e+07</td>\n",
       "    </tr>\n",
       "  </tbody>\n",
       "</table>\n",
       "</div>"
      ],
      "text/plain": [
       "               year         value\n",
       "count  24880.000000  2.488000e+04\n",
       "mean    2013.628014  1.358108e+06\n",
       "std        3.412644  4.635936e+06\n",
       "min     2008.000000  0.000000e+00\n",
       "25%     2011.000000  3.945000e+04\n",
       "50%     2014.000000  1.700875e+05\n",
       "75%     2017.000000  7.964125e+05\n",
       "max     2019.000000  9.220573e+07"
      ]
     },
     "execution_count": 39,
     "metadata": {},
     "output_type": "execute_result"
    }
   ],
   "source": [
    "employment.describe()"
   ]
  },
  {
   "cell_type": "markdown",
   "metadata": {},
   "source": [
    "### Save the data"
   ]
  },
  {
   "cell_type": "code",
   "execution_count": 40,
   "metadata": {},
   "outputs": [],
   "source": [
    "# employment.to_csv('data/employment_final.csv', index=False)"
   ]
  },
  {
   "cell_type": "markdown",
   "metadata": {},
   "source": [
    "# Merge into one DataFame"
   ]
  },
  {
   "cell_type": "code",
   "execution_count": 41,
   "metadata": {},
   "outputs": [
    {
     "data": {
      "text/html": [
       "<div>\n",
       "<style scoped>\n",
       "    .dataframe tbody tr th:only-of-type {\n",
       "        vertical-align: middle;\n",
       "    }\n",
       "\n",
       "    .dataframe tbody tr th {\n",
       "        vertical-align: top;\n",
       "    }\n",
       "\n",
       "    .dataframe thead th {\n",
       "        text-align: right;\n",
       "    }\n",
       "</style>\n",
       "<table border=\"1\" class=\"dataframe\">\n",
       "  <thead>\n",
       "    <tr style=\"text-align: right;\">\n",
       "      <th></th>\n",
       "      <th>country</th>\n",
       "      <th>year</th>\n",
       "      <th>sex</th>\n",
       "      <th>obesity</th>\n",
       "      <th>min_obesity</th>\n",
       "      <th>max_obesity</th>\n",
       "      <th>continent</th>\n",
       "    </tr>\n",
       "  </thead>\n",
       "  <tbody>\n",
       "    <tr>\n",
       "      <th>0</th>\n",
       "      <td>Afghanistan</td>\n",
       "      <td>1975</td>\n",
       "      <td>B</td>\n",
       "      <td>0.5</td>\n",
       "      <td>0.2</td>\n",
       "      <td>1.1</td>\n",
       "      <td>Asia</td>\n",
       "    </tr>\n",
       "    <tr>\n",
       "      <th>1</th>\n",
       "      <td>Afghanistan</td>\n",
       "      <td>1975</td>\n",
       "      <td>M</td>\n",
       "      <td>0.2</td>\n",
       "      <td>0.0</td>\n",
       "      <td>0.6</td>\n",
       "      <td>Asia</td>\n",
       "    </tr>\n",
       "    <tr>\n",
       "      <th>2</th>\n",
       "      <td>Afghanistan</td>\n",
       "      <td>1975</td>\n",
       "      <td>F</td>\n",
       "      <td>0.8</td>\n",
       "      <td>0.2</td>\n",
       "      <td>2.0</td>\n",
       "      <td>Asia</td>\n",
       "    </tr>\n",
       "  </tbody>\n",
       "</table>\n",
       "</div>"
      ],
      "text/plain": [
       "       country  year sex  obesity  min_obesity  max_obesity continent\n",
       "0  Afghanistan  1975   B      0.5          0.2          1.1      Asia\n",
       "1  Afghanistan  1975   M      0.2          0.0          0.6      Asia\n",
       "2  Afghanistan  1975   F      0.8          0.2          2.0      Asia"
      ]
     },
     "execution_count": 41,
     "metadata": {},
     "output_type": "execute_result"
    }
   ],
   "source": [
    "obesity.head(3)"
   ]
  },
  {
   "cell_type": "code",
   "execution_count": 42,
   "metadata": {},
   "outputs": [
    {
     "data": {
      "text/html": [
       "<div>\n",
       "<style scoped>\n",
       "    .dataframe tbody tr th:only-of-type {\n",
       "        vertical-align: middle;\n",
       "    }\n",
       "\n",
       "    .dataframe tbody tr th {\n",
       "        vertical-align: top;\n",
       "    }\n",
       "\n",
       "    .dataframe thead th {\n",
       "        text-align: right;\n",
       "    }\n",
       "</style>\n",
       "<table border=\"1\" class=\"dataframe\">\n",
       "  <thead>\n",
       "    <tr style=\"text-align: right;\">\n",
       "      <th></th>\n",
       "      <th>country_code</th>\n",
       "      <th>country</th>\n",
       "      <th>subject</th>\n",
       "      <th>sex</th>\n",
       "      <th>year</th>\n",
       "      <th>value</th>\n",
       "      <th>activity</th>\n",
       "      <th>continent</th>\n",
       "    </tr>\n",
       "  </thead>\n",
       "  <tbody>\n",
       "    <tr>\n",
       "      <th>0</th>\n",
       "      <td>BEL</td>\n",
       "      <td>Belgium</td>\n",
       "      <td>Employment in all activities (ISIC rev.4, A-U)</td>\n",
       "      <td>M</td>\n",
       "      <td>2008</td>\n",
       "      <td>2460675.0</td>\n",
       "      <td>U</td>\n",
       "      <td>Europe</td>\n",
       "    </tr>\n",
       "    <tr>\n",
       "      <th>1</th>\n",
       "      <td>BEL</td>\n",
       "      <td>Belgium</td>\n",
       "      <td>Employment in all activities (ISIC rev.4, A-U)</td>\n",
       "      <td>M</td>\n",
       "      <td>2009</td>\n",
       "      <td>2429325.0</td>\n",
       "      <td>U</td>\n",
       "      <td>Europe</td>\n",
       "    </tr>\n",
       "    <tr>\n",
       "      <th>2</th>\n",
       "      <td>BEL</td>\n",
       "      <td>Belgium</td>\n",
       "      <td>Employment in all activities (ISIC rev.4, A-U)</td>\n",
       "      <td>M</td>\n",
       "      <td>2010</td>\n",
       "      <td>2457775.0</td>\n",
       "      <td>U</td>\n",
       "      <td>Europe</td>\n",
       "    </tr>\n",
       "  </tbody>\n",
       "</table>\n",
       "</div>"
      ],
      "text/plain": [
       "  country_code  country                                         subject sex  \\\n",
       "0          BEL  Belgium  Employment in all activities (ISIC rev.4, A-U)   M   \n",
       "1          BEL  Belgium  Employment in all activities (ISIC rev.4, A-U)   M   \n",
       "2          BEL  Belgium  Employment in all activities (ISIC rev.4, A-U)   M   \n",
       "\n",
       "   year      value activity continent  \n",
       "0  2008  2460675.0        U    Europe  \n",
       "1  2009  2429325.0        U    Europe  \n",
       "2  2010  2457775.0        U    Europe  "
      ]
     },
     "execution_count": 42,
     "metadata": {},
     "output_type": "execute_result"
    }
   ],
   "source": [
    "employment.head(3)"
   ]
  },
  {
   "cell_type": "code",
   "execution_count": 43,
   "metadata": {
    "tags": []
   },
   "outputs": [
    {
     "name": "stdout",
     "output_type": "stream",
     "text": [
      "Dimensions obesity: (24570, 7)\n",
      "Dimensions employment: (24880, 8)\n"
     ]
    }
   ],
   "source": [
    "print('Dimensions obesity: ' + str(obesity.shape))\n",
    "print('Dimensions employment: ' + str(employment.shape))"
   ]
  },
  {
   "cell_type": "code",
   "execution_count": 44,
   "metadata": {},
   "outputs": [
    {
     "data": {
      "text/html": [
       "<div>\n",
       "<style scoped>\n",
       "    .dataframe tbody tr th:only-of-type {\n",
       "        vertical-align: middle;\n",
       "    }\n",
       "\n",
       "    .dataframe tbody tr th {\n",
       "        vertical-align: top;\n",
       "    }\n",
       "\n",
       "    .dataframe thead th {\n",
       "        text-align: right;\n",
       "    }\n",
       "</style>\n",
       "<table border=\"1\" class=\"dataframe\">\n",
       "  <thead>\n",
       "    <tr style=\"text-align: right;\">\n",
       "      <th></th>\n",
       "      <th>country</th>\n",
       "      <th>year</th>\n",
       "      <th>sex</th>\n",
       "      <th>obesity</th>\n",
       "      <th>min_obesity</th>\n",
       "      <th>max_obesity</th>\n",
       "      <th>continent</th>\n",
       "      <th>country_code</th>\n",
       "      <th>subject</th>\n",
       "      <th>value</th>\n",
       "      <th>activity</th>\n",
       "    </tr>\n",
       "  </thead>\n",
       "  <tbody>\n",
       "    <tr>\n",
       "      <th>0</th>\n",
       "      <td>Australia</td>\n",
       "      <td>2008</td>\n",
       "      <td>B</td>\n",
       "      <td>24.6</td>\n",
       "      <td>22.1</td>\n",
       "      <td>27.2</td>\n",
       "      <td>Oceania</td>\n",
       "      <td>AUS</td>\n",
       "      <td>Employment in all activities (ISIC rev.4, A-U)</td>\n",
       "      <td>10695120.0</td>\n",
       "      <td>U</td>\n",
       "    </tr>\n",
       "    <tr>\n",
       "      <th>1</th>\n",
       "      <td>Australia</td>\n",
       "      <td>2008</td>\n",
       "      <td>B</td>\n",
       "      <td>24.6</td>\n",
       "      <td>22.1</td>\n",
       "      <td>27.2</td>\n",
       "      <td>Oceania</td>\n",
       "      <td>AUS</td>\n",
       "      <td>Employment in Agriculture,hunting and forestry...</td>\n",
       "      <td>344739.0</td>\n",
       "      <td>U</td>\n",
       "    </tr>\n",
       "    <tr>\n",
       "      <th>2</th>\n",
       "      <td>Australia</td>\n",
       "      <td>2008</td>\n",
       "      <td>B</td>\n",
       "      <td>24.6</td>\n",
       "      <td>22.1</td>\n",
       "      <td>27.2</td>\n",
       "      <td>Oceania</td>\n",
       "      <td>AUS</td>\n",
       "      <td>Employment in Services (ISIC rev.4, G-U)</td>\n",
       "      <td>7954637.0</td>\n",
       "      <td>U</td>\n",
       "    </tr>\n",
       "    <tr>\n",
       "      <th>3</th>\n",
       "      <td>Australia</td>\n",
       "      <td>2008</td>\n",
       "      <td>B</td>\n",
       "      <td>24.6</td>\n",
       "      <td>22.1</td>\n",
       "      <td>27.2</td>\n",
       "      <td>Oceania</td>\n",
       "      <td>AUS</td>\n",
       "      <td>Employment in Industry (ISIC rev4, B-F)</td>\n",
       "      <td>2395745.0</td>\n",
       "      <td>U</td>\n",
       "    </tr>\n",
       "    <tr>\n",
       "      <th>4</th>\n",
       "      <td>Australia</td>\n",
       "      <td>2008</td>\n",
       "      <td>B</td>\n",
       "      <td>24.6</td>\n",
       "      <td>22.1</td>\n",
       "      <td>27.2</td>\n",
       "      <td>Oceania</td>\n",
       "      <td>AUS</td>\n",
       "      <td>Other service activities (S)</td>\n",
       "      <td>233830.0</td>\n",
       "      <td>M</td>\n",
       "    </tr>\n",
       "  </tbody>\n",
       "</table>\n",
       "</div>"
      ],
      "text/plain": [
       "     country  year sex  obesity  min_obesity  max_obesity continent  \\\n",
       "0  Australia  2008   B     24.6         22.1         27.2   Oceania   \n",
       "1  Australia  2008   B     24.6         22.1         27.2   Oceania   \n",
       "2  Australia  2008   B     24.6         22.1         27.2   Oceania   \n",
       "3  Australia  2008   B     24.6         22.1         27.2   Oceania   \n",
       "4  Australia  2008   B     24.6         22.1         27.2   Oceania   \n",
       "\n",
       "  country_code                                            subject       value  \\\n",
       "0          AUS     Employment in all activities (ISIC rev.4, A-U)  10695120.0   \n",
       "1          AUS  Employment in Agriculture,hunting and forestry...    344739.0   \n",
       "2          AUS           Employment in Services (ISIC rev.4, G-U)   7954637.0   \n",
       "3          AUS            Employment in Industry (ISIC rev4, B-F)   2395745.0   \n",
       "4          AUS                       Other service activities (S)    233830.0   \n",
       "\n",
       "  activity  \n",
       "0        U  \n",
       "1        U  \n",
       "2        U  \n",
       "3        U  \n",
       "4        M  "
      ]
     },
     "execution_count": 44,
     "metadata": {},
     "output_type": "execute_result"
    }
   ],
   "source": [
    "analytics = pd.merge(obesity, employment, on=['country', 'year', 'sex', 'continent'])\n",
    "analytics.head()"
   ]
  },
  {
   "cell_type": "code",
   "execution_count": null,
   "metadata": {},
   "outputs": [],
   "source": []
  },
  {
   "cell_type": "code",
   "execution_count": 68,
   "metadata": {},
   "outputs": [
    {
     "data": {
      "application/vnd.plotly.v1+json": {
       "config": {
        "plotlyServerURL": "https://plot.ly"
       },
       "data": [
        {
         "hovertemplate": "continent=Asia<br>year=%{x}<br>mean=%{y}<extra></extra>",
         "legendgroup": "Asia",
         "marker": {
          "color": "#636efa",
          "symbol": "circle"
         },
         "mode": "markers",
         "name": "Asia",
         "orientation": "v",
         "showlegend": true,
         "type": "scatter",
         "x": [
          1975,
          1976,
          1977,
          1978,
          1979,
          1980,
          1981,
          1982,
          1983,
          1984,
          1985,
          1986,
          1987,
          1988,
          1989,
          1990,
          1991,
          1992,
          1993,
          1994,
          1995,
          1996,
          1997,
          1998,
          1999,
          2000,
          2001,
          2002,
          2003,
          2004,
          2005,
          2006,
          2007,
          2008,
          2009,
          2010,
          2011,
          2012,
          2013,
          2014,
          2015,
          2016
         ],
         "xaxis": "x",
         "y": [
          4.810638297872341,
          4.982978723404255,
          5.161702127659575,
          5.336170212765958,
          5.517021276595743,
          5.712765957446808,
          5.914893617021278,
          6.123404255319151,
          6.319148936170214,
          6.546808510638297,
          6.768085106382979,
          7.000000000000001,
          7.229787234042555,
          7.465957446808511,
          7.695744680851067,
          7.923404255319151,
          8.153191489361703,
          8.387234042553192,
          8.619148936170209,
          8.848936170212763,
          9.100000000000001,
          9.35744680851064,
          9.623404255319146,
          9.889361702127658,
          10.163829787234047,
          10.442553191489361,
          10.71914893617021,
          11.006382978723403,
          11.302127659574467,
          11.606382978723405,
          11.917021276595742,
          12.244680851063828,
          12.591489361702129,
          12.946808510638295,
          13.32127659574468,
          13.697872340425532,
          14.09574468085106,
          14.487234042553194,
          14.919148936170217,
          15.336170212765953,
          15.782978723404254,
          16.229787234042558
         ],
         "yaxis": "y"
        },
        {
         "hovertemplate": "<b>LOWESS trendline</b><br><br>continent=Asia<br>year=%{x}<br>mean=%{y} <b>(trend)</b><extra></extra>",
         "legendgroup": "Asia",
         "marker": {
          "color": "#636efa",
          "symbol": "circle"
         },
         "mode": "lines",
         "name": "Asia",
         "showlegend": false,
         "type": "scatter",
         "x": [
          1975,
          1976,
          1977,
          1978,
          1979,
          1980,
          1981,
          1982,
          1983,
          1984,
          1985,
          1986,
          1987,
          1988,
          1989,
          1990,
          1991,
          1992,
          1993,
          1994,
          1995,
          1996,
          1997,
          1998,
          1999,
          2000,
          2001,
          2002,
          2003,
          2004,
          2005,
          2006,
          2007,
          2008,
          2009,
          2010,
          2011,
          2012,
          2013,
          2014,
          2015,
          2016
         ],
         "xaxis": "x",
         "y": [
          4.6761834530314905,
          4.889923021889808,
          5.104209390359787,
          5.3190305024113655,
          5.534351376591896,
          5.750123616924817,
          5.966294174437623,
          6.182811487912567,
          6.399630424134471,
          6.6167176807589705,
          6.834062272490904,
          7.051700890721038,
          7.269850959853447,
          7.489518560112621,
          7.71921454237226,
          7.9527276255105,
          8.190060950251091,
          8.431197966173439,
          8.676161310105181,
          8.925100345535213,
          9.178372632153927,
          9.436590384846827,
          9.700611253898789,
          9.971387592512029,
          10.249699734586605,
          10.535902181252984,
          10.82984251850045,
          11.130981688856876,
          11.438587224598061,
          11.765967387440684,
          12.093896527722597,
          12.422251407197892,
          12.751178354062517,
          13.080826209985398,
          13.411337280219804,
          13.742854418223601,
          14.075517282866038,
          14.409450595743715,
          14.744745443853157,
          15.081440914099732,
          15.419506833470326,
          15.758848090778992
         ],
         "yaxis": "y"
        },
        {
         "hovertemplate": "continent=Europe<br>year=%{x}<br>mean=%{y}<extra></extra>",
         "legendgroup": "Europe",
         "marker": {
          "color": "#EF553B",
          "symbol": "circle"
         },
         "mode": "markers",
         "name": "Europe",
         "orientation": "v",
         "showlegend": true,
         "type": "scatter",
         "x": [
          1975,
          1976,
          1977,
          1978,
          1979,
          1980,
          1981,
          1982,
          1983,
          1984,
          1985,
          1986,
          1987,
          1988,
          1989,
          1990,
          1991,
          1992,
          1993,
          1994,
          1995,
          1996,
          1997,
          1998,
          1999,
          2000,
          2001,
          2002,
          2003,
          2004,
          2005,
          2006,
          2007,
          2008,
          2009,
          2010,
          2011,
          2012,
          2013,
          2014,
          2015,
          2016
         ],
         "xaxis": "x",
         "y": [
          8.759523809523808,
          9.030952380952382,
          9.292857142857141,
          9.561904761904763,
          9.845238095238097,
          10.126190476190477,
          10.407142857142857,
          10.69285714285714,
          10.976190476190476,
          11.269047619047615,
          11.547619047619047,
          11.833333333333334,
          12.119047619047617,
          12.416666666666666,
          12.70714285714286,
          13.000000000000004,
          13.304761904761904,
          13.599999999999998,
          13.888095238095238,
          14.195238095238091,
          14.49761904761905,
          14.795238095238098,
          15.097619047619045,
          15.404761904761907,
          15.709523809523809,
          16.028571428571432,
          16.34523809523809,
          16.671428571428574,
          16.990476190476187,
          17.326190476190483,
          17.671428571428567,
          18.00952380952381,
          18.364285714285717,
          18.71428571428571,
          19.06904761904762,
          19.41904761904762,
          19.78333333333334,
          20.14285714285714,
          20.509523809523813,
          20.885714285714286,
          21.26666666666667,
          21.659523809523808
         ],
         "yaxis": "y"
        },
        {
         "hovertemplate": "<b>LOWESS trendline</b><br><br>continent=Europe<br>year=%{x}<br>mean=%{y} <b>(trend)</b><extra></extra>",
         "legendgroup": "Europe",
         "marker": {
          "color": "#EF553B",
          "symbol": "circle"
         },
         "mode": "lines",
         "name": "Europe",
         "showlegend": false,
         "type": "scatter",
         "x": [
          1975,
          1976,
          1977,
          1978,
          1979,
          1980,
          1981,
          1982,
          1983,
          1984,
          1985,
          1986,
          1987,
          1988,
          1989,
          1990,
          1991,
          1992,
          1993,
          1994,
          1995,
          1996,
          1997,
          1998,
          1999,
          2000,
          2001,
          2002,
          2003,
          2004,
          2005,
          2006,
          2007,
          2008,
          2009,
          2010,
          2011,
          2012,
          2013,
          2014,
          2015,
          2016
         ],
         "xaxis": "x",
         "y": [
          8.704892794329075,
          8.990778939768559,
          9.276880623517105,
          9.56319446215623,
          9.849710327149529,
          10.136415689916634,
          10.423297168712466,
          10.710342111653983,
          10.997540490497194,
          11.284886447724997,
          11.572380601328817,
          11.86003676266366,
          12.147927832306998,
          12.436397556272519,
          12.72879724344671,
          13.02266797307583,
          13.318103162408967,
          13.615259373321056,
          13.914380460065914,
          14.215772525538316,
          14.519837014509195,
          14.826997842663744,
          15.137579504638854,
          15.451689734525251,
          15.76921313719173,
          16.089876299603763,
          16.413340747089542,
          16.739282246901713,
          17.067458761331157,
          17.404224641979507,
          17.741085243376894,
          18.078157656361093,
          18.41555187035507,
          18.75333991346369,
          19.09157532721153,
          19.43030347387679,
          19.769563422091565,
          20.109386284167357,
          20.449789342107508,
          20.790770929047767,
          21.13230647128804,
          21.474350479066715
         ],
         "yaxis": "y"
        },
        {
         "hovertemplate": "continent=Africa<br>year=%{x}<br>mean=%{y}<extra></extra>",
         "legendgroup": "Africa",
         "marker": {
          "color": "#00cc96",
          "symbol": "circle"
         },
         "mode": "markers",
         "name": "Africa",
         "orientation": "v",
         "showlegend": true,
         "type": "scatter",
         "x": [
          1975,
          1976,
          1977,
          1978,
          1979,
          1980,
          1981,
          1982,
          1983,
          1984,
          1985,
          1986,
          1987,
          1988,
          1989,
          1990,
          1991,
          1992,
          1993,
          1994,
          1995,
          1996,
          1997,
          1998,
          1999,
          2000,
          2001,
          2002,
          2003,
          2004,
          2005,
          2006,
          2007,
          2008,
          2009,
          2010,
          2011,
          2012,
          2013,
          2014,
          2015,
          2016
         ],
         "xaxis": "x",
         "y": [
          2.1781818181818187,
          2.3,
          2.4127272727272726,
          2.534545454545454,
          2.6581818181818178,
          2.7818181818181817,
          2.9036363636363647,
          3.0490909090909093,
          3.1818181818181817,
          3.3490909090909087,
          3.5090909090909084,
          3.663636363636363,
          3.829090909090909,
          4.010909090909092,
          4.1836363636363645,
          4.387272727272728,
          4.58,
          4.7709090909090905,
          4.974545454545453,
          5.174545454545456,
          5.365454545454545,
          5.592727272727272,
          5.798181818181819,
          6.0218181818181815,
          6.279999999999998,
          6.514545454545455,
          6.738181818181817,
          6.965454545454545,
          7.2345454545454535,
          7.523636363636362,
          7.763636363636363,
          8.027272727272727,
          8.341818181818182,
          8.632727272727271,
          8.918181818181816,
          9.254545454545454,
          9.549090909090912,
          9.872727272727273,
          10.190909090909091,
          10.532727272727271,
          10.934545454545455,
          11.289090909090909
         ],
         "yaxis": "y"
        },
        {
         "hovertemplate": "<b>LOWESS trendline</b><br><br>continent=Africa<br>year=%{x}<br>mean=%{y} <b>(trend)</b><extra></extra>",
         "legendgroup": "Africa",
         "marker": {
          "color": "#00cc96",
          "symbol": "circle"
         },
         "mode": "lines",
         "name": "Africa",
         "showlegend": false,
         "type": "scatter",
         "x": [
          1975,
          1976,
          1977,
          1978,
          1979,
          1980,
          1981,
          1982,
          1983,
          1984,
          1985,
          1986,
          1987,
          1988,
          1989,
          1990,
          1991,
          1992,
          1993,
          1994,
          1995,
          1996,
          1997,
          1998,
          1999,
          2000,
          2001,
          2002,
          2003,
          2004,
          2005,
          2006,
          2007,
          2008,
          2009,
          2010,
          2011,
          2012,
          2013,
          2014,
          2015,
          2016
         ],
         "xaxis": "x",
         "y": [
          2.0248971813281638,
          2.179513887584187,
          2.334924902701193,
          2.491140968224351,
          2.6481442458691995,
          2.8058948857183683,
          2.9643375941669126,
          3.123408587600011,
          3.2830419564039723,
          3.443171773392191,
          3.6037342260609577,
          3.764679758453809,
          3.9261137368770775,
          4.089116918513071,
          4.2672630190269984,
          4.450600235703022,
          4.639228571336678,
          4.833265933881394,
          5.032721532436862,
          5.237550125619415,
          5.447804499257813,
          5.663614642682089,
          5.885139082720157,
          6.112604510643821,
          6.346165652969209,
          6.585898542900596,
          6.831811719742557,
          7.083843689008679,
          7.341862549898576,
          7.618269824040273,
          7.896527842378152,
          8.175568879364432,
          8.455238991790797,
          8.73555601790811,
          9.01656970909502,
          9.298344082516387,
          9.580953041457706,
          9.864470099215675,
          10.148962758936863,
          10.434483471158142,
          10.721060360131613,
          11.00868410508475
         ],
         "yaxis": "y"
        },
        {
         "hovertemplate": "continent=North America<br>year=%{x}<br>mean=%{y}<extra></extra>",
         "legendgroup": "North America",
         "marker": {
          "color": "#ab63fa",
          "symbol": "circle"
         },
         "mode": "markers",
         "name": "North America",
         "orientation": "v",
         "showlegend": true,
         "type": "scatter",
         "x": [
          1975,
          1976,
          1977,
          1978,
          1979,
          1980,
          1981,
          1982,
          1983,
          1984,
          1985,
          1986,
          1987,
          1988,
          1989,
          1990,
          1991,
          1992,
          1993,
          1994,
          1995,
          1996,
          1997,
          1998,
          1999,
          2000,
          2001,
          2002,
          2003,
          2004,
          2005,
          2006,
          2007,
          2008,
          2009,
          2010,
          2011,
          2012,
          2013,
          2014,
          2015,
          2016
         ],
         "xaxis": "x",
         "y": [
          6.778260869565218,
          7.0260869565217385,
          7.28695652173913,
          7.560869565217391,
          7.839130434782609,
          8.121739130434781,
          8.42608695652174,
          8.734782608695653,
          9.052173913043479,
          9.378260869565217,
          9.704347826086956,
          10.060869565217393,
          10.404347826086955,
          10.773913043478261,
          11.143478260869566,
          11.534782608695652,
          11.930434782608694,
          12.343478260869567,
          12.756521739130436,
          13.173913043478263,
          13.604347826086958,
          14.056521739130435,
          14.521739130434785,
          14.991304347826087,
          15.452173913043483,
          15.93913043478261,
          16.421739130434784,
          16.917391304347824,
          17.421739130434784,
          17.921739130434784,
          18.443478260869565,
          18.952173913043477,
          19.491304347826087,
          20.013043478260872,
          20.552173913043475,
          21.082608695652176,
          21.66521739130435,
          22.213043478260868,
          22.791304347826088,
          23.369565217391305,
          23.969565217391313,
          24.573913043478257
         ],
         "yaxis": "y"
        },
        {
         "hovertemplate": "<b>LOWESS trendline</b><br><br>continent=North America<br>year=%{x}<br>mean=%{y} <b>(trend)</b><extra></extra>",
         "legendgroup": "North America",
         "marker": {
          "color": "#ab63fa",
          "symbol": "circle"
         },
         "mode": "lines",
         "name": "North America",
         "showlegend": false,
         "type": "scatter",
         "x": [
          1975,
          1976,
          1977,
          1978,
          1979,
          1980,
          1981,
          1982,
          1983,
          1984,
          1985,
          1986,
          1987,
          1988,
          1989,
          1990,
          1991,
          1992,
          1993,
          1994,
          1995,
          1996,
          1997,
          1998,
          1999,
          2000,
          2001,
          2002,
          2003,
          2004,
          2005,
          2006,
          2007,
          2008,
          2009,
          2010,
          2011,
          2012,
          2013,
          2014,
          2015,
          2016
         ],
         "xaxis": "x",
         "y": [
          6.484804239870676,
          6.818335205083433,
          7.153232053906884,
          7.4895212497024755,
          7.827182842987892,
          8.16616289201859,
          8.506386761136817,
          8.847771653649538,
          9.190234648933243,
          9.53369716390444,
          9.878085813450094,
          10.223349347103763,
          10.569653135239164,
          10.918541804943462,
          11.294583130221513,
          11.6797759273975,
          12.074334684956236,
          12.478384118987554,
          12.891960308843483,
          13.314997603411268,
          13.747368991332642,
          14.18885703412265,
          14.6391846083735,
          15.098053600715248,
          15.565233420282903,
          16.040529726641243,
          16.523740687956195,
          17.014663900259176,
          17.5130713105582,
          18.031901531289463,
          18.553190290094303,
          19.075432472610593,
          19.59836665991869,
          20.121972734742375,
          20.646276923307653,
          21.17132508372321,
          21.697176721655225,
          22.223899591352694,
          22.751558116024537,
          23.280205807708185,
          23.80987414249845,
          24.340560436479016
         ],
         "yaxis": "y"
        },
        {
         "hovertemplate": "continent=South America<br>year=%{x}<br>mean=%{y}<extra></extra>",
         "legendgroup": "South America",
         "marker": {
          "color": "#FFA15A",
          "symbol": "circle"
         },
         "mode": "markers",
         "name": "South America",
         "orientation": "v",
         "showlegend": true,
         "type": "scatter",
         "x": [
          1975,
          1976,
          1977,
          1978,
          1979,
          1980,
          1981,
          1982,
          1983,
          1984,
          1985,
          1986,
          1987,
          1988,
          1989,
          1990,
          1991,
          1992,
          1993,
          1994,
          1995,
          1996,
          1997,
          1998,
          1999,
          2000,
          2001,
          2002,
          2003,
          2004,
          2005,
          2006,
          2007,
          2008,
          2009,
          2010,
          2011,
          2012,
          2013,
          2014,
          2015,
          2016
         ],
         "xaxis": "x",
         "y": [
          7.341666666666666,
          7.616666666666667,
          7.883333333333334,
          8.191666666666668,
          8.483333333333333,
          8.841666666666669,
          9.175,
          9.483333333333333,
          9.825000000000001,
          10.166666666666668,
          10.516666666666666,
          10.858333333333334,
          11.216666666666667,
          11.566666666666668,
          11.924999999999999,
          12.291666666666666,
          12.66666666666667,
          13.041666666666666,
          13.399999999999999,
          13.775,
          14.158333333333333,
          14.56666666666667,
          14.950000000000001,
          15.366666666666665,
          15.783333333333333,
          16.183333333333334,
          16.625,
          17.05,
          17.483333333333334,
          17.90833333333333,
          18.341666666666665,
          18.783333333333328,
          19.23333333333333,
          19.666666666666668,
          20.125,
          20.575,
          21.041666666666664,
          21.491666666666664,
          21.958333333333332,
          22.45,
          22.933333333333337,
          23.40833333333333
         ],
         "yaxis": "y"
        },
        {
         "hovertemplate": "<b>LOWESS trendline</b><br><br>continent=South America<br>year=%{x}<br>mean=%{y} <b>(trend)</b><extra></extra>",
         "legendgroup": "South America",
         "marker": {
          "color": "#FFA15A",
          "symbol": "circle"
         },
         "mode": "lines",
         "name": "South America",
         "showlegend": false,
         "type": "scatter",
         "x": [
          1975,
          1976,
          1977,
          1978,
          1979,
          1980,
          1981,
          1982,
          1983,
          1984,
          1985,
          1986,
          1987,
          1988,
          1989,
          1990,
          1991,
          1992,
          1993,
          1994,
          1995,
          1996,
          1997,
          1998,
          1999,
          2000,
          2001,
          2002,
          2003,
          2004,
          2005,
          2006,
          2007,
          2008,
          2009,
          2010,
          2011,
          2012,
          2013,
          2014,
          2015,
          2016
         ],
         "xaxis": "x",
         "y": [
          7.145259871315001,
          7.4863723082387645,
          7.828121367300775,
          8.170503326323715,
          8.5134918581785,
          8.857049278113161,
          9.201138409836473,
          9.545723445459355,
          9.890774100517888,
          10.236276166354797,
          10.582240827699335,
          10.92872576717811,
          11.275934690981895,
          11.624682714456256,
          11.985446590505674,
          12.350770091371633,
          12.72081984889755,
          13.09566749624527,
          13.47533013620817,
          13.859816218030227,
          14.249064910918747,
          14.642977849055006,
          15.041529018031289,
          15.44471443898282,
          15.852541650917438,
          16.264992527750632,
          16.68204752502943,
          17.103687986791396,
          17.529885096957187,
          17.96846859179559,
          18.40851747264315,
          18.849191469105023,
          19.29032523649317,
          19.731889422475028,
          20.173884884119712,
          20.61632768796653,
          21.059243338178707,
          21.50266256578344,
          21.946615943219037,
          22.3911307577389,
          22.836224634008214,
          23.281894941627833
         ],
         "yaxis": "y"
        },
        {
         "hovertemplate": "continent=Oceania<br>year=%{x}<br>mean=%{y}<extra></extra>",
         "legendgroup": "Oceania",
         "marker": {
          "color": "#19d3f3",
          "symbol": "circle"
         },
         "mode": "markers",
         "name": "Oceania",
         "orientation": "v",
         "showlegend": true,
         "type": "scatter",
         "x": [
          1975,
          1976,
          1977,
          1978,
          1979,
          1980,
          1981,
          1982,
          1983,
          1984,
          1985,
          1986,
          1987,
          1988,
          1989,
          1990,
          1991,
          1992,
          1993,
          1994,
          1995,
          1996,
          1997,
          1998,
          1999,
          2000,
          2001,
          2002,
          2003,
          2004,
          2005,
          2006,
          2007,
          2008,
          2009,
          2010,
          2011,
          2012,
          2013,
          2014,
          2015,
          2016
         ],
         "xaxis": "x",
         "y": [
          17.8625,
          18.368750000000002,
          18.875,
          19.375000000000004,
          19.887499999999996,
          20.406249999999996,
          20.91875,
          21.45625,
          21.9875,
          22.543750000000003,
          23.099999999999998,
          23.668750000000006,
          24.275,
          24.849999999999998,
          25.437499999999996,
          26.043750000000006,
          26.656249999999996,
          27.26875,
          27.868749999999995,
          28.468750000000004,
          29.075,
          29.681250000000002,
          30.293749999999996,
          30.900000000000006,
          31.5125,
          32.11875,
          32.75,
          33.36875,
          33.974999999999994,
          34.61874999999999,
          35.2375,
          35.86875,
          36.4875,
          37.12500000000001,
          37.73125000000001,
          38.34374999999999,
          38.96875,
          39.5875,
          40.225,
          40.824999999999996,
          41.449999999999996,
          42.06250000000001
         ],
         "yaxis": "y"
        },
        {
         "hovertemplate": "<b>LOWESS trendline</b><br><br>continent=Oceania<br>year=%{x}<br>mean=%{y} <b>(trend)</b><extra></extra>",
         "legendgroup": "Oceania",
         "marker": {
          "color": "#19d3f3",
          "symbol": "circle"
         },
         "mode": "lines",
         "name": "Oceania",
         "showlegend": false,
         "type": "scatter",
         "x": [
          1975,
          1976,
          1977,
          1978,
          1979,
          1980,
          1981,
          1982,
          1983,
          1984,
          1985,
          1986,
          1987,
          1988,
          1989,
          1990,
          1991,
          1992,
          1993,
          1994,
          1995,
          1996,
          1997,
          1998,
          1999,
          2000,
          2001,
          2002,
          2003,
          2004,
          2005,
          2006,
          2007,
          2008,
          2009,
          2010,
          2011,
          2012,
          2013,
          2014,
          2015,
          2016
         ],
         "xaxis": "x",
         "y": [
          17.531729400639783,
          18.105715346777718,
          18.67984778829362,
          19.254151947000448,
          19.828659104584926,
          20.403392574084997,
          20.978332837885468,
          21.55344153083432,
          22.1286869928462,
          22.7040219556643,
          23.279349043340126,
          23.854455245440064,
          24.428831285677216,
          25.0010798014194,
          25.5752728172706,
          26.146105560495208,
          26.71313698821621,
          27.283276267490553,
          27.870074452081358,
          28.473124281916327,
          29.082636650103485,
          29.694355364440312,
          30.30754190819748,
          30.921970744000486,
          31.537405210623398,
          32.153627772102155,
          32.770487060134286,
          33.3878849286839,
          34.00578912248037,
          34.6257046681554,
          35.245612740667184,
          35.86556434409224,
          36.48560142398912,
          37.10573981444234,
          37.72598009993149,
          38.34631352395684,
          38.966728538512804,
          39.58721397352783,
          40.2077590718949,
          40.828353124904844,
          41.44898374667754,
          42.06964010529831
         ],
         "yaxis": "y"
        }
       ],
       "layout": {
        "legend": {
         "title": {
          "text": "continent"
         },
         "tracegroupgap": 0
        },
        "margin": {
         "t": 60
        },
        "template": {
         "data": {
          "bar": [
           {
            "error_x": {
             "color": "#2a3f5f"
            },
            "error_y": {
             "color": "#2a3f5f"
            },
            "marker": {
             "line": {
              "color": "#E5ECF6",
              "width": 0.5
             }
            },
            "type": "bar"
           }
          ],
          "barpolar": [
           {
            "marker": {
             "line": {
              "color": "#E5ECF6",
              "width": 0.5
             }
            },
            "type": "barpolar"
           }
          ],
          "carpet": [
           {
            "aaxis": {
             "endlinecolor": "#2a3f5f",
             "gridcolor": "white",
             "linecolor": "white",
             "minorgridcolor": "white",
             "startlinecolor": "#2a3f5f"
            },
            "baxis": {
             "endlinecolor": "#2a3f5f",
             "gridcolor": "white",
             "linecolor": "white",
             "minorgridcolor": "white",
             "startlinecolor": "#2a3f5f"
            },
            "type": "carpet"
           }
          ],
          "choropleth": [
           {
            "colorbar": {
             "outlinewidth": 0,
             "ticks": ""
            },
            "type": "choropleth"
           }
          ],
          "contour": [
           {
            "colorbar": {
             "outlinewidth": 0,
             "ticks": ""
            },
            "colorscale": [
             [
              0,
              "#0d0887"
             ],
             [
              0.1111111111111111,
              "#46039f"
             ],
             [
              0.2222222222222222,
              "#7201a8"
             ],
             [
              0.3333333333333333,
              "#9c179e"
             ],
             [
              0.4444444444444444,
              "#bd3786"
             ],
             [
              0.5555555555555556,
              "#d8576b"
             ],
             [
              0.6666666666666666,
              "#ed7953"
             ],
             [
              0.7777777777777778,
              "#fb9f3a"
             ],
             [
              0.8888888888888888,
              "#fdca26"
             ],
             [
              1,
              "#f0f921"
             ]
            ],
            "type": "contour"
           }
          ],
          "contourcarpet": [
           {
            "colorbar": {
             "outlinewidth": 0,
             "ticks": ""
            },
            "type": "contourcarpet"
           }
          ],
          "heatmap": [
           {
            "colorbar": {
             "outlinewidth": 0,
             "ticks": ""
            },
            "colorscale": [
             [
              0,
              "#0d0887"
             ],
             [
              0.1111111111111111,
              "#46039f"
             ],
             [
              0.2222222222222222,
              "#7201a8"
             ],
             [
              0.3333333333333333,
              "#9c179e"
             ],
             [
              0.4444444444444444,
              "#bd3786"
             ],
             [
              0.5555555555555556,
              "#d8576b"
             ],
             [
              0.6666666666666666,
              "#ed7953"
             ],
             [
              0.7777777777777778,
              "#fb9f3a"
             ],
             [
              0.8888888888888888,
              "#fdca26"
             ],
             [
              1,
              "#f0f921"
             ]
            ],
            "type": "heatmap"
           }
          ],
          "heatmapgl": [
           {
            "colorbar": {
             "outlinewidth": 0,
             "ticks": ""
            },
            "colorscale": [
             [
              0,
              "#0d0887"
             ],
             [
              0.1111111111111111,
              "#46039f"
             ],
             [
              0.2222222222222222,
              "#7201a8"
             ],
             [
              0.3333333333333333,
              "#9c179e"
             ],
             [
              0.4444444444444444,
              "#bd3786"
             ],
             [
              0.5555555555555556,
              "#d8576b"
             ],
             [
              0.6666666666666666,
              "#ed7953"
             ],
             [
              0.7777777777777778,
              "#fb9f3a"
             ],
             [
              0.8888888888888888,
              "#fdca26"
             ],
             [
              1,
              "#f0f921"
             ]
            ],
            "type": "heatmapgl"
           }
          ],
          "histogram": [
           {
            "marker": {
             "colorbar": {
              "outlinewidth": 0,
              "ticks": ""
             }
            },
            "type": "histogram"
           }
          ],
          "histogram2d": [
           {
            "colorbar": {
             "outlinewidth": 0,
             "ticks": ""
            },
            "colorscale": [
             [
              0,
              "#0d0887"
             ],
             [
              0.1111111111111111,
              "#46039f"
             ],
             [
              0.2222222222222222,
              "#7201a8"
             ],
             [
              0.3333333333333333,
              "#9c179e"
             ],
             [
              0.4444444444444444,
              "#bd3786"
             ],
             [
              0.5555555555555556,
              "#d8576b"
             ],
             [
              0.6666666666666666,
              "#ed7953"
             ],
             [
              0.7777777777777778,
              "#fb9f3a"
             ],
             [
              0.8888888888888888,
              "#fdca26"
             ],
             [
              1,
              "#f0f921"
             ]
            ],
            "type": "histogram2d"
           }
          ],
          "histogram2dcontour": [
           {
            "colorbar": {
             "outlinewidth": 0,
             "ticks": ""
            },
            "colorscale": [
             [
              0,
              "#0d0887"
             ],
             [
              0.1111111111111111,
              "#46039f"
             ],
             [
              0.2222222222222222,
              "#7201a8"
             ],
             [
              0.3333333333333333,
              "#9c179e"
             ],
             [
              0.4444444444444444,
              "#bd3786"
             ],
             [
              0.5555555555555556,
              "#d8576b"
             ],
             [
              0.6666666666666666,
              "#ed7953"
             ],
             [
              0.7777777777777778,
              "#fb9f3a"
             ],
             [
              0.8888888888888888,
              "#fdca26"
             ],
             [
              1,
              "#f0f921"
             ]
            ],
            "type": "histogram2dcontour"
           }
          ],
          "mesh3d": [
           {
            "colorbar": {
             "outlinewidth": 0,
             "ticks": ""
            },
            "type": "mesh3d"
           }
          ],
          "parcoords": [
           {
            "line": {
             "colorbar": {
              "outlinewidth": 0,
              "ticks": ""
             }
            },
            "type": "parcoords"
           }
          ],
          "pie": [
           {
            "automargin": true,
            "type": "pie"
           }
          ],
          "scatter": [
           {
            "marker": {
             "colorbar": {
              "outlinewidth": 0,
              "ticks": ""
             }
            },
            "type": "scatter"
           }
          ],
          "scatter3d": [
           {
            "line": {
             "colorbar": {
              "outlinewidth": 0,
              "ticks": ""
             }
            },
            "marker": {
             "colorbar": {
              "outlinewidth": 0,
              "ticks": ""
             }
            },
            "type": "scatter3d"
           }
          ],
          "scattercarpet": [
           {
            "marker": {
             "colorbar": {
              "outlinewidth": 0,
              "ticks": ""
             }
            },
            "type": "scattercarpet"
           }
          ],
          "scattergeo": [
           {
            "marker": {
             "colorbar": {
              "outlinewidth": 0,
              "ticks": ""
             }
            },
            "type": "scattergeo"
           }
          ],
          "scattergl": [
           {
            "marker": {
             "colorbar": {
              "outlinewidth": 0,
              "ticks": ""
             }
            },
            "type": "scattergl"
           }
          ],
          "scattermapbox": [
           {
            "marker": {
             "colorbar": {
              "outlinewidth": 0,
              "ticks": ""
             }
            },
            "type": "scattermapbox"
           }
          ],
          "scatterpolar": [
           {
            "marker": {
             "colorbar": {
              "outlinewidth": 0,
              "ticks": ""
             }
            },
            "type": "scatterpolar"
           }
          ],
          "scatterpolargl": [
           {
            "marker": {
             "colorbar": {
              "outlinewidth": 0,
              "ticks": ""
             }
            },
            "type": "scatterpolargl"
           }
          ],
          "scatterternary": [
           {
            "marker": {
             "colorbar": {
              "outlinewidth": 0,
              "ticks": ""
             }
            },
            "type": "scatterternary"
           }
          ],
          "surface": [
           {
            "colorbar": {
             "outlinewidth": 0,
             "ticks": ""
            },
            "colorscale": [
             [
              0,
              "#0d0887"
             ],
             [
              0.1111111111111111,
              "#46039f"
             ],
             [
              0.2222222222222222,
              "#7201a8"
             ],
             [
              0.3333333333333333,
              "#9c179e"
             ],
             [
              0.4444444444444444,
              "#bd3786"
             ],
             [
              0.5555555555555556,
              "#d8576b"
             ],
             [
              0.6666666666666666,
              "#ed7953"
             ],
             [
              0.7777777777777778,
              "#fb9f3a"
             ],
             [
              0.8888888888888888,
              "#fdca26"
             ],
             [
              1,
              "#f0f921"
             ]
            ],
            "type": "surface"
           }
          ],
          "table": [
           {
            "cells": {
             "fill": {
              "color": "#EBF0F8"
             },
             "line": {
              "color": "white"
             }
            },
            "header": {
             "fill": {
              "color": "#C8D4E3"
             },
             "line": {
              "color": "white"
             }
            },
            "type": "table"
           }
          ]
         },
         "layout": {
          "annotationdefaults": {
           "arrowcolor": "#2a3f5f",
           "arrowhead": 0,
           "arrowwidth": 1
          },
          "coloraxis": {
           "colorbar": {
            "outlinewidth": 0,
            "ticks": ""
           }
          },
          "colorscale": {
           "diverging": [
            [
             0,
             "#8e0152"
            ],
            [
             0.1,
             "#c51b7d"
            ],
            [
             0.2,
             "#de77ae"
            ],
            [
             0.3,
             "#f1b6da"
            ],
            [
             0.4,
             "#fde0ef"
            ],
            [
             0.5,
             "#f7f7f7"
            ],
            [
             0.6,
             "#e6f5d0"
            ],
            [
             0.7,
             "#b8e186"
            ],
            [
             0.8,
             "#7fbc41"
            ],
            [
             0.9,
             "#4d9221"
            ],
            [
             1,
             "#276419"
            ]
           ],
           "sequential": [
            [
             0,
             "#0d0887"
            ],
            [
             0.1111111111111111,
             "#46039f"
            ],
            [
             0.2222222222222222,
             "#7201a8"
            ],
            [
             0.3333333333333333,
             "#9c179e"
            ],
            [
             0.4444444444444444,
             "#bd3786"
            ],
            [
             0.5555555555555556,
             "#d8576b"
            ],
            [
             0.6666666666666666,
             "#ed7953"
            ],
            [
             0.7777777777777778,
             "#fb9f3a"
            ],
            [
             0.8888888888888888,
             "#fdca26"
            ],
            [
             1,
             "#f0f921"
            ]
           ],
           "sequentialminus": [
            [
             0,
             "#0d0887"
            ],
            [
             0.1111111111111111,
             "#46039f"
            ],
            [
             0.2222222222222222,
             "#7201a8"
            ],
            [
             0.3333333333333333,
             "#9c179e"
            ],
            [
             0.4444444444444444,
             "#bd3786"
            ],
            [
             0.5555555555555556,
             "#d8576b"
            ],
            [
             0.6666666666666666,
             "#ed7953"
            ],
            [
             0.7777777777777778,
             "#fb9f3a"
            ],
            [
             0.8888888888888888,
             "#fdca26"
            ],
            [
             1,
             "#f0f921"
            ]
           ]
          },
          "colorway": [
           "#636efa",
           "#EF553B",
           "#00cc96",
           "#ab63fa",
           "#FFA15A",
           "#19d3f3",
           "#FF6692",
           "#B6E880",
           "#FF97FF",
           "#FECB52"
          ],
          "font": {
           "color": "#2a3f5f"
          },
          "geo": {
           "bgcolor": "white",
           "lakecolor": "white",
           "landcolor": "#E5ECF6",
           "showlakes": true,
           "showland": true,
           "subunitcolor": "white"
          },
          "hoverlabel": {
           "align": "left"
          },
          "hovermode": "closest",
          "mapbox": {
           "style": "light"
          },
          "paper_bgcolor": "white",
          "plot_bgcolor": "#E5ECF6",
          "polar": {
           "angularaxis": {
            "gridcolor": "white",
            "linecolor": "white",
            "ticks": ""
           },
           "bgcolor": "#E5ECF6",
           "radialaxis": {
            "gridcolor": "white",
            "linecolor": "white",
            "ticks": ""
           }
          },
          "scene": {
           "xaxis": {
            "backgroundcolor": "#E5ECF6",
            "gridcolor": "white",
            "gridwidth": 2,
            "linecolor": "white",
            "showbackground": true,
            "ticks": "",
            "zerolinecolor": "white"
           },
           "yaxis": {
            "backgroundcolor": "#E5ECF6",
            "gridcolor": "white",
            "gridwidth": 2,
            "linecolor": "white",
            "showbackground": true,
            "ticks": "",
            "zerolinecolor": "white"
           },
           "zaxis": {
            "backgroundcolor": "#E5ECF6",
            "gridcolor": "white",
            "gridwidth": 2,
            "linecolor": "white",
            "showbackground": true,
            "ticks": "",
            "zerolinecolor": "white"
           }
          },
          "shapedefaults": {
           "line": {
            "color": "#2a3f5f"
           }
          },
          "ternary": {
           "aaxis": {
            "gridcolor": "white",
            "linecolor": "white",
            "ticks": ""
           },
           "baxis": {
            "gridcolor": "white",
            "linecolor": "white",
            "ticks": ""
           },
           "bgcolor": "#E5ECF6",
           "caxis": {
            "gridcolor": "white",
            "linecolor": "white",
            "ticks": ""
           }
          },
          "title": {
           "x": 0.05
          },
          "xaxis": {
           "automargin": true,
           "gridcolor": "white",
           "linecolor": "white",
           "ticks": "",
           "title": {
            "standoff": 15
           },
           "zerolinecolor": "white",
           "zerolinewidth": 2
          },
          "yaxis": {
           "automargin": true,
           "gridcolor": "white",
           "linecolor": "white",
           "ticks": "",
           "title": {
            "standoff": 15
           },
           "zerolinecolor": "white",
           "zerolinewidth": 2
          }
         }
        },
        "xaxis": {
         "anchor": "y",
         "domain": [
          0,
          1
         ],
         "title": {
          "text": "year"
         }
        },
        "yaxis": {
         "anchor": "x",
         "domain": [
          0,
          1
         ],
         "title": {
          "text": "mean"
         }
        }
       }
      },
      "text/html": [
       "<div>                            <div id=\"f53c9610-05f4-475d-8533-327f22eb659b\" class=\"plotly-graph-div\" style=\"height:525px; width:100%;\"></div>            <script type=\"text/javascript\">                require([\"plotly\"], function(Plotly) {                    window.PLOTLYENV=window.PLOTLYENV || {};                                    if (document.getElementById(\"f53c9610-05f4-475d-8533-327f22eb659b\")) {                    Plotly.newPlot(                        \"f53c9610-05f4-475d-8533-327f22eb659b\",                        [{\"hovertemplate\": \"continent=Asia<br>year=%{x}<br>mean=%{y}<extra></extra>\", \"legendgroup\": \"Asia\", \"marker\": {\"color\": \"#636efa\", \"symbol\": \"circle\"}, \"mode\": \"markers\", \"name\": \"Asia\", \"orientation\": \"v\", \"showlegend\": true, \"type\": \"scatter\", \"x\": [1975, 1976, 1977, 1978, 1979, 1980, 1981, 1982, 1983, 1984, 1985, 1986, 1987, 1988, 1989, 1990, 1991, 1992, 1993, 1994, 1995, 1996, 1997, 1998, 1999, 2000, 2001, 2002, 2003, 2004, 2005, 2006, 2007, 2008, 2009, 2010, 2011, 2012, 2013, 2014, 2015, 2016], \"xaxis\": \"x\", \"y\": [4.810638297872341, 4.982978723404255, 5.161702127659575, 5.336170212765958, 5.517021276595743, 5.712765957446808, 5.914893617021278, 6.123404255319151, 6.319148936170214, 6.546808510638297, 6.768085106382979, 7.000000000000001, 7.229787234042555, 7.465957446808511, 7.695744680851067, 7.923404255319151, 8.153191489361703, 8.387234042553192, 8.619148936170209, 8.848936170212763, 9.100000000000001, 9.35744680851064, 9.623404255319146, 9.889361702127658, 10.163829787234047, 10.442553191489361, 10.71914893617021, 11.006382978723403, 11.302127659574467, 11.606382978723405, 11.917021276595742, 12.244680851063828, 12.591489361702129, 12.946808510638295, 13.32127659574468, 13.697872340425532, 14.09574468085106, 14.487234042553194, 14.919148936170217, 15.336170212765953, 15.782978723404254, 16.229787234042558], \"yaxis\": \"y\"}, {\"hovertemplate\": \"<b>LOWESS trendline</b><br><br>continent=Asia<br>year=%{x}<br>mean=%{y} <b>(trend)</b><extra></extra>\", \"legendgroup\": \"Asia\", \"marker\": {\"color\": \"#636efa\", \"symbol\": \"circle\"}, \"mode\": \"lines\", \"name\": \"Asia\", \"showlegend\": false, \"type\": \"scatter\", \"x\": [1975, 1976, 1977, 1978, 1979, 1980, 1981, 1982, 1983, 1984, 1985, 1986, 1987, 1988, 1989, 1990, 1991, 1992, 1993, 1994, 1995, 1996, 1997, 1998, 1999, 2000, 2001, 2002, 2003, 2004, 2005, 2006, 2007, 2008, 2009, 2010, 2011, 2012, 2013, 2014, 2015, 2016], \"xaxis\": \"x\", \"y\": [4.6761834530314905, 4.889923021889808, 5.104209390359787, 5.3190305024113655, 5.534351376591896, 5.750123616924817, 5.966294174437623, 6.182811487912567, 6.399630424134471, 6.6167176807589705, 6.834062272490904, 7.051700890721038, 7.269850959853447, 7.489518560112621, 7.71921454237226, 7.9527276255105, 8.190060950251091, 8.431197966173439, 8.676161310105181, 8.925100345535213, 9.178372632153927, 9.436590384846827, 9.700611253898789, 9.971387592512029, 10.249699734586605, 10.535902181252984, 10.82984251850045, 11.130981688856876, 11.438587224598061, 11.765967387440684, 12.093896527722597, 12.422251407197892, 12.751178354062517, 13.080826209985398, 13.411337280219804, 13.742854418223601, 14.075517282866038, 14.409450595743715, 14.744745443853157, 15.081440914099732, 15.419506833470326, 15.758848090778992], \"yaxis\": \"y\"}, {\"hovertemplate\": \"continent=Europe<br>year=%{x}<br>mean=%{y}<extra></extra>\", \"legendgroup\": \"Europe\", \"marker\": {\"color\": \"#EF553B\", \"symbol\": \"circle\"}, \"mode\": \"markers\", \"name\": \"Europe\", \"orientation\": \"v\", \"showlegend\": true, \"type\": \"scatter\", \"x\": [1975, 1976, 1977, 1978, 1979, 1980, 1981, 1982, 1983, 1984, 1985, 1986, 1987, 1988, 1989, 1990, 1991, 1992, 1993, 1994, 1995, 1996, 1997, 1998, 1999, 2000, 2001, 2002, 2003, 2004, 2005, 2006, 2007, 2008, 2009, 2010, 2011, 2012, 2013, 2014, 2015, 2016], \"xaxis\": \"x\", \"y\": [8.759523809523808, 9.030952380952382, 9.292857142857141, 9.561904761904763, 9.845238095238097, 10.126190476190477, 10.407142857142857, 10.69285714285714, 10.976190476190476, 11.269047619047615, 11.547619047619047, 11.833333333333334, 12.119047619047617, 12.416666666666666, 12.70714285714286, 13.000000000000004, 13.304761904761904, 13.599999999999998, 13.888095238095238, 14.195238095238091, 14.49761904761905, 14.795238095238098, 15.097619047619045, 15.404761904761907, 15.709523809523809, 16.028571428571432, 16.34523809523809, 16.671428571428574, 16.990476190476187, 17.326190476190483, 17.671428571428567, 18.00952380952381, 18.364285714285717, 18.71428571428571, 19.06904761904762, 19.41904761904762, 19.78333333333334, 20.14285714285714, 20.509523809523813, 20.885714285714286, 21.26666666666667, 21.659523809523808], \"yaxis\": \"y\"}, {\"hovertemplate\": \"<b>LOWESS trendline</b><br><br>continent=Europe<br>year=%{x}<br>mean=%{y} <b>(trend)</b><extra></extra>\", \"legendgroup\": \"Europe\", \"marker\": {\"color\": \"#EF553B\", \"symbol\": \"circle\"}, \"mode\": \"lines\", \"name\": \"Europe\", \"showlegend\": false, \"type\": \"scatter\", \"x\": [1975, 1976, 1977, 1978, 1979, 1980, 1981, 1982, 1983, 1984, 1985, 1986, 1987, 1988, 1989, 1990, 1991, 1992, 1993, 1994, 1995, 1996, 1997, 1998, 1999, 2000, 2001, 2002, 2003, 2004, 2005, 2006, 2007, 2008, 2009, 2010, 2011, 2012, 2013, 2014, 2015, 2016], \"xaxis\": \"x\", \"y\": [8.704892794329075, 8.990778939768559, 9.276880623517105, 9.56319446215623, 9.849710327149529, 10.136415689916634, 10.423297168712466, 10.710342111653983, 10.997540490497194, 11.284886447724997, 11.572380601328817, 11.86003676266366, 12.147927832306998, 12.436397556272519, 12.72879724344671, 13.02266797307583, 13.318103162408967, 13.615259373321056, 13.914380460065914, 14.215772525538316, 14.519837014509195, 14.826997842663744, 15.137579504638854, 15.451689734525251, 15.76921313719173, 16.089876299603763, 16.413340747089542, 16.739282246901713, 17.067458761331157, 17.404224641979507, 17.741085243376894, 18.078157656361093, 18.41555187035507, 18.75333991346369, 19.09157532721153, 19.43030347387679, 19.769563422091565, 20.109386284167357, 20.449789342107508, 20.790770929047767, 21.13230647128804, 21.474350479066715], \"yaxis\": \"y\"}, {\"hovertemplate\": \"continent=Africa<br>year=%{x}<br>mean=%{y}<extra></extra>\", \"legendgroup\": \"Africa\", \"marker\": {\"color\": \"#00cc96\", \"symbol\": \"circle\"}, \"mode\": \"markers\", \"name\": \"Africa\", \"orientation\": \"v\", \"showlegend\": true, \"type\": \"scatter\", \"x\": [1975, 1976, 1977, 1978, 1979, 1980, 1981, 1982, 1983, 1984, 1985, 1986, 1987, 1988, 1989, 1990, 1991, 1992, 1993, 1994, 1995, 1996, 1997, 1998, 1999, 2000, 2001, 2002, 2003, 2004, 2005, 2006, 2007, 2008, 2009, 2010, 2011, 2012, 2013, 2014, 2015, 2016], \"xaxis\": \"x\", \"y\": [2.1781818181818187, 2.3, 2.4127272727272726, 2.534545454545454, 2.6581818181818178, 2.7818181818181817, 2.9036363636363647, 3.0490909090909093, 3.1818181818181817, 3.3490909090909087, 3.5090909090909084, 3.663636363636363, 3.829090909090909, 4.010909090909092, 4.1836363636363645, 4.387272727272728, 4.58, 4.7709090909090905, 4.974545454545453, 5.174545454545456, 5.365454545454545, 5.592727272727272, 5.798181818181819, 6.0218181818181815, 6.279999999999998, 6.514545454545455, 6.738181818181817, 6.965454545454545, 7.2345454545454535, 7.523636363636362, 7.763636363636363, 8.027272727272727, 8.341818181818182, 8.632727272727271, 8.918181818181816, 9.254545454545454, 9.549090909090912, 9.872727272727273, 10.190909090909091, 10.532727272727271, 10.934545454545455, 11.289090909090909], \"yaxis\": \"y\"}, {\"hovertemplate\": \"<b>LOWESS trendline</b><br><br>continent=Africa<br>year=%{x}<br>mean=%{y} <b>(trend)</b><extra></extra>\", \"legendgroup\": \"Africa\", \"marker\": {\"color\": \"#00cc96\", \"symbol\": \"circle\"}, \"mode\": \"lines\", \"name\": \"Africa\", \"showlegend\": false, \"type\": \"scatter\", \"x\": [1975, 1976, 1977, 1978, 1979, 1980, 1981, 1982, 1983, 1984, 1985, 1986, 1987, 1988, 1989, 1990, 1991, 1992, 1993, 1994, 1995, 1996, 1997, 1998, 1999, 2000, 2001, 2002, 2003, 2004, 2005, 2006, 2007, 2008, 2009, 2010, 2011, 2012, 2013, 2014, 2015, 2016], \"xaxis\": \"x\", \"y\": [2.0248971813281638, 2.179513887584187, 2.334924902701193, 2.491140968224351, 2.6481442458691995, 2.8058948857183683, 2.9643375941669126, 3.123408587600011, 3.2830419564039723, 3.443171773392191, 3.6037342260609577, 3.764679758453809, 3.9261137368770775, 4.089116918513071, 4.2672630190269984, 4.450600235703022, 4.639228571336678, 4.833265933881394, 5.032721532436862, 5.237550125619415, 5.447804499257813, 5.663614642682089, 5.885139082720157, 6.112604510643821, 6.346165652969209, 6.585898542900596, 6.831811719742557, 7.083843689008679, 7.341862549898576, 7.618269824040273, 7.896527842378152, 8.175568879364432, 8.455238991790797, 8.73555601790811, 9.01656970909502, 9.298344082516387, 9.580953041457706, 9.864470099215675, 10.148962758936863, 10.434483471158142, 10.721060360131613, 11.00868410508475], \"yaxis\": \"y\"}, {\"hovertemplate\": \"continent=North America<br>year=%{x}<br>mean=%{y}<extra></extra>\", \"legendgroup\": \"North America\", \"marker\": {\"color\": \"#ab63fa\", \"symbol\": \"circle\"}, \"mode\": \"markers\", \"name\": \"North America\", \"orientation\": \"v\", \"showlegend\": true, \"type\": \"scatter\", \"x\": [1975, 1976, 1977, 1978, 1979, 1980, 1981, 1982, 1983, 1984, 1985, 1986, 1987, 1988, 1989, 1990, 1991, 1992, 1993, 1994, 1995, 1996, 1997, 1998, 1999, 2000, 2001, 2002, 2003, 2004, 2005, 2006, 2007, 2008, 2009, 2010, 2011, 2012, 2013, 2014, 2015, 2016], \"xaxis\": \"x\", \"y\": [6.778260869565218, 7.0260869565217385, 7.28695652173913, 7.560869565217391, 7.839130434782609, 8.121739130434781, 8.42608695652174, 8.734782608695653, 9.052173913043479, 9.378260869565217, 9.704347826086956, 10.060869565217393, 10.404347826086955, 10.773913043478261, 11.143478260869566, 11.534782608695652, 11.930434782608694, 12.343478260869567, 12.756521739130436, 13.173913043478263, 13.604347826086958, 14.056521739130435, 14.521739130434785, 14.991304347826087, 15.452173913043483, 15.93913043478261, 16.421739130434784, 16.917391304347824, 17.421739130434784, 17.921739130434784, 18.443478260869565, 18.952173913043477, 19.491304347826087, 20.013043478260872, 20.552173913043475, 21.082608695652176, 21.66521739130435, 22.213043478260868, 22.791304347826088, 23.369565217391305, 23.969565217391313, 24.573913043478257], \"yaxis\": \"y\"}, {\"hovertemplate\": \"<b>LOWESS trendline</b><br><br>continent=North America<br>year=%{x}<br>mean=%{y} <b>(trend)</b><extra></extra>\", \"legendgroup\": \"North America\", \"marker\": {\"color\": \"#ab63fa\", \"symbol\": \"circle\"}, \"mode\": \"lines\", \"name\": \"North America\", \"showlegend\": false, \"type\": \"scatter\", \"x\": [1975, 1976, 1977, 1978, 1979, 1980, 1981, 1982, 1983, 1984, 1985, 1986, 1987, 1988, 1989, 1990, 1991, 1992, 1993, 1994, 1995, 1996, 1997, 1998, 1999, 2000, 2001, 2002, 2003, 2004, 2005, 2006, 2007, 2008, 2009, 2010, 2011, 2012, 2013, 2014, 2015, 2016], \"xaxis\": \"x\", \"y\": [6.484804239870676, 6.818335205083433, 7.153232053906884, 7.4895212497024755, 7.827182842987892, 8.16616289201859, 8.506386761136817, 8.847771653649538, 9.190234648933243, 9.53369716390444, 9.878085813450094, 10.223349347103763, 10.569653135239164, 10.918541804943462, 11.294583130221513, 11.6797759273975, 12.074334684956236, 12.478384118987554, 12.891960308843483, 13.314997603411268, 13.747368991332642, 14.18885703412265, 14.6391846083735, 15.098053600715248, 15.565233420282903, 16.040529726641243, 16.523740687956195, 17.014663900259176, 17.5130713105582, 18.031901531289463, 18.553190290094303, 19.075432472610593, 19.59836665991869, 20.121972734742375, 20.646276923307653, 21.17132508372321, 21.697176721655225, 22.223899591352694, 22.751558116024537, 23.280205807708185, 23.80987414249845, 24.340560436479016], \"yaxis\": \"y\"}, {\"hovertemplate\": \"continent=South America<br>year=%{x}<br>mean=%{y}<extra></extra>\", \"legendgroup\": \"South America\", \"marker\": {\"color\": \"#FFA15A\", \"symbol\": \"circle\"}, \"mode\": \"markers\", \"name\": \"South America\", \"orientation\": \"v\", \"showlegend\": true, \"type\": \"scatter\", \"x\": [1975, 1976, 1977, 1978, 1979, 1980, 1981, 1982, 1983, 1984, 1985, 1986, 1987, 1988, 1989, 1990, 1991, 1992, 1993, 1994, 1995, 1996, 1997, 1998, 1999, 2000, 2001, 2002, 2003, 2004, 2005, 2006, 2007, 2008, 2009, 2010, 2011, 2012, 2013, 2014, 2015, 2016], \"xaxis\": \"x\", \"y\": [7.341666666666666, 7.616666666666667, 7.883333333333334, 8.191666666666668, 8.483333333333333, 8.841666666666669, 9.175, 9.483333333333333, 9.825000000000001, 10.166666666666668, 10.516666666666666, 10.858333333333334, 11.216666666666667, 11.566666666666668, 11.924999999999999, 12.291666666666666, 12.66666666666667, 13.041666666666666, 13.399999999999999, 13.775, 14.158333333333333, 14.56666666666667, 14.950000000000001, 15.366666666666665, 15.783333333333333, 16.183333333333334, 16.625, 17.05, 17.483333333333334, 17.90833333333333, 18.341666666666665, 18.783333333333328, 19.23333333333333, 19.666666666666668, 20.125, 20.575, 21.041666666666664, 21.491666666666664, 21.958333333333332, 22.45, 22.933333333333337, 23.40833333333333], \"yaxis\": \"y\"}, {\"hovertemplate\": \"<b>LOWESS trendline</b><br><br>continent=South America<br>year=%{x}<br>mean=%{y} <b>(trend)</b><extra></extra>\", \"legendgroup\": \"South America\", \"marker\": {\"color\": \"#FFA15A\", \"symbol\": \"circle\"}, \"mode\": \"lines\", \"name\": \"South America\", \"showlegend\": false, \"type\": \"scatter\", \"x\": [1975, 1976, 1977, 1978, 1979, 1980, 1981, 1982, 1983, 1984, 1985, 1986, 1987, 1988, 1989, 1990, 1991, 1992, 1993, 1994, 1995, 1996, 1997, 1998, 1999, 2000, 2001, 2002, 2003, 2004, 2005, 2006, 2007, 2008, 2009, 2010, 2011, 2012, 2013, 2014, 2015, 2016], \"xaxis\": \"x\", \"y\": [7.145259871315001, 7.4863723082387645, 7.828121367300775, 8.170503326323715, 8.5134918581785, 8.857049278113161, 9.201138409836473, 9.545723445459355, 9.890774100517888, 10.236276166354797, 10.582240827699335, 10.92872576717811, 11.275934690981895, 11.624682714456256, 11.985446590505674, 12.350770091371633, 12.72081984889755, 13.09566749624527, 13.47533013620817, 13.859816218030227, 14.249064910918747, 14.642977849055006, 15.041529018031289, 15.44471443898282, 15.852541650917438, 16.264992527750632, 16.68204752502943, 17.103687986791396, 17.529885096957187, 17.96846859179559, 18.40851747264315, 18.849191469105023, 19.29032523649317, 19.731889422475028, 20.173884884119712, 20.61632768796653, 21.059243338178707, 21.50266256578344, 21.946615943219037, 22.3911307577389, 22.836224634008214, 23.281894941627833], \"yaxis\": \"y\"}, {\"hovertemplate\": \"continent=Oceania<br>year=%{x}<br>mean=%{y}<extra></extra>\", \"legendgroup\": \"Oceania\", \"marker\": {\"color\": \"#19d3f3\", \"symbol\": \"circle\"}, \"mode\": \"markers\", \"name\": \"Oceania\", \"orientation\": \"v\", \"showlegend\": true, \"type\": \"scatter\", \"x\": [1975, 1976, 1977, 1978, 1979, 1980, 1981, 1982, 1983, 1984, 1985, 1986, 1987, 1988, 1989, 1990, 1991, 1992, 1993, 1994, 1995, 1996, 1997, 1998, 1999, 2000, 2001, 2002, 2003, 2004, 2005, 2006, 2007, 2008, 2009, 2010, 2011, 2012, 2013, 2014, 2015, 2016], \"xaxis\": \"x\", \"y\": [17.8625, 18.368750000000002, 18.875, 19.375000000000004, 19.887499999999996, 20.406249999999996, 20.91875, 21.45625, 21.9875, 22.543750000000003, 23.099999999999998, 23.668750000000006, 24.275, 24.849999999999998, 25.437499999999996, 26.043750000000006, 26.656249999999996, 27.26875, 27.868749999999995, 28.468750000000004, 29.075, 29.681250000000002, 30.293749999999996, 30.900000000000006, 31.5125, 32.11875, 32.75, 33.36875, 33.974999999999994, 34.61874999999999, 35.2375, 35.86875, 36.4875, 37.12500000000001, 37.73125000000001, 38.34374999999999, 38.96875, 39.5875, 40.225, 40.824999999999996, 41.449999999999996, 42.06250000000001], \"yaxis\": \"y\"}, {\"hovertemplate\": \"<b>LOWESS trendline</b><br><br>continent=Oceania<br>year=%{x}<br>mean=%{y} <b>(trend)</b><extra></extra>\", \"legendgroup\": \"Oceania\", \"marker\": {\"color\": \"#19d3f3\", \"symbol\": \"circle\"}, \"mode\": \"lines\", \"name\": \"Oceania\", \"showlegend\": false, \"type\": \"scatter\", \"x\": [1975, 1976, 1977, 1978, 1979, 1980, 1981, 1982, 1983, 1984, 1985, 1986, 1987, 1988, 1989, 1990, 1991, 1992, 1993, 1994, 1995, 1996, 1997, 1998, 1999, 2000, 2001, 2002, 2003, 2004, 2005, 2006, 2007, 2008, 2009, 2010, 2011, 2012, 2013, 2014, 2015, 2016], \"xaxis\": \"x\", \"y\": [17.531729400639783, 18.105715346777718, 18.67984778829362, 19.254151947000448, 19.828659104584926, 20.403392574084997, 20.978332837885468, 21.55344153083432, 22.1286869928462, 22.7040219556643, 23.279349043340126, 23.854455245440064, 24.428831285677216, 25.0010798014194, 25.5752728172706, 26.146105560495208, 26.71313698821621, 27.283276267490553, 27.870074452081358, 28.473124281916327, 29.082636650103485, 29.694355364440312, 30.30754190819748, 30.921970744000486, 31.537405210623398, 32.153627772102155, 32.770487060134286, 33.3878849286839, 34.00578912248037, 34.6257046681554, 35.245612740667184, 35.86556434409224, 36.48560142398912, 37.10573981444234, 37.72598009993149, 38.34631352395684, 38.966728538512804, 39.58721397352783, 40.2077590718949, 40.828353124904844, 41.44898374667754, 42.06964010529831], \"yaxis\": \"y\"}],                        {\"legend\": {\"title\": {\"text\": \"continent\"}, \"tracegroupgap\": 0}, \"margin\": {\"t\": 60}, \"template\": {\"data\": {\"bar\": [{\"error_x\": {\"color\": \"#2a3f5f\"}, \"error_y\": {\"color\": \"#2a3f5f\"}, \"marker\": {\"line\": {\"color\": \"#E5ECF6\", \"width\": 0.5}}, \"type\": \"bar\"}], \"barpolar\": [{\"marker\": {\"line\": {\"color\": \"#E5ECF6\", \"width\": 0.5}}, \"type\": \"barpolar\"}], \"carpet\": [{\"aaxis\": {\"endlinecolor\": \"#2a3f5f\", \"gridcolor\": \"white\", \"linecolor\": \"white\", \"minorgridcolor\": \"white\", \"startlinecolor\": \"#2a3f5f\"}, \"baxis\": {\"endlinecolor\": \"#2a3f5f\", \"gridcolor\": \"white\", \"linecolor\": \"white\", \"minorgridcolor\": \"white\", \"startlinecolor\": \"#2a3f5f\"}, \"type\": \"carpet\"}], \"choropleth\": [{\"colorbar\": {\"outlinewidth\": 0, \"ticks\": \"\"}, \"type\": \"choropleth\"}], \"contour\": [{\"colorbar\": {\"outlinewidth\": 0, \"ticks\": \"\"}, \"colorscale\": [[0.0, \"#0d0887\"], [0.1111111111111111, \"#46039f\"], [0.2222222222222222, \"#7201a8\"], [0.3333333333333333, \"#9c179e\"], [0.4444444444444444, \"#bd3786\"], [0.5555555555555556, \"#d8576b\"], [0.6666666666666666, \"#ed7953\"], [0.7777777777777778, \"#fb9f3a\"], [0.8888888888888888, \"#fdca26\"], [1.0, \"#f0f921\"]], \"type\": \"contour\"}], \"contourcarpet\": [{\"colorbar\": {\"outlinewidth\": 0, \"ticks\": \"\"}, \"type\": \"contourcarpet\"}], \"heatmap\": [{\"colorbar\": {\"outlinewidth\": 0, \"ticks\": \"\"}, \"colorscale\": [[0.0, \"#0d0887\"], [0.1111111111111111, \"#46039f\"], [0.2222222222222222, \"#7201a8\"], [0.3333333333333333, \"#9c179e\"], [0.4444444444444444, \"#bd3786\"], [0.5555555555555556, \"#d8576b\"], [0.6666666666666666, \"#ed7953\"], [0.7777777777777778, \"#fb9f3a\"], [0.8888888888888888, \"#fdca26\"], [1.0, \"#f0f921\"]], \"type\": \"heatmap\"}], \"heatmapgl\": [{\"colorbar\": {\"outlinewidth\": 0, \"ticks\": \"\"}, \"colorscale\": [[0.0, \"#0d0887\"], [0.1111111111111111, \"#46039f\"], [0.2222222222222222, \"#7201a8\"], [0.3333333333333333, \"#9c179e\"], [0.4444444444444444, \"#bd3786\"], [0.5555555555555556, \"#d8576b\"], [0.6666666666666666, \"#ed7953\"], [0.7777777777777778, \"#fb9f3a\"], [0.8888888888888888, \"#fdca26\"], [1.0, \"#f0f921\"]], \"type\": \"heatmapgl\"}], \"histogram\": [{\"marker\": {\"colorbar\": {\"outlinewidth\": 0, \"ticks\": \"\"}}, \"type\": \"histogram\"}], \"histogram2d\": [{\"colorbar\": {\"outlinewidth\": 0, \"ticks\": \"\"}, \"colorscale\": [[0.0, \"#0d0887\"], [0.1111111111111111, \"#46039f\"], [0.2222222222222222, \"#7201a8\"], [0.3333333333333333, \"#9c179e\"], [0.4444444444444444, \"#bd3786\"], [0.5555555555555556, \"#d8576b\"], [0.6666666666666666, \"#ed7953\"], [0.7777777777777778, \"#fb9f3a\"], [0.8888888888888888, \"#fdca26\"], [1.0, \"#f0f921\"]], \"type\": \"histogram2d\"}], \"histogram2dcontour\": [{\"colorbar\": {\"outlinewidth\": 0, \"ticks\": \"\"}, \"colorscale\": [[0.0, \"#0d0887\"], [0.1111111111111111, \"#46039f\"], [0.2222222222222222, \"#7201a8\"], [0.3333333333333333, \"#9c179e\"], [0.4444444444444444, \"#bd3786\"], [0.5555555555555556, \"#d8576b\"], [0.6666666666666666, \"#ed7953\"], [0.7777777777777778, \"#fb9f3a\"], [0.8888888888888888, \"#fdca26\"], [1.0, \"#f0f921\"]], \"type\": \"histogram2dcontour\"}], \"mesh3d\": [{\"colorbar\": {\"outlinewidth\": 0, \"ticks\": \"\"}, \"type\": \"mesh3d\"}], \"parcoords\": [{\"line\": {\"colorbar\": {\"outlinewidth\": 0, \"ticks\": \"\"}}, \"type\": \"parcoords\"}], \"pie\": [{\"automargin\": true, \"type\": \"pie\"}], \"scatter\": [{\"marker\": {\"colorbar\": {\"outlinewidth\": 0, \"ticks\": \"\"}}, \"type\": \"scatter\"}], \"scatter3d\": [{\"line\": {\"colorbar\": {\"outlinewidth\": 0, \"ticks\": \"\"}}, \"marker\": {\"colorbar\": {\"outlinewidth\": 0, \"ticks\": \"\"}}, \"type\": \"scatter3d\"}], \"scattercarpet\": [{\"marker\": {\"colorbar\": {\"outlinewidth\": 0, \"ticks\": \"\"}}, \"type\": \"scattercarpet\"}], \"scattergeo\": [{\"marker\": {\"colorbar\": {\"outlinewidth\": 0, \"ticks\": \"\"}}, \"type\": \"scattergeo\"}], \"scattergl\": [{\"marker\": {\"colorbar\": {\"outlinewidth\": 0, \"ticks\": \"\"}}, \"type\": \"scattergl\"}], \"scattermapbox\": [{\"marker\": {\"colorbar\": {\"outlinewidth\": 0, \"ticks\": \"\"}}, \"type\": \"scattermapbox\"}], \"scatterpolar\": [{\"marker\": {\"colorbar\": {\"outlinewidth\": 0, \"ticks\": \"\"}}, \"type\": \"scatterpolar\"}], \"scatterpolargl\": [{\"marker\": {\"colorbar\": {\"outlinewidth\": 0, \"ticks\": \"\"}}, \"type\": \"scatterpolargl\"}], \"scatterternary\": [{\"marker\": {\"colorbar\": {\"outlinewidth\": 0, \"ticks\": \"\"}}, \"type\": \"scatterternary\"}], \"surface\": [{\"colorbar\": {\"outlinewidth\": 0, \"ticks\": \"\"}, \"colorscale\": [[0.0, \"#0d0887\"], [0.1111111111111111, \"#46039f\"], [0.2222222222222222, \"#7201a8\"], [0.3333333333333333, \"#9c179e\"], [0.4444444444444444, \"#bd3786\"], [0.5555555555555556, \"#d8576b\"], [0.6666666666666666, \"#ed7953\"], [0.7777777777777778, \"#fb9f3a\"], [0.8888888888888888, \"#fdca26\"], [1.0, \"#f0f921\"]], \"type\": \"surface\"}], \"table\": [{\"cells\": {\"fill\": {\"color\": \"#EBF0F8\"}, \"line\": {\"color\": \"white\"}}, \"header\": {\"fill\": {\"color\": \"#C8D4E3\"}, \"line\": {\"color\": \"white\"}}, \"type\": \"table\"}]}, \"layout\": {\"annotationdefaults\": {\"arrowcolor\": \"#2a3f5f\", \"arrowhead\": 0, \"arrowwidth\": 1}, \"coloraxis\": {\"colorbar\": {\"outlinewidth\": 0, \"ticks\": \"\"}}, \"colorscale\": {\"diverging\": [[0, \"#8e0152\"], [0.1, \"#c51b7d\"], [0.2, \"#de77ae\"], [0.3, \"#f1b6da\"], [0.4, \"#fde0ef\"], [0.5, \"#f7f7f7\"], [0.6, \"#e6f5d0\"], [0.7, \"#b8e186\"], [0.8, \"#7fbc41\"], [0.9, \"#4d9221\"], [1, \"#276419\"]], \"sequential\": [[0.0, \"#0d0887\"], [0.1111111111111111, \"#46039f\"], [0.2222222222222222, \"#7201a8\"], [0.3333333333333333, \"#9c179e\"], [0.4444444444444444, \"#bd3786\"], [0.5555555555555556, \"#d8576b\"], [0.6666666666666666, \"#ed7953\"], [0.7777777777777778, \"#fb9f3a\"], [0.8888888888888888, \"#fdca26\"], [1.0, \"#f0f921\"]], \"sequentialminus\": [[0.0, \"#0d0887\"], [0.1111111111111111, \"#46039f\"], [0.2222222222222222, \"#7201a8\"], [0.3333333333333333, \"#9c179e\"], [0.4444444444444444, \"#bd3786\"], [0.5555555555555556, \"#d8576b\"], [0.6666666666666666, \"#ed7953\"], [0.7777777777777778, \"#fb9f3a\"], [0.8888888888888888, \"#fdca26\"], [1.0, \"#f0f921\"]]}, \"colorway\": [\"#636efa\", \"#EF553B\", \"#00cc96\", \"#ab63fa\", \"#FFA15A\", \"#19d3f3\", \"#FF6692\", \"#B6E880\", \"#FF97FF\", \"#FECB52\"], \"font\": {\"color\": \"#2a3f5f\"}, \"geo\": {\"bgcolor\": \"white\", \"lakecolor\": \"white\", \"landcolor\": \"#E5ECF6\", \"showlakes\": true, \"showland\": true, \"subunitcolor\": \"white\"}, \"hoverlabel\": {\"align\": \"left\"}, \"hovermode\": \"closest\", \"mapbox\": {\"style\": \"light\"}, \"paper_bgcolor\": \"white\", \"plot_bgcolor\": \"#E5ECF6\", \"polar\": {\"angularaxis\": {\"gridcolor\": \"white\", \"linecolor\": \"white\", \"ticks\": \"\"}, \"bgcolor\": \"#E5ECF6\", \"radialaxis\": {\"gridcolor\": \"white\", \"linecolor\": \"white\", \"ticks\": \"\"}}, \"scene\": {\"xaxis\": {\"backgroundcolor\": \"#E5ECF6\", \"gridcolor\": \"white\", \"gridwidth\": 2, \"linecolor\": \"white\", \"showbackground\": true, \"ticks\": \"\", \"zerolinecolor\": \"white\"}, \"yaxis\": {\"backgroundcolor\": \"#E5ECF6\", \"gridcolor\": \"white\", \"gridwidth\": 2, \"linecolor\": \"white\", \"showbackground\": true, \"ticks\": \"\", \"zerolinecolor\": \"white\"}, \"zaxis\": {\"backgroundcolor\": \"#E5ECF6\", \"gridcolor\": \"white\", \"gridwidth\": 2, \"linecolor\": \"white\", \"showbackground\": true, \"ticks\": \"\", \"zerolinecolor\": \"white\"}}, \"shapedefaults\": {\"line\": {\"color\": \"#2a3f5f\"}}, \"ternary\": {\"aaxis\": {\"gridcolor\": \"white\", \"linecolor\": \"white\", \"ticks\": \"\"}, \"baxis\": {\"gridcolor\": \"white\", \"linecolor\": \"white\", \"ticks\": \"\"}, \"bgcolor\": \"#E5ECF6\", \"caxis\": {\"gridcolor\": \"white\", \"linecolor\": \"white\", \"ticks\": \"\"}}, \"title\": {\"x\": 0.05}, \"xaxis\": {\"automargin\": true, \"gridcolor\": \"white\", \"linecolor\": \"white\", \"ticks\": \"\", \"title\": {\"standoff\": 15}, \"zerolinecolor\": \"white\", \"zerolinewidth\": 2}, \"yaxis\": {\"automargin\": true, \"gridcolor\": \"white\", \"linecolor\": \"white\", \"ticks\": \"\", \"title\": {\"standoff\": 15}, \"zerolinecolor\": \"white\", \"zerolinewidth\": 2}}}, \"xaxis\": {\"anchor\": \"y\", \"domain\": [0.0, 1.0], \"title\": {\"text\": \"year\"}}, \"yaxis\": {\"anchor\": \"x\", \"domain\": [0.0, 1.0], \"title\": {\"text\": \"mean\"}}},                        {\"responsive\": true}                    ).then(function(){\n",
       "                            \n",
       "var gd = document.getElementById('f53c9610-05f4-475d-8533-327f22eb659b');\n",
       "var x = new MutationObserver(function (mutations, observer) {{\n",
       "        var display = window.getComputedStyle(gd).display;\n",
       "        if (!display || display === 'none') {{\n",
       "            console.log([gd, 'removed!']);\n",
       "            Plotly.purge(gd);\n",
       "            observer.disconnect();\n",
       "        }}\n",
       "}});\n",
       "\n",
       "// Listen for the removal of the full notebook cells\n",
       "var notebookContainer = gd.closest('#notebook-container');\n",
       "if (notebookContainer) {{\n",
       "    x.observe(notebookContainer, {childList: true});\n",
       "}}\n",
       "\n",
       "// Listen for the clearing of the current output cell\n",
       "var outputEl = gd.closest('.output');\n",
       "if (outputEl) {{\n",
       "    x.observe(outputEl, {childList: true});\n",
       "}}\n",
       "\n",
       "                        })                };                });            </script>        </div>"
      ]
     },
     "metadata": {},
     "output_type": "display_data"
    }
   ],
   "source": [
    "import plotly.express as px\n",
    "\n",
    "data = obesity.query(\"sex == 'B'\")\n",
    "data2 = data.copy()\n",
    "\n",
    "data2['mean'] = data.groupby([\"continent\", \"year\"]).obesity.transform('mean')\n",
    "data2 = data2[[\"continent\", \"year\", \"mean\"]].drop_duplicates()\n",
    "\n",
    "scatterplot = px.scatter(data2, x='year', y='mean', color='continent', trendline='lowess')\n",
    "scatterplot"
   ]
  },
  {
   "cell_type": "code",
   "execution_count": null,
   "metadata": {},
   "outputs": [],
   "source": []
  },
  {
   "cell_type": "code",
   "execution_count": null,
   "metadata": {},
   "outputs": [],
   "source": []
  },
  {
   "cell_type": "code",
   "execution_count": null,
   "metadata": {},
   "outputs": [],
   "source": []
  },
  {
   "cell_type": "code",
   "execution_count": null,
   "metadata": {},
   "outputs": [],
   "source": []
  },
  {
   "cell_type": "code",
   "execution_count": null,
   "metadata": {},
   "outputs": [],
   "source": []
  }
 ],
 "metadata": {
  "kernelspec": {
   "display_name": "Python 3.7.3 64-bit",
   "language": "python",
   "name": "python37364bitdf3977b893c14c1aaa0babbf3b7cc8fc"
  },
  "language_info": {
   "codemirror_mode": {
    "name": "ipython",
    "version": 3
   },
   "file_extension": ".py",
   "mimetype": "text/x-python",
   "name": "python",
   "nbconvert_exporter": "python",
   "pygments_lexer": "ipython3",
   "version": "3.7.3"
  }
 },
 "nbformat": 4,
 "nbformat_minor": 2
}
